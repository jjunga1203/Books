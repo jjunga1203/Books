{
  "nbformat": 4,
  "nbformat_minor": 0,
  "metadata": {
    "colab": {
      "provenance": [],
      "mount_file_id": "1vSE6CIEwQgBgn1sAuzSZWjRP8nrzQjjR",
      "authorship_tag": "ABX9TyPZzMAYRptqm/awcTYOuJ9m",
      "include_colab_link": true
    },
    "kernelspec": {
      "name": "python3",
      "display_name": "Python 3"
    },
    "language_info": {
      "name": "python"
    }
  },
  "cells": [
    {
      "cell_type": "markdown",
      "metadata": {
        "id": "view-in-github",
        "colab_type": "text"
      },
      "source": [
        "<a href=\"https://colab.research.google.com/github/jjunga1203/Books/blob/master/5_day_%EC%8B%9C%EA%B3%84%EC%97%B4%EB%8D%B0%EC%9D%B4%ED%84%B0%EB%B6%84%EC%84%9D.ipynb\" target=\"_parent\"><img src=\"https://colab.research.google.com/assets/colab-badge.svg\" alt=\"Open In Colab\"/></a>"
      ]
    },
    {
      "cell_type": "markdown",
      "source": [
        "### 코인 값 예측"
      ],
      "metadata": {
        "id": "rcRcuDYJaN2Q"
      }
    },
    {
      "cell_type": "code",
      "execution_count": 1,
      "metadata": {
        "id": "QtQK_vtE6bAs"
      },
      "outputs": [],
      "source": [
        "file_name = './BTC_USD_2019-02-28_2020-02-27-CoinDesk.csv'"
      ]
    },
    {
      "cell_type": "code",
      "source": [
        "ls"
      ],
      "metadata": {
        "colab": {
          "base_uri": "https://localhost:8080/"
        },
        "id": "T3lv4m8oHx3e",
        "outputId": "16b31f56-afc2-4d65-90df-e7612d844c74"
      },
      "execution_count": 2,
      "outputs": [
        {
          "output_type": "stream",
          "name": "stdout",
          "text": [
            "BTC_USD_2019-02-28_2020-02-27-CoinDesk.csv  \u001b[0m\u001b[01;34mdrive\u001b[0m/  \u001b[01;34msample_data\u001b[0m/\n"
          ]
        }
      ]
    },
    {
      "cell_type": "code",
      "source": [
        "import numpy as np\n",
        "import pandas as pd\n",
        "import matplotlib.pyplot as plt\n"
      ],
      "metadata": {
        "id": "NGpfYctEHypE"
      },
      "execution_count": 3,
      "outputs": []
    },
    {
      "cell_type": "code",
      "source": [
        "!head ./BTC_USD_2019-02-28_2020-02-27-CoinDesk.csv"
      ],
      "metadata": {
        "colab": {
          "base_uri": "https://localhost:8080/"
        },
        "id": "5M5QkDsNIEHd",
        "outputId": "74a184b3-99e9-4e0b-efab-566db9be711c"
      },
      "execution_count": 5,
      "outputs": [
        {
          "output_type": "stream",
          "name": "stdout",
          "text": [
            "Currency,Date,Closing Price (USD),24h Open (USD),24h High (USD),24h Low (USD)\r\n",
            "BTC,2019-02-28,3772.9363353275,3796.6372843084,3824.1658793727,3666.5240164294\r\n",
            "BTC,2019-03-01,3799.678542951,3773.4414607526,3879.2311846694,3753.8000224646\r\n",
            "BTC,2019-03-02,3811.6119793671,3799.3670260062,3840.0448230745,3788.9184983301\r\n",
            "BTC,2019-03-03,3804.4191701095,3806.6915127875,3819.1943561235,3759.4092164743\r\n",
            "BTC,2019-03-04,3782.6641011218,3807.8457559152,3818.6954813471,3766.2420482277\r\n",
            "BTC,2019-03-05,3689.8628931904,3783.3550634445,3804.3536162349,3663.4777433591\r\n",
            "BTC,2019-03-06,3832.0808847342,3701.0498710337,3866.7187042421,3688.6971538467\r\n",
            "BTC,2019-03-07,3848.9563696825,3832.5924290751,3881.9657697745,3802.516053637\r\n",
            "BTC,2019-03-08,3859.8399833296,3848.9563673107,3890.7454923564,3827.6703034796\r\n"
          ]
        }
      ]
    },
    {
      "cell_type": "code",
      "source": [
        "coin_data = pd.read_csv(file_name, header=0) # header=0은 첫번째 줄을 필드명으로 하겠다"
      ],
      "metadata": {
        "id": "9-NkM8sHIScV"
      },
      "execution_count": 8,
      "outputs": []
    },
    {
      "cell_type": "code",
      "source": [
        "coin_data"
      ],
      "metadata": {
        "colab": {
          "base_uri": "https://localhost:8080/",
          "height": 423
        },
        "id": "gsnL3eY4IkH1",
        "outputId": "34345a14-a843-4427-f46c-18273d116951"
      },
      "execution_count": 9,
      "outputs": [
        {
          "output_type": "execute_result",
          "data": {
            "text/plain": [
              "    Currency        Date  Closing Price (USD)  24h Open (USD)  24h High (USD)  \\\n",
              "0        BTC  2019-02-28          3772.936335     3796.637284     3824.165879   \n",
              "1        BTC  2019-03-01          3799.678543     3773.441461     3879.231185   \n",
              "2        BTC  2019-03-02          3811.611979     3799.367026     3840.044823   \n",
              "3        BTC  2019-03-03          3804.419170     3806.691513     3819.194356   \n",
              "4        BTC  2019-03-04          3782.664101     3807.845756     3818.695481   \n",
              "..       ...         ...                  ...             ...             ...   \n",
              "360      BTC  2020-02-24          9919.551448     9689.085992    10008.540472   \n",
              "361      BTC  2020-02-25          9640.469505     9921.048562    10008.378491   \n",
              "362      BTC  2020-02-26          9392.869629     9640.468562     9679.595090   \n",
              "363      BTC  2020-02-27          8787.978363     9392.868579     9393.864137   \n",
              "364      BTC  2020-02-28          8784.995352     8790.336853     8977.585565   \n",
              "\n",
              "     24h Low (USD)  \n",
              "0      3666.524016  \n",
              "1      3753.800022  \n",
              "2      3788.918498  \n",
              "3      3759.409216  \n",
              "4      3766.242048  \n",
              "..             ...  \n",
              "360    9666.519497  \n",
              "361    9480.185942  \n",
              "362    9251.115834  \n",
              "363    8626.935746  \n",
              "364    8530.496379  \n",
              "\n",
              "[365 rows x 6 columns]"
            ],
            "text/html": [
              "\n",
              "  <div id=\"df-fb948fe9-81c0-4f3a-a3ba-76d70cc49a84\" class=\"colab-df-container\">\n",
              "    <div>\n",
              "<style scoped>\n",
              "    .dataframe tbody tr th:only-of-type {\n",
              "        vertical-align: middle;\n",
              "    }\n",
              "\n",
              "    .dataframe tbody tr th {\n",
              "        vertical-align: top;\n",
              "    }\n",
              "\n",
              "    .dataframe thead th {\n",
              "        text-align: right;\n",
              "    }\n",
              "</style>\n",
              "<table border=\"1\" class=\"dataframe\">\n",
              "  <thead>\n",
              "    <tr style=\"text-align: right;\">\n",
              "      <th></th>\n",
              "      <th>Currency</th>\n",
              "      <th>Date</th>\n",
              "      <th>Closing Price (USD)</th>\n",
              "      <th>24h Open (USD)</th>\n",
              "      <th>24h High (USD)</th>\n",
              "      <th>24h Low (USD)</th>\n",
              "    </tr>\n",
              "  </thead>\n",
              "  <tbody>\n",
              "    <tr>\n",
              "      <th>0</th>\n",
              "      <td>BTC</td>\n",
              "      <td>2019-02-28</td>\n",
              "      <td>3772.936335</td>\n",
              "      <td>3796.637284</td>\n",
              "      <td>3824.165879</td>\n",
              "      <td>3666.524016</td>\n",
              "    </tr>\n",
              "    <tr>\n",
              "      <th>1</th>\n",
              "      <td>BTC</td>\n",
              "      <td>2019-03-01</td>\n",
              "      <td>3799.678543</td>\n",
              "      <td>3773.441461</td>\n",
              "      <td>3879.231185</td>\n",
              "      <td>3753.800022</td>\n",
              "    </tr>\n",
              "    <tr>\n",
              "      <th>2</th>\n",
              "      <td>BTC</td>\n",
              "      <td>2019-03-02</td>\n",
              "      <td>3811.611979</td>\n",
              "      <td>3799.367026</td>\n",
              "      <td>3840.044823</td>\n",
              "      <td>3788.918498</td>\n",
              "    </tr>\n",
              "    <tr>\n",
              "      <th>3</th>\n",
              "      <td>BTC</td>\n",
              "      <td>2019-03-03</td>\n",
              "      <td>3804.419170</td>\n",
              "      <td>3806.691513</td>\n",
              "      <td>3819.194356</td>\n",
              "      <td>3759.409216</td>\n",
              "    </tr>\n",
              "    <tr>\n",
              "      <th>4</th>\n",
              "      <td>BTC</td>\n",
              "      <td>2019-03-04</td>\n",
              "      <td>3782.664101</td>\n",
              "      <td>3807.845756</td>\n",
              "      <td>3818.695481</td>\n",
              "      <td>3766.242048</td>\n",
              "    </tr>\n",
              "    <tr>\n",
              "      <th>...</th>\n",
              "      <td>...</td>\n",
              "      <td>...</td>\n",
              "      <td>...</td>\n",
              "      <td>...</td>\n",
              "      <td>...</td>\n",
              "      <td>...</td>\n",
              "    </tr>\n",
              "    <tr>\n",
              "      <th>360</th>\n",
              "      <td>BTC</td>\n",
              "      <td>2020-02-24</td>\n",
              "      <td>9919.551448</td>\n",
              "      <td>9689.085992</td>\n",
              "      <td>10008.540472</td>\n",
              "      <td>9666.519497</td>\n",
              "    </tr>\n",
              "    <tr>\n",
              "      <th>361</th>\n",
              "      <td>BTC</td>\n",
              "      <td>2020-02-25</td>\n",
              "      <td>9640.469505</td>\n",
              "      <td>9921.048562</td>\n",
              "      <td>10008.378491</td>\n",
              "      <td>9480.185942</td>\n",
              "    </tr>\n",
              "    <tr>\n",
              "      <th>362</th>\n",
              "      <td>BTC</td>\n",
              "      <td>2020-02-26</td>\n",
              "      <td>9392.869629</td>\n",
              "      <td>9640.468562</td>\n",
              "      <td>9679.595090</td>\n",
              "      <td>9251.115834</td>\n",
              "    </tr>\n",
              "    <tr>\n",
              "      <th>363</th>\n",
              "      <td>BTC</td>\n",
              "      <td>2020-02-27</td>\n",
              "      <td>8787.978363</td>\n",
              "      <td>9392.868579</td>\n",
              "      <td>9393.864137</td>\n",
              "      <td>8626.935746</td>\n",
              "    </tr>\n",
              "    <tr>\n",
              "      <th>364</th>\n",
              "      <td>BTC</td>\n",
              "      <td>2020-02-28</td>\n",
              "      <td>8784.995352</td>\n",
              "      <td>8790.336853</td>\n",
              "      <td>8977.585565</td>\n",
              "      <td>8530.496379</td>\n",
              "    </tr>\n",
              "  </tbody>\n",
              "</table>\n",
              "<p>365 rows × 6 columns</p>\n",
              "</div>\n",
              "    <div class=\"colab-df-buttons\">\n",
              "\n",
              "  <div class=\"colab-df-container\">\n",
              "    <button class=\"colab-df-convert\" onclick=\"convertToInteractive('df-fb948fe9-81c0-4f3a-a3ba-76d70cc49a84')\"\n",
              "            title=\"Convert this dataframe to an interactive table.\"\n",
              "            style=\"display:none;\">\n",
              "\n",
              "  <svg xmlns=\"http://www.w3.org/2000/svg\" height=\"24px\" viewBox=\"0 -960 960 960\">\n",
              "    <path d=\"M120-120v-720h720v720H120Zm60-500h600v-160H180v160Zm220 220h160v-160H400v160Zm0 220h160v-160H400v160ZM180-400h160v-160H180v160Zm440 0h160v-160H620v160ZM180-180h160v-160H180v160Zm440 0h160v-160H620v160Z\"/>\n",
              "  </svg>\n",
              "    </button>\n",
              "\n",
              "  <style>\n",
              "    .colab-df-container {\n",
              "      display:flex;\n",
              "      gap: 12px;\n",
              "    }\n",
              "\n",
              "    .colab-df-convert {\n",
              "      background-color: #E8F0FE;\n",
              "      border: none;\n",
              "      border-radius: 50%;\n",
              "      cursor: pointer;\n",
              "      display: none;\n",
              "      fill: #1967D2;\n",
              "      height: 32px;\n",
              "      padding: 0 0 0 0;\n",
              "      width: 32px;\n",
              "    }\n",
              "\n",
              "    .colab-df-convert:hover {\n",
              "      background-color: #E2EBFA;\n",
              "      box-shadow: 0px 1px 2px rgba(60, 64, 67, 0.3), 0px 1px 3px 1px rgba(60, 64, 67, 0.15);\n",
              "      fill: #174EA6;\n",
              "    }\n",
              "\n",
              "    .colab-df-buttons div {\n",
              "      margin-bottom: 4px;\n",
              "    }\n",
              "\n",
              "    [theme=dark] .colab-df-convert {\n",
              "      background-color: #3B4455;\n",
              "      fill: #D2E3FC;\n",
              "    }\n",
              "\n",
              "    [theme=dark] .colab-df-convert:hover {\n",
              "      background-color: #434B5C;\n",
              "      box-shadow: 0px 1px 3px 1px rgba(0, 0, 0, 0.15);\n",
              "      filter: drop-shadow(0px 1px 2px rgba(0, 0, 0, 0.3));\n",
              "      fill: #FFFFFF;\n",
              "    }\n",
              "  </style>\n",
              "\n",
              "    <script>\n",
              "      const buttonEl =\n",
              "        document.querySelector('#df-fb948fe9-81c0-4f3a-a3ba-76d70cc49a84 button.colab-df-convert');\n",
              "      buttonEl.style.display =\n",
              "        google.colab.kernel.accessAllowed ? 'block' : 'none';\n",
              "\n",
              "      async function convertToInteractive(key) {\n",
              "        const element = document.querySelector('#df-fb948fe9-81c0-4f3a-a3ba-76d70cc49a84');\n",
              "        const dataTable =\n",
              "          await google.colab.kernel.invokeFunction('convertToInteractive',\n",
              "                                                    [key], {});\n",
              "        if (!dataTable) return;\n",
              "\n",
              "        const docLinkHtml = 'Like what you see? Visit the ' +\n",
              "          '<a target=\"_blank\" href=https://colab.research.google.com/notebooks/data_table.ipynb>data table notebook</a>'\n",
              "          + ' to learn more about interactive tables.';\n",
              "        element.innerHTML = '';\n",
              "        dataTable['output_type'] = 'display_data';\n",
              "        await google.colab.output.renderOutput(dataTable, element);\n",
              "        const docLink = document.createElement('div');\n",
              "        docLink.innerHTML = docLinkHtml;\n",
              "        element.appendChild(docLink);\n",
              "      }\n",
              "    </script>\n",
              "  </div>\n",
              "\n",
              "\n",
              "<div id=\"df-47d7f657-05fd-41e6-b93e-7ecf7ad529f7\">\n",
              "  <button class=\"colab-df-quickchart\" onclick=\"quickchart('df-47d7f657-05fd-41e6-b93e-7ecf7ad529f7')\"\n",
              "            title=\"Suggest charts\"\n",
              "            style=\"display:none;\">\n",
              "\n",
              "<svg xmlns=\"http://www.w3.org/2000/svg\" height=\"24px\"viewBox=\"0 0 24 24\"\n",
              "     width=\"24px\">\n",
              "    <g>\n",
              "        <path d=\"M19 3H5c-1.1 0-2 .9-2 2v14c0 1.1.9 2 2 2h14c1.1 0 2-.9 2-2V5c0-1.1-.9-2-2-2zM9 17H7v-7h2v7zm4 0h-2V7h2v10zm4 0h-2v-4h2v4z\"/>\n",
              "    </g>\n",
              "</svg>\n",
              "  </button>\n",
              "\n",
              "<style>\n",
              "  .colab-df-quickchart {\n",
              "      --bg-color: #E8F0FE;\n",
              "      --fill-color: #1967D2;\n",
              "      --hover-bg-color: #E2EBFA;\n",
              "      --hover-fill-color: #174EA6;\n",
              "      --disabled-fill-color: #AAA;\n",
              "      --disabled-bg-color: #DDD;\n",
              "  }\n",
              "\n",
              "  [theme=dark] .colab-df-quickchart {\n",
              "      --bg-color: #3B4455;\n",
              "      --fill-color: #D2E3FC;\n",
              "      --hover-bg-color: #434B5C;\n",
              "      --hover-fill-color: #FFFFFF;\n",
              "      --disabled-bg-color: #3B4455;\n",
              "      --disabled-fill-color: #666;\n",
              "  }\n",
              "\n",
              "  .colab-df-quickchart {\n",
              "    background-color: var(--bg-color);\n",
              "    border: none;\n",
              "    border-radius: 50%;\n",
              "    cursor: pointer;\n",
              "    display: none;\n",
              "    fill: var(--fill-color);\n",
              "    height: 32px;\n",
              "    padding: 0;\n",
              "    width: 32px;\n",
              "  }\n",
              "\n",
              "  .colab-df-quickchart:hover {\n",
              "    background-color: var(--hover-bg-color);\n",
              "    box-shadow: 0 1px 2px rgba(60, 64, 67, 0.3), 0 1px 3px 1px rgba(60, 64, 67, 0.15);\n",
              "    fill: var(--button-hover-fill-color);\n",
              "  }\n",
              "\n",
              "  .colab-df-quickchart-complete:disabled,\n",
              "  .colab-df-quickchart-complete:disabled:hover {\n",
              "    background-color: var(--disabled-bg-color);\n",
              "    fill: var(--disabled-fill-color);\n",
              "    box-shadow: none;\n",
              "  }\n",
              "\n",
              "  .colab-df-spinner {\n",
              "    border: 2px solid var(--fill-color);\n",
              "    border-color: transparent;\n",
              "    border-bottom-color: var(--fill-color);\n",
              "    animation:\n",
              "      spin 1s steps(1) infinite;\n",
              "  }\n",
              "\n",
              "  @keyframes spin {\n",
              "    0% {\n",
              "      border-color: transparent;\n",
              "      border-bottom-color: var(--fill-color);\n",
              "      border-left-color: var(--fill-color);\n",
              "    }\n",
              "    20% {\n",
              "      border-color: transparent;\n",
              "      border-left-color: var(--fill-color);\n",
              "      border-top-color: var(--fill-color);\n",
              "    }\n",
              "    30% {\n",
              "      border-color: transparent;\n",
              "      border-left-color: var(--fill-color);\n",
              "      border-top-color: var(--fill-color);\n",
              "      border-right-color: var(--fill-color);\n",
              "    }\n",
              "    40% {\n",
              "      border-color: transparent;\n",
              "      border-right-color: var(--fill-color);\n",
              "      border-top-color: var(--fill-color);\n",
              "    }\n",
              "    60% {\n",
              "      border-color: transparent;\n",
              "      border-right-color: var(--fill-color);\n",
              "    }\n",
              "    80% {\n",
              "      border-color: transparent;\n",
              "      border-right-color: var(--fill-color);\n",
              "      border-bottom-color: var(--fill-color);\n",
              "    }\n",
              "    90% {\n",
              "      border-color: transparent;\n",
              "      border-bottom-color: var(--fill-color);\n",
              "    }\n",
              "  }\n",
              "</style>\n",
              "\n",
              "  <script>\n",
              "    async function quickchart(key) {\n",
              "      const quickchartButtonEl =\n",
              "        document.querySelector('#' + key + ' button');\n",
              "      quickchartButtonEl.disabled = true;  // To prevent multiple clicks.\n",
              "      quickchartButtonEl.classList.add('colab-df-spinner');\n",
              "      try {\n",
              "        const charts = await google.colab.kernel.invokeFunction(\n",
              "            'suggestCharts', [key], {});\n",
              "      } catch (error) {\n",
              "        console.error('Error during call to suggestCharts:', error);\n",
              "      }\n",
              "      quickchartButtonEl.classList.remove('colab-df-spinner');\n",
              "      quickchartButtonEl.classList.add('colab-df-quickchart-complete');\n",
              "    }\n",
              "    (() => {\n",
              "      let quickchartButtonEl =\n",
              "        document.querySelector('#df-47d7f657-05fd-41e6-b93e-7ecf7ad529f7 button');\n",
              "      quickchartButtonEl.style.display =\n",
              "        google.colab.kernel.accessAllowed ? 'block' : 'none';\n",
              "    })();\n",
              "  </script>\n",
              "</div>\n",
              "\n",
              "  <div id=\"id_b70a424d-74ee-431d-92d8-03798c0815cb\">\n",
              "    <style>\n",
              "      .colab-df-generate {\n",
              "        background-color: #E8F0FE;\n",
              "        border: none;\n",
              "        border-radius: 50%;\n",
              "        cursor: pointer;\n",
              "        display: none;\n",
              "        fill: #1967D2;\n",
              "        height: 32px;\n",
              "        padding: 0 0 0 0;\n",
              "        width: 32px;\n",
              "      }\n",
              "\n",
              "      .colab-df-generate:hover {\n",
              "        background-color: #E2EBFA;\n",
              "        box-shadow: 0px 1px 2px rgba(60, 64, 67, 0.3), 0px 1px 3px 1px rgba(60, 64, 67, 0.15);\n",
              "        fill: #174EA6;\n",
              "      }\n",
              "\n",
              "      [theme=dark] .colab-df-generate {\n",
              "        background-color: #3B4455;\n",
              "        fill: #D2E3FC;\n",
              "      }\n",
              "\n",
              "      [theme=dark] .colab-df-generate:hover {\n",
              "        background-color: #434B5C;\n",
              "        box-shadow: 0px 1px 3px 1px rgba(0, 0, 0, 0.15);\n",
              "        filter: drop-shadow(0px 1px 2px rgba(0, 0, 0, 0.3));\n",
              "        fill: #FFFFFF;\n",
              "      }\n",
              "    </style>\n",
              "    <button class=\"colab-df-generate\" onclick=\"generateWithVariable('coin_data')\"\n",
              "            title=\"Generate code using this dataframe.\"\n",
              "            style=\"display:none;\">\n",
              "\n",
              "  <svg xmlns=\"http://www.w3.org/2000/svg\" height=\"24px\"viewBox=\"0 0 24 24\"\n",
              "       width=\"24px\">\n",
              "    <path d=\"M7,19H8.4L18.45,9,17,7.55,7,17.6ZM5,21V16.75L18.45,3.32a2,2,0,0,1,2.83,0l1.4,1.43a1.91,1.91,0,0,1,.58,1.4,1.91,1.91,0,0,1-.58,1.4L9.25,21ZM18.45,9,17,7.55Zm-12,3A5.31,5.31,0,0,0,4.9,8.1,5.31,5.31,0,0,0,1,6.5,5.31,5.31,0,0,0,4.9,4.9,5.31,5.31,0,0,0,6.5,1,5.31,5.31,0,0,0,8.1,4.9,5.31,5.31,0,0,0,12,6.5,5.46,5.46,0,0,0,6.5,12Z\"/>\n",
              "  </svg>\n",
              "    </button>\n",
              "    <script>\n",
              "      (() => {\n",
              "      const buttonEl =\n",
              "        document.querySelector('#id_b70a424d-74ee-431d-92d8-03798c0815cb button.colab-df-generate');\n",
              "      buttonEl.style.display =\n",
              "        google.colab.kernel.accessAllowed ? 'block' : 'none';\n",
              "\n",
              "      buttonEl.onclick = () => {\n",
              "        google.colab.notebook.generateWithVariable('coin_data');\n",
              "      }\n",
              "      })();\n",
              "    </script>\n",
              "  </div>\n",
              "\n",
              "    </div>\n",
              "  </div>\n"
            ],
            "application/vnd.google.colaboratory.intrinsic+json": {
              "type": "dataframe",
              "variable_name": "coin_data",
              "summary": "{\n  \"name\": \"coin_data\",\n  \"rows\": 365,\n  \"fields\": [\n    {\n      \"column\": \"Currency\",\n      \"properties\": {\n        \"dtype\": \"category\",\n        \"num_unique_values\": 1,\n        \"samples\": [\n          \"BTC\"\n        ],\n        \"semantic_type\": \"\",\n        \"description\": \"\"\n      }\n    },\n    {\n      \"column\": \"Date\",\n      \"properties\": {\n        \"dtype\": \"object\",\n        \"num_unique_values\": 365,\n        \"samples\": [\n          \"2019-09-09\"\n        ],\n        \"semantic_type\": \"\",\n        \"description\": \"\"\n      }\n    },\n    {\n      \"column\": \"Closing Price (USD)\",\n      \"properties\": {\n        \"dtype\": \"number\",\n        \"std\": 2167.8900691824183,\n        \"min\": 3689.8628931904,\n        \"max\": 12575.904067439,\n        \"num_unique_values\": 365,\n        \"samples\": [\n          10402.7965306911\n        ],\n        \"semantic_type\": \"\",\n        \"description\": \"\"\n      }\n    },\n    {\n      \"column\": \"24h Open (USD)\",\n      \"properties\": {\n        \"dtype\": \"number\",\n        \"std\": 2180.47571283013,\n        \"min\": 3701.0498710337,\n        \"max\": 12585.2419743944,\n        \"num_unique_values\": 365,\n        \"samples\": [\n          10485.4097238908\n        ],\n        \"semantic_type\": \"\",\n        \"description\": \"\"\n      }\n    },\n    {\n      \"column\": \"24h High (USD)\",\n      \"properties\": {\n        \"dtype\": \"number\",\n        \"std\": 2262.4641044718287,\n        \"min\": 3804.3536162349,\n        \"max\": 13879.2377057928,\n        \"num_unique_values\": 365,\n        \"samples\": [\n          10595.1955635918\n        ],\n        \"semantic_type\": \"\",\n        \"description\": \"\"\n      }\n    },\n    {\n      \"column\": \"24h Low (USD)\",\n      \"properties\": {\n        \"dtype\": \"number\",\n        \"std\": 2075.9131808288253,\n        \"min\": 3663.4777433591,\n        \"max\": 12127.712182121,\n        \"num_unique_values\": 365,\n        \"samples\": [\n          10244.5825763984\n        ],\n        \"semantic_type\": \"\",\n        \"description\": \"\"\n      }\n    }\n  ]\n}"
            }
          },
          "metadata": {},
          "execution_count": 9
        }
      ]
    },
    {
      "cell_type": "code",
      "source": [
        "seq = coin_data[['Closing Price (USD)']].to_numpy()   # 모델에 들어갈 데이터가 2개 이상일 경우를 대비하여 처음부터 [[]] 이렇게 가져온다."
      ],
      "metadata": {
        "id": "MvsRLX7ZIuu9"
      },
      "execution_count": 15,
      "outputs": []
    },
    {
      "cell_type": "code",
      "source": [
        "seq.shape"
      ],
      "metadata": {
        "colab": {
          "base_uri": "https://localhost:8080/"
        },
        "id": "SYrH0v7DI1D9",
        "outputId": "5c23edab-e432-4c6e-e958-9869d36f71f1"
      },
      "execution_count": 17,
      "outputs": [
        {
          "output_type": "execute_result",
          "data": {
            "text/plain": [
              "(365, 1)"
            ]
          },
          "metadata": {},
          "execution_count": 17
        }
      ]
    },
    {
      "cell_type": "code",
      "source": [
        "seq[:3]"
      ],
      "metadata": {
        "colab": {
          "base_uri": "https://localhost:8080/"
        },
        "id": "OqYFs3KfI4bs",
        "outputId": "4a22c0b3-1797-4451-9b25-109812cc2096"
      },
      "execution_count": 18,
      "outputs": [
        {
          "output_type": "execute_result",
          "data": {
            "text/plain": [
              "array([[3772.93633533],\n",
              "       [3799.67854295],\n",
              "       [3811.61197937]])"
            ]
          },
          "metadata": {},
          "execution_count": 18
        }
      ]
    },
    {
      "cell_type": "code",
      "source": [
        "w = 7 # 윈도우 사이즈 7\n",
        "h = 1 # 수평선 계수 (바로 다음날 예측)"
      ],
      "metadata": {
        "id": "phEqpK-qJXLl"
      },
      "execution_count": 20,
      "outputs": []
    },
    {
      "cell_type": "code",
      "source": [
        "def get_sample(seq, w, h):\n",
        "  result_x = []\n",
        "  result_y = []\n",
        "  for i in range(len(seq)-w-h+1):\n",
        "    result_x.append(seq[i:i+w])\n",
        "    result_y.append(seq[i+w][0])\n",
        "  return np.array(result_x), np.array(result_y)\n"
      ],
      "metadata": {
        "id": "QirskVZDKEd9"
      },
      "execution_count": 101,
      "outputs": []
    },
    {
      "cell_type": "code",
      "source": [
        "samples, preds = get_sample(seq, w, h)"
      ],
      "metadata": {
        "id": "ysakB6JLK9c1"
      },
      "execution_count": 102,
      "outputs": []
    },
    {
      "cell_type": "code",
      "source": [
        "def seq2dataset(seq, w, h):\n",
        "  X=[]; Y=[]\n",
        "  for i in range(len(seq)-(w+h)+1):\n",
        "    x=seq[i:i+w]\n",
        "    y=seq[i+w+h-1][0]\n",
        "    X.append(x); Y.append(y)\n",
        "  return np.array(X), np.array(Y)\n"
      ],
      "metadata": {
        "id": "4CQbnedqLG5k"
      },
      "execution_count": 109,
      "outputs": []
    },
    {
      "cell_type": "code",
      "source": [
        "X, Y = seq2dataset(seq, w, h)"
      ],
      "metadata": {
        "id": "wApK0vsTNJJc"
      },
      "execution_count": 110,
      "outputs": []
    },
    {
      "cell_type": "code",
      "source": [
        "X.shape, Y.shape"
      ],
      "metadata": {
        "colab": {
          "base_uri": "https://localhost:8080/"
        },
        "id": "z8ZErkNCQFwz",
        "outputId": "3a44adc5-9b8a-4ae8-e215-2b1bf2b6a1dd"
      },
      "execution_count": 111,
      "outputs": [
        {
          "output_type": "execute_result",
          "data": {
            "text/plain": [
              "((358, 7, 1), (358,))"
            ]
          },
          "metadata": {},
          "execution_count": 111
        }
      ]
    },
    {
      "cell_type": "code",
      "source": [
        "X[0]"
      ],
      "metadata": {
        "colab": {
          "base_uri": "https://localhost:8080/"
        },
        "id": "sFwGlVptRf4z",
        "outputId": "219471ef-667c-4dbe-c164-584c73a051c4"
      },
      "execution_count": 112,
      "outputs": [
        {
          "output_type": "execute_result",
          "data": {
            "text/plain": [
              "array([[3772.93633533],\n",
              "       [3799.67854295],\n",
              "       [3811.61197937],\n",
              "       [3804.41917011],\n",
              "       [3782.66410112],\n",
              "       [3689.86289319],\n",
              "       [3832.08088473]])"
            ]
          },
          "metadata": {},
          "execution_count": 112
        }
      ]
    },
    {
      "cell_type": "code",
      "source": [
        "split=int(len(X)*0.7)"
      ],
      "metadata": {
        "id": "eV-k_kQ4Rmjj"
      },
      "execution_count": 113,
      "outputs": []
    },
    {
      "cell_type": "code",
      "source": [
        "# train/test split 한다. 시계열 데이터는 shuffle 하지 않음. 순서대로\n",
        "x_train = X[0:split]\n",
        "y_train = Y[0:split]\n",
        "x_test = X[split:]\n",
        "y_test = Y[split:]"
      ],
      "metadata": {
        "id": "sii03tUbRtvj"
      },
      "execution_count": 119,
      "outputs": []
    },
    {
      "cell_type": "code",
      "source": [
        "x_train.shape, y_train.shape, x_test.shape, y_test.shape"
      ],
      "metadata": {
        "colab": {
          "base_uri": "https://localhost:8080/"
        },
        "id": "9U7niLvYR6X7",
        "outputId": "372b1edc-d4aa-43fc-8115-980517bcdd97"
      },
      "execution_count": 120,
      "outputs": [
        {
          "output_type": "execute_result",
          "data": {
            "text/plain": [
              "((250, 7, 1), (250,), (108, 7, 1), (108,))"
            ]
          },
          "metadata": {},
          "execution_count": 120
        }
      ]
    },
    {
      "cell_type": "code",
      "source": [
        "from tensorflow.keras.models import Sequential\n",
        "from tensorflow.keras.layers import Dense, LSTM, Dropout\n"
      ],
      "metadata": {
        "id": "pp3YGo4_SGaD"
      },
      "execution_count": 121,
      "outputs": []
    },
    {
      "cell_type": "code",
      "source": [
        "x_train[0].shape"
      ],
      "metadata": {
        "colab": {
          "base_uri": "https://localhost:8080/"
        },
        "id": "kiYQFYSiTTRd",
        "outputId": "0f4763a4-269d-40b7-a8d2-88f03cb67280"
      },
      "execution_count": 124,
      "outputs": [
        {
          "output_type": "execute_result",
          "data": {
            "text/plain": [
              "(7, 1)"
            ]
          },
          "metadata": {},
          "execution_count": 124
        }
      ]
    },
    {
      "cell_type": "code",
      "source": [
        "model = Sequential()\n",
        "model.add(LSTM(units=128, activation='relu', input_shape=x_train[0].shape))\n",
        "model.add(Dense(1))\n",
        "model.compile(loss='mae', optimizer='adam', metrics=['mae'])\n",
        "\n",
        "hist = model.fit(x_train, y_train, epochs=200, batch_size=1, validation_data=(x_test, y_test), verbose=1)"
      ],
      "metadata": {
        "colab": {
          "base_uri": "https://localhost:8080/"
        },
        "id": "cAPy1gdFSfVL",
        "outputId": "638fcdc2-5440-4ab7-fbe6-3aeae4c957ae"
      },
      "execution_count": 125,
      "outputs": [
        {
          "output_type": "stream",
          "name": "stdout",
          "text": [
            "Epoch 1/200\n",
            "250/250 [==============================] - 3s 8ms/step - loss: 2441.5935 - mae: 2441.5935 - val_loss: 414.8186 - val_mae: 414.8186\n",
            "Epoch 2/200\n",
            "250/250 [==============================] - 3s 11ms/step - loss: 695.5832 - mae: 695.5832 - val_loss: 1001.3108 - val_mae: 1001.3108\n",
            "Epoch 3/200\n",
            "250/250 [==============================] - 3s 10ms/step - loss: 542.3052 - mae: 542.3052 - val_loss: 515.0162 - val_mae: 515.0162\n",
            "Epoch 4/200\n",
            "250/250 [==============================] - 2s 6ms/step - loss: 527.5317 - mae: 527.5317 - val_loss: 648.0964 - val_mae: 648.0964\n",
            "Epoch 5/200\n",
            "250/250 [==============================] - 2s 7ms/step - loss: 494.1026 - mae: 494.1026 - val_loss: 308.4358 - val_mae: 308.4358\n",
            "Epoch 6/200\n",
            "250/250 [==============================] - 2s 6ms/step - loss: 499.2292 - mae: 499.2292 - val_loss: 387.6012 - val_mae: 387.6012\n",
            "Epoch 7/200\n",
            "250/250 [==============================] - 2s 7ms/step - loss: 679.8121 - mae: 679.8121 - val_loss: 350.2740 - val_mae: 350.2740\n",
            "Epoch 8/200\n",
            "250/250 [==============================] - 3s 11ms/step - loss: 579.7300 - mae: 579.7300 - val_loss: 347.4460 - val_mae: 347.4460\n",
            "Epoch 9/200\n",
            "250/250 [==============================] - 3s 13ms/step - loss: 512.1808 - mae: 512.1808 - val_loss: 439.4590 - val_mae: 439.4590\n",
            "Epoch 10/200\n",
            "250/250 [==============================] - 3s 10ms/step - loss: 538.7798 - mae: 538.7798 - val_loss: 348.6931 - val_mae: 348.6931\n",
            "Epoch 11/200\n",
            "250/250 [==============================] - 2s 7ms/step - loss: 491.0813 - mae: 491.0813 - val_loss: 327.5831 - val_mae: 327.5831\n",
            "Epoch 12/200\n",
            "250/250 [==============================] - 2s 7ms/step - loss: 503.4594 - mae: 503.4594 - val_loss: 348.1432 - val_mae: 348.1432\n",
            "Epoch 13/200\n",
            "250/250 [==============================] - 2s 7ms/step - loss: 517.8373 - mae: 517.8373 - val_loss: 608.7512 - val_mae: 608.7512\n",
            "Epoch 14/200\n",
            "250/250 [==============================] - 2s 6ms/step - loss: 518.7217 - mae: 518.7217 - val_loss: 356.3855 - val_mae: 356.3855\n",
            "Epoch 15/200\n",
            "250/250 [==============================] - 2s 7ms/step - loss: 495.3365 - mae: 495.3365 - val_loss: 598.5241 - val_mae: 598.5241\n",
            "Epoch 16/200\n",
            "250/250 [==============================] - 2s 8ms/step - loss: 532.5361 - mae: 532.5361 - val_loss: 314.3668 - val_mae: 314.3668\n",
            "Epoch 17/200\n",
            "250/250 [==============================] - 3s 12ms/step - loss: 487.8633 - mae: 487.8633 - val_loss: 403.7423 - val_mae: 403.7423\n",
            "Epoch 18/200\n",
            "250/250 [==============================] - 2s 7ms/step - loss: 497.7431 - mae: 497.7431 - val_loss: 310.0958 - val_mae: 310.0958\n",
            "Epoch 19/200\n",
            "250/250 [==============================] - 2s 7ms/step - loss: 490.6623 - mae: 490.6623 - val_loss: 412.2115 - val_mae: 412.2115\n",
            "Epoch 20/200\n",
            "250/250 [==============================] - 2s 7ms/step - loss: 467.9763 - mae: 467.9763 - val_loss: 422.7904 - val_mae: 422.7904\n",
            "Epoch 21/200\n",
            "250/250 [==============================] - 2s 6ms/step - loss: 488.8769 - mae: 488.8769 - val_loss: 405.4534 - val_mae: 405.4534\n",
            "Epoch 22/200\n",
            "250/250 [==============================] - 2s 6ms/step - loss: 500.4499 - mae: 500.4499 - val_loss: 435.5606 - val_mae: 435.5606\n",
            "Epoch 23/200\n",
            "250/250 [==============================] - 2s 7ms/step - loss: 470.5701 - mae: 470.5701 - val_loss: 294.8327 - val_mae: 294.8327\n",
            "Epoch 24/200\n",
            "250/250 [==============================] - 3s 10ms/step - loss: 440.4048 - mae: 440.4048 - val_loss: 699.2213 - val_mae: 699.2213\n",
            "Epoch 25/200\n",
            "250/250 [==============================] - 2s 10ms/step - loss: 461.2079 - mae: 461.2079 - val_loss: 295.8947 - val_mae: 295.8947\n",
            "Epoch 26/200\n",
            "250/250 [==============================] - 2s 6ms/step - loss: 453.5757 - mae: 453.5757 - val_loss: 335.9927 - val_mae: 335.9927\n",
            "Epoch 27/200\n",
            "250/250 [==============================] - 2s 7ms/step - loss: 512.5573 - mae: 512.5573 - val_loss: 501.6768 - val_mae: 501.6768\n",
            "Epoch 28/200\n",
            "250/250 [==============================] - 2s 7ms/step - loss: 457.0428 - mae: 457.0428 - val_loss: 478.9401 - val_mae: 478.9401\n",
            "Epoch 29/200\n",
            "250/250 [==============================] - 2s 7ms/step - loss: 432.6811 - mae: 432.6811 - val_loss: 278.1779 - val_mae: 278.1779\n",
            "Epoch 30/200\n",
            "250/250 [==============================] - 3s 12ms/step - loss: 434.0213 - mae: 434.0213 - val_loss: 323.4436 - val_mae: 323.4436\n",
            "Epoch 31/200\n",
            "250/250 [==============================] - 3s 13ms/step - loss: 474.5341 - mae: 474.5341 - val_loss: 274.7757 - val_mae: 274.7757\n",
            "Epoch 32/200\n",
            "250/250 [==============================] - 2s 9ms/step - loss: 404.9404 - mae: 404.9404 - val_loss: 271.5434 - val_mae: 271.5434\n",
            "Epoch 33/200\n",
            "250/250 [==============================] - 2s 6ms/step - loss: 407.3587 - mae: 407.3587 - val_loss: 265.1927 - val_mae: 265.1927\n",
            "Epoch 34/200\n",
            "250/250 [==============================] - 2s 6ms/step - loss: 416.6432 - mae: 416.6432 - val_loss: 267.6051 - val_mae: 267.6051\n",
            "Epoch 35/200\n",
            "250/250 [==============================] - 2s 7ms/step - loss: 394.3014 - mae: 394.3014 - val_loss: 336.6934 - val_mae: 336.6934\n",
            "Epoch 36/200\n",
            "250/250 [==============================] - 2s 7ms/step - loss: 413.5385 - mae: 413.5385 - val_loss: 253.6271 - val_mae: 253.6271\n",
            "Epoch 37/200\n",
            "250/250 [==============================] - 2s 7ms/step - loss: 395.5811 - mae: 395.5811 - val_loss: 254.9360 - val_mae: 254.9360\n",
            "Epoch 38/200\n",
            "250/250 [==============================] - 2s 9ms/step - loss: 392.5153 - mae: 392.5153 - val_loss: 584.9868 - val_mae: 584.9868\n",
            "Epoch 39/200\n",
            "250/250 [==============================] - 3s 11ms/step - loss: 402.9607 - mae: 402.9607 - val_loss: 248.0219 - val_mae: 248.0219\n",
            "Epoch 40/200\n",
            "250/250 [==============================] - 2s 7ms/step - loss: 377.3888 - mae: 377.3888 - val_loss: 374.6871 - val_mae: 374.6871\n",
            "Epoch 41/200\n",
            "250/250 [==============================] - 2s 6ms/step - loss: 396.2528 - mae: 396.2528 - val_loss: 283.4319 - val_mae: 283.4319\n",
            "Epoch 42/200\n",
            "250/250 [==============================] - 2s 7ms/step - loss: 361.0051 - mae: 361.0051 - val_loss: 250.9248 - val_mae: 250.9248\n",
            "Epoch 43/200\n",
            "250/250 [==============================] - 2s 6ms/step - loss: 352.4438 - mae: 352.4438 - val_loss: 458.0310 - val_mae: 458.0310\n",
            "Epoch 44/200\n",
            "250/250 [==============================] - 2s 7ms/step - loss: 343.4968 - mae: 343.4968 - val_loss: 225.9935 - val_mae: 225.9935\n",
            "Epoch 45/200\n",
            "250/250 [==============================] - 2s 7ms/step - loss: 353.5699 - mae: 353.5699 - val_loss: 513.3546 - val_mae: 513.3546\n",
            "Epoch 46/200\n",
            "250/250 [==============================] - 3s 11ms/step - loss: 339.1587 - mae: 339.1587 - val_loss: 279.8050 - val_mae: 279.8050\n",
            "Epoch 47/200\n",
            "250/250 [==============================] - 2s 10ms/step - loss: 329.5295 - mae: 329.5295 - val_loss: 216.4229 - val_mae: 216.4229\n",
            "Epoch 48/200\n",
            "250/250 [==============================] - 2s 6ms/step - loss: 321.6843 - mae: 321.6843 - val_loss: 221.2807 - val_mae: 221.2807\n",
            "Epoch 49/200\n",
            "250/250 [==============================] - 2s 7ms/step - loss: 325.6766 - mae: 325.6766 - val_loss: 283.6655 - val_mae: 283.6655\n",
            "Epoch 50/200\n",
            "250/250 [==============================] - 2s 6ms/step - loss: 332.6573 - mae: 332.6573 - val_loss: 213.0199 - val_mae: 213.0199\n",
            "Epoch 51/200\n",
            "250/250 [==============================] - 2s 6ms/step - loss: 313.8904 - mae: 313.8904 - val_loss: 199.2214 - val_mae: 199.2214\n",
            "Epoch 52/200\n",
            "250/250 [==============================] - 2s 7ms/step - loss: 305.6016 - mae: 305.6016 - val_loss: 247.3634 - val_mae: 247.3634\n",
            "Epoch 53/200\n",
            "250/250 [==============================] - 2s 10ms/step - loss: 322.7517 - mae: 322.7517 - val_loss: 201.7610 - val_mae: 201.7610\n",
            "Epoch 54/200\n",
            "250/250 [==============================] - 3s 11ms/step - loss: 296.9715 - mae: 296.9715 - val_loss: 204.9453 - val_mae: 204.9453\n",
            "Epoch 55/200\n",
            "250/250 [==============================] - 2s 6ms/step - loss: 319.2713 - mae: 319.2713 - val_loss: 324.3047 - val_mae: 324.3047\n",
            "Epoch 56/200\n",
            "250/250 [==============================] - 2s 7ms/step - loss: 302.3608 - mae: 302.3608 - val_loss: 189.4098 - val_mae: 189.4098\n",
            "Epoch 57/200\n",
            "250/250 [==============================] - 2s 6ms/step - loss: 310.4221 - mae: 310.4221 - val_loss: 406.8679 - val_mae: 406.8679\n",
            "Epoch 58/200\n",
            "250/250 [==============================] - 2s 6ms/step - loss: 285.7293 - mae: 285.7293 - val_loss: 198.0522 - val_mae: 198.0522\n",
            "Epoch 59/200\n",
            "250/250 [==============================] - 2s 6ms/step - loss: 294.0566 - mae: 294.0566 - val_loss: 270.5424 - val_mae: 270.5424\n",
            "Epoch 60/200\n",
            "250/250 [==============================] - 2s 7ms/step - loss: 281.5485 - mae: 281.5485 - val_loss: 303.7668 - val_mae: 303.7668\n",
            "Epoch 61/200\n",
            "250/250 [==============================] - 3s 11ms/step - loss: 298.1877 - mae: 298.1877 - val_loss: 189.0535 - val_mae: 189.0535\n",
            "Epoch 62/200\n",
            "250/250 [==============================] - 2s 9ms/step - loss: 284.4465 - mae: 284.4465 - val_loss: 182.1739 - val_mae: 182.1739\n",
            "Epoch 63/200\n",
            "250/250 [==============================] - 2s 7ms/step - loss: 272.6325 - mae: 272.6325 - val_loss: 212.5659 - val_mae: 212.5659\n",
            "Epoch 64/200\n",
            "250/250 [==============================] - 2s 6ms/step - loss: 295.6745 - mae: 295.6745 - val_loss: 208.6202 - val_mae: 208.6202\n",
            "Epoch 65/200\n",
            "250/250 [==============================] - 2s 6ms/step - loss: 280.0809 - mae: 280.0809 - val_loss: 233.4090 - val_mae: 233.4090\n",
            "Epoch 66/200\n",
            "250/250 [==============================] - 2s 6ms/step - loss: 293.7032 - mae: 293.7032 - val_loss: 180.9039 - val_mae: 180.9039\n",
            "Epoch 67/200\n",
            "250/250 [==============================] - 2s 6ms/step - loss: 279.7126 - mae: 279.7126 - val_loss: 178.2084 - val_mae: 178.2084\n",
            "Epoch 68/200\n",
            "250/250 [==============================] - 2s 8ms/step - loss: 278.2928 - mae: 278.2928 - val_loss: 261.3416 - val_mae: 261.3416\n",
            "Epoch 69/200\n",
            "250/250 [==============================] - 3s 11ms/step - loss: 300.8837 - mae: 300.8837 - val_loss: 174.9968 - val_mae: 174.9968\n",
            "Epoch 70/200\n",
            "250/250 [==============================] - 2s 7ms/step - loss: 266.7632 - mae: 266.7632 - val_loss: 176.3717 - val_mae: 176.3717\n",
            "Epoch 71/200\n",
            "250/250 [==============================] - 2s 7ms/step - loss: 276.6946 - mae: 276.6946 - val_loss: 233.9826 - val_mae: 233.9826\n",
            "Epoch 72/200\n",
            "250/250 [==============================] - 2s 7ms/step - loss: 261.3086 - mae: 261.3086 - val_loss: 214.0617 - val_mae: 214.0617\n",
            "Epoch 73/200\n",
            "250/250 [==============================] - 2s 6ms/step - loss: 282.7513 - mae: 282.7513 - val_loss: 202.8608 - val_mae: 202.8608\n",
            "Epoch 74/200\n",
            "250/250 [==============================] - 2s 6ms/step - loss: 260.5954 - mae: 260.5954 - val_loss: 171.0716 - val_mae: 171.0716\n",
            "Epoch 75/200\n",
            "250/250 [==============================] - 2s 6ms/step - loss: 258.6097 - mae: 258.6097 - val_loss: 268.6305 - val_mae: 268.6305\n",
            "Epoch 76/200\n",
            "250/250 [==============================] - 2s 9ms/step - loss: 283.3333 - mae: 283.3333 - val_loss: 197.2165 - val_mae: 197.2165\n",
            "Epoch 77/200\n",
            "250/250 [==============================] - 3s 10ms/step - loss: 266.8454 - mae: 266.8454 - val_loss: 177.4265 - val_mae: 177.4265\n",
            "Epoch 78/200\n",
            "250/250 [==============================] - 2s 6ms/step - loss: 255.8444 - mae: 255.8444 - val_loss: 177.9996 - val_mae: 177.9996\n",
            "Epoch 79/200\n",
            "250/250 [==============================] - 2s 7ms/step - loss: 267.3508 - mae: 267.3508 - val_loss: 224.8406 - val_mae: 224.8406\n",
            "Epoch 80/200\n",
            "250/250 [==============================] - 2s 6ms/step - loss: 254.0654 - mae: 254.0654 - val_loss: 173.3215 - val_mae: 173.3215\n",
            "Epoch 81/200\n",
            "250/250 [==============================] - 2s 7ms/step - loss: 259.8300 - mae: 259.8300 - val_loss: 169.0404 - val_mae: 169.0404\n",
            "Epoch 82/200\n",
            "250/250 [==============================] - 2s 7ms/step - loss: 255.8328 - mae: 255.8328 - val_loss: 181.8599 - val_mae: 181.8599\n",
            "Epoch 83/200\n",
            "250/250 [==============================] - 2s 7ms/step - loss: 247.6965 - mae: 247.6965 - val_loss: 170.1977 - val_mae: 170.1977\n",
            "Epoch 84/200\n",
            "250/250 [==============================] - 3s 10ms/step - loss: 257.6816 - mae: 257.6816 - val_loss: 168.7637 - val_mae: 168.7637\n",
            "Epoch 85/200\n",
            "250/250 [==============================] - 2s 9ms/step - loss: 254.5045 - mae: 254.5045 - val_loss: 276.2719 - val_mae: 276.2719\n",
            "Epoch 86/200\n",
            "250/250 [==============================] - 2s 6ms/step - loss: 263.8975 - mae: 263.8975 - val_loss: 179.1024 - val_mae: 179.1024\n",
            "Epoch 87/200\n",
            "250/250 [==============================] - 2s 7ms/step - loss: 272.0472 - mae: 272.0472 - val_loss: 192.7579 - val_mae: 192.7579\n",
            "Epoch 88/200\n",
            "250/250 [==============================] - 2s 6ms/step - loss: 257.7049 - mae: 257.7049 - val_loss: 413.2914 - val_mae: 413.2914\n",
            "Epoch 89/200\n",
            "250/250 [==============================] - 2s 7ms/step - loss: 273.2425 - mae: 273.2425 - val_loss: 188.9016 - val_mae: 188.9016\n",
            "Epoch 90/200\n",
            "250/250 [==============================] - 2s 6ms/step - loss: 276.5345 - mae: 276.5345 - val_loss: 190.2113 - val_mae: 190.2113\n",
            "Epoch 91/200\n",
            "250/250 [==============================] - 2s 7ms/step - loss: 257.1809 - mae: 257.1809 - val_loss: 201.5636 - val_mae: 201.5636\n",
            "Epoch 92/200\n",
            "250/250 [==============================] - 3s 12ms/step - loss: 268.6815 - mae: 268.6815 - val_loss: 169.0960 - val_mae: 169.0960\n",
            "Epoch 93/200\n",
            "250/250 [==============================] - 2s 8ms/step - loss: 250.1966 - mae: 250.1966 - val_loss: 174.0609 - val_mae: 174.0609\n",
            "Epoch 94/200\n",
            "250/250 [==============================] - 2s 7ms/step - loss: 263.1378 - mae: 263.1378 - val_loss: 188.8780 - val_mae: 188.8780\n",
            "Epoch 95/200\n",
            "250/250 [==============================] - 2s 7ms/step - loss: 257.5567 - mae: 257.5567 - val_loss: 179.5608 - val_mae: 179.5608\n",
            "Epoch 96/200\n",
            "250/250 [==============================] - 2s 7ms/step - loss: 252.1081 - mae: 252.1081 - val_loss: 193.1855 - val_mae: 193.1855\n",
            "Epoch 97/200\n",
            "250/250 [==============================] - 2s 6ms/step - loss: 256.1996 - mae: 256.1996 - val_loss: 233.9449 - val_mae: 233.9449\n",
            "Epoch 98/200\n",
            "250/250 [==============================] - 2s 7ms/step - loss: 251.9397 - mae: 251.9397 - val_loss: 174.4878 - val_mae: 174.4878\n",
            "Epoch 99/200\n",
            "250/250 [==============================] - 3s 10ms/step - loss: 256.3027 - mae: 256.3027 - val_loss: 183.6362 - val_mae: 183.6362\n",
            "Epoch 100/200\n",
            "250/250 [==============================] - 3s 10ms/step - loss: 256.9836 - mae: 256.9836 - val_loss: 168.9102 - val_mae: 168.9102\n",
            "Epoch 101/200\n",
            "250/250 [==============================] - 2s 6ms/step - loss: 263.1687 - mae: 263.1687 - val_loss: 177.4981 - val_mae: 177.4981\n",
            "Epoch 102/200\n",
            "250/250 [==============================] - 2s 6ms/step - loss: 261.0165 - mae: 261.0165 - val_loss: 174.6850 - val_mae: 174.6850\n",
            "Epoch 103/200\n",
            "250/250 [==============================] - 2s 6ms/step - loss: 255.1163 - mae: 255.1163 - val_loss: 194.2475 - val_mae: 194.2475\n",
            "Epoch 104/200\n",
            "250/250 [==============================] - 2s 6ms/step - loss: 253.7956 - mae: 253.7956 - val_loss: 187.4618 - val_mae: 187.4618\n",
            "Epoch 105/200\n",
            "250/250 [==============================] - 2s 7ms/step - loss: 251.9480 - mae: 251.9480 - val_loss: 176.3058 - val_mae: 176.3058\n",
            "Epoch 106/200\n",
            "250/250 [==============================] - 2s 6ms/step - loss: 252.8206 - mae: 252.8206 - val_loss: 171.0694 - val_mae: 171.0694\n",
            "Epoch 107/200\n",
            "250/250 [==============================] - 3s 11ms/step - loss: 250.8161 - mae: 250.8161 - val_loss: 169.6444 - val_mae: 169.6444\n",
            "Epoch 108/200\n",
            "250/250 [==============================] - 3s 12ms/step - loss: 258.2461 - mae: 258.2461 - val_loss: 172.7508 - val_mae: 172.7508\n",
            "Epoch 109/200\n",
            "250/250 [==============================] - 3s 12ms/step - loss: 261.7956 - mae: 261.7956 - val_loss: 363.2848 - val_mae: 363.2848\n",
            "Epoch 110/200\n",
            "250/250 [==============================] - 2s 7ms/step - loss: 259.5759 - mae: 259.5759 - val_loss: 175.3380 - val_mae: 175.3380\n",
            "Epoch 111/200\n",
            "250/250 [==============================] - 2s 6ms/step - loss: 255.1390 - mae: 255.1390 - val_loss: 178.8393 - val_mae: 178.8393\n",
            "Epoch 112/200\n",
            "250/250 [==============================] - 2s 6ms/step - loss: 261.3546 - mae: 261.3546 - val_loss: 221.5014 - val_mae: 221.5014\n",
            "Epoch 113/200\n",
            "250/250 [==============================] - 2s 8ms/step - loss: 274.7219 - mae: 274.7219 - val_loss: 192.3325 - val_mae: 192.3325\n",
            "Epoch 114/200\n",
            "250/250 [==============================] - 3s 11ms/step - loss: 258.0898 - mae: 258.0898 - val_loss: 205.1543 - val_mae: 205.1543\n",
            "Epoch 115/200\n",
            "250/250 [==============================] - 3s 12ms/step - loss: 256.7388 - mae: 256.7388 - val_loss: 169.8940 - val_mae: 169.8940\n",
            "Epoch 116/200\n",
            "250/250 [==============================] - 2s 9ms/step - loss: 253.9362 - mae: 253.9362 - val_loss: 168.0494 - val_mae: 168.0494\n",
            "Epoch 117/200\n",
            "250/250 [==============================] - 2s 6ms/step - loss: 249.6122 - mae: 249.6122 - val_loss: 177.4567 - val_mae: 177.4567\n",
            "Epoch 118/200\n",
            "250/250 [==============================] - 2s 6ms/step - loss: 251.0380 - mae: 251.0380 - val_loss: 178.8745 - val_mae: 178.8745\n",
            "Epoch 119/200\n",
            "250/250 [==============================] - 2s 6ms/step - loss: 252.3186 - mae: 252.3186 - val_loss: 277.5894 - val_mae: 277.5894\n",
            "Epoch 120/200\n",
            "250/250 [==============================] - 2s 6ms/step - loss: 257.6197 - mae: 257.6197 - val_loss: 289.9623 - val_mae: 289.9623\n",
            "Epoch 121/200\n",
            "250/250 [==============================] - 2s 6ms/step - loss: 251.2999 - mae: 251.2999 - val_loss: 170.4734 - val_mae: 170.4734\n",
            "Epoch 122/200\n",
            "250/250 [==============================] - 2s 8ms/step - loss: 247.2832 - mae: 247.2832 - val_loss: 215.6907 - val_mae: 215.6907\n",
            "Epoch 123/200\n",
            "250/250 [==============================] - 3s 11ms/step - loss: 245.8901 - mae: 245.8901 - val_loss: 169.2748 - val_mae: 169.2748\n",
            "Epoch 124/200\n",
            "250/250 [==============================] - 2s 6ms/step - loss: 249.7056 - mae: 249.7056 - val_loss: 206.3830 - val_mae: 206.3830\n",
            "Epoch 125/200\n",
            "250/250 [==============================] - 2s 6ms/step - loss: 261.3223 - mae: 261.3223 - val_loss: 177.2238 - val_mae: 177.2238\n",
            "Epoch 126/200\n",
            "250/250 [==============================] - 2s 7ms/step - loss: 246.7459 - mae: 246.7459 - val_loss: 176.9233 - val_mae: 176.9233\n",
            "Epoch 127/200\n",
            "250/250 [==============================] - 2s 6ms/step - loss: 257.8305 - mae: 257.8305 - val_loss: 168.7164 - val_mae: 168.7164\n",
            "Epoch 128/200\n",
            "250/250 [==============================] - 2s 6ms/step - loss: 256.3486 - mae: 256.3486 - val_loss: 171.5524 - val_mae: 171.5524\n",
            "Epoch 129/200\n",
            "250/250 [==============================] - 2s 6ms/step - loss: 252.9830 - mae: 252.9830 - val_loss: 180.0694 - val_mae: 180.0694\n",
            "Epoch 130/200\n",
            "250/250 [==============================] - 3s 10ms/step - loss: 252.6313 - mae: 252.6313 - val_loss: 313.0680 - val_mae: 313.0680\n",
            "Epoch 131/200\n",
            "250/250 [==============================] - 2s 9ms/step - loss: 249.6717 - mae: 249.6717 - val_loss: 173.1001 - val_mae: 173.1001\n",
            "Epoch 132/200\n",
            "250/250 [==============================] - 2s 7ms/step - loss: 248.9630 - mae: 248.9630 - val_loss: 172.2173 - val_mae: 172.2173\n",
            "Epoch 133/200\n",
            "250/250 [==============================] - 2s 7ms/step - loss: 250.4005 - mae: 250.4005 - val_loss: 308.0597 - val_mae: 308.0597\n",
            "Epoch 134/200\n",
            "250/250 [==============================] - 2s 7ms/step - loss: 252.4221 - mae: 252.4221 - val_loss: 166.7492 - val_mae: 166.7492\n",
            "Epoch 135/200\n",
            "250/250 [==============================] - 2s 6ms/step - loss: 251.2183 - mae: 251.2183 - val_loss: 175.4734 - val_mae: 175.4734\n",
            "Epoch 136/200\n",
            "250/250 [==============================] - 2s 6ms/step - loss: 253.3024 - mae: 253.3024 - val_loss: 168.5232 - val_mae: 168.5232\n",
            "Epoch 137/200\n",
            "250/250 [==============================] - 2s 7ms/step - loss: 252.5093 - mae: 252.5093 - val_loss: 216.5591 - val_mae: 216.5591\n",
            "Epoch 138/200\n",
            "250/250 [==============================] - 3s 11ms/step - loss: 251.3473 - mae: 251.3473 - val_loss: 168.0828 - val_mae: 168.0828\n",
            "Epoch 139/200\n",
            "250/250 [==============================] - 2s 8ms/step - loss: 256.3511 - mae: 256.3511 - val_loss: 185.1073 - val_mae: 185.1073\n",
            "Epoch 140/200\n",
            "250/250 [==============================] - 2s 6ms/step - loss: 259.5106 - mae: 259.5106 - val_loss: 244.1603 - val_mae: 244.1603\n",
            "Epoch 141/200\n",
            "250/250 [==============================] - 2s 6ms/step - loss: 252.5417 - mae: 252.5417 - val_loss: 190.7657 - val_mae: 190.7657\n",
            "Epoch 142/200\n",
            "250/250 [==============================] - 2s 6ms/step - loss: 246.6577 - mae: 246.6577 - val_loss: 176.1041 - val_mae: 176.1041\n",
            "Epoch 143/200\n",
            "250/250 [==============================] - 2s 6ms/step - loss: 250.0626 - mae: 250.0626 - val_loss: 191.9395 - val_mae: 191.9395\n",
            "Epoch 144/200\n",
            "250/250 [==============================] - 2s 6ms/step - loss: 248.5552 - mae: 248.5552 - val_loss: 199.4754 - val_mae: 199.4754\n",
            "Epoch 145/200\n",
            "250/250 [==============================] - 2s 8ms/step - loss: 252.6715 - mae: 252.6715 - val_loss: 179.5749 - val_mae: 179.5749\n",
            "Epoch 146/200\n",
            "250/250 [==============================] - 3s 11ms/step - loss: 252.7334 - mae: 252.7334 - val_loss: 169.3433 - val_mae: 169.3433\n",
            "Epoch 147/200\n",
            "250/250 [==============================] - 2s 8ms/step - loss: 854.3495 - mae: 854.3495 - val_loss: 687.2115 - val_mae: 687.2115\n",
            "Epoch 148/200\n",
            "250/250 [==============================] - 2s 6ms/step - loss: 490.0183 - mae: 490.0183 - val_loss: 291.2099 - val_mae: 291.2099\n",
            "Epoch 149/200\n",
            "250/250 [==============================] - 2s 6ms/step - loss: 449.0520 - mae: 449.0520 - val_loss: 285.7930 - val_mae: 285.7930\n",
            "Epoch 150/200\n",
            "250/250 [==============================] - 2s 6ms/step - loss: 462.5419 - mae: 462.5419 - val_loss: 279.9776 - val_mae: 279.9776\n",
            "Epoch 151/200\n",
            "250/250 [==============================] - 2s 7ms/step - loss: 427.1598 - mae: 427.1598 - val_loss: 278.1446 - val_mae: 278.1446\n",
            "Epoch 152/200\n",
            "250/250 [==============================] - 2s 7ms/step - loss: 438.9103 - mae: 438.9103 - val_loss: 274.6668 - val_mae: 274.6668\n",
            "Epoch 153/200\n",
            "250/250 [==============================] - 2s 10ms/step - loss: 431.0015 - mae: 431.0015 - val_loss: 272.1100 - val_mae: 272.1100\n",
            "Epoch 154/200\n",
            "250/250 [==============================] - 3s 10ms/step - loss: 421.4788 - mae: 421.4788 - val_loss: 279.6556 - val_mae: 279.6556\n",
            "Epoch 155/200\n",
            "250/250 [==============================] - 2s 6ms/step - loss: 395.9436 - mae: 395.9436 - val_loss: 274.3936 - val_mae: 274.3936\n",
            "Epoch 156/200\n",
            "250/250 [==============================] - 2s 6ms/step - loss: 408.8223 - mae: 408.8223 - val_loss: 290.0049 - val_mae: 290.0049\n",
            "Epoch 157/200\n",
            "250/250 [==============================] - 2s 7ms/step - loss: 420.5137 - mae: 420.5137 - val_loss: 268.5131 - val_mae: 268.5131\n",
            "Epoch 158/200\n",
            "250/250 [==============================] - 2s 6ms/step - loss: 433.7508 - mae: 433.7508 - val_loss: 437.3802 - val_mae: 437.3802\n",
            "Epoch 159/200\n",
            "250/250 [==============================] - 2s 7ms/step - loss: 430.1601 - mae: 430.1601 - val_loss: 297.4634 - val_mae: 297.4634\n",
            "Epoch 160/200\n",
            "250/250 [==============================] - 2s 7ms/step - loss: 408.3028 - mae: 408.3028 - val_loss: 263.6581 - val_mae: 263.6581\n",
            "Epoch 161/200\n",
            "250/250 [==============================] - 3s 10ms/step - loss: 416.7260 - mae: 416.7260 - val_loss: 289.2457 - val_mae: 289.2457\n",
            "Epoch 162/200\n",
            "250/250 [==============================] - 3s 10ms/step - loss: 407.4688 - mae: 407.4688 - val_loss: 253.4820 - val_mae: 253.4820\n",
            "Epoch 163/200\n",
            "250/250 [==============================] - 2s 7ms/step - loss: 393.2475 - mae: 393.2475 - val_loss: 269.7922 - val_mae: 269.7922\n",
            "Epoch 164/200\n",
            "250/250 [==============================] - 2s 7ms/step - loss: 394.2858 - mae: 394.2858 - val_loss: 253.4760 - val_mae: 253.4760\n",
            "Epoch 165/200\n",
            "250/250 [==============================] - 2s 7ms/step - loss: 387.0388 - mae: 387.0388 - val_loss: 353.1154 - val_mae: 353.1154\n",
            "Epoch 166/200\n",
            "250/250 [==============================] - 2s 7ms/step - loss: 388.1978 - mae: 388.1978 - val_loss: 344.1645 - val_mae: 344.1645\n",
            "Epoch 167/200\n",
            "250/250 [==============================] - 2s 6ms/step - loss: 406.9370 - mae: 406.9370 - val_loss: 271.3928 - val_mae: 271.3928\n",
            "Epoch 168/200\n",
            "250/250 [==============================] - 2s 7ms/step - loss: 413.1087 - mae: 413.1087 - val_loss: 239.4227 - val_mae: 239.4227\n",
            "Epoch 169/200\n",
            "250/250 [==============================] - 3s 10ms/step - loss: 372.0820 - mae: 372.0820 - val_loss: 237.4823 - val_mae: 237.4823\n",
            "Epoch 170/200\n",
            "250/250 [==============================] - 2s 8ms/step - loss: 365.8816 - mae: 365.8816 - val_loss: 614.0781 - val_mae: 614.0781\n",
            "Epoch 171/200\n",
            "250/250 [==============================] - 2s 7ms/step - loss: 380.7662 - mae: 380.7662 - val_loss: 253.8513 - val_mae: 253.8513\n",
            "Epoch 172/200\n",
            "250/250 [==============================] - 2s 7ms/step - loss: 359.5757 - mae: 359.5757 - val_loss: 250.4514 - val_mae: 250.4514\n",
            "Epoch 173/200\n",
            "250/250 [==============================] - 2s 7ms/step - loss: 334.6931 - mae: 334.6931 - val_loss: 259.5577 - val_mae: 259.5577\n",
            "Epoch 174/200\n",
            "250/250 [==============================] - 2s 6ms/step - loss: 341.9005 - mae: 341.9005 - val_loss: 215.4321 - val_mae: 215.4321\n",
            "Epoch 175/200\n",
            "250/250 [==============================] - 2s 7ms/step - loss: 360.1136 - mae: 360.1136 - val_loss: 232.8624 - val_mae: 232.8624\n",
            "Epoch 176/200\n",
            "250/250 [==============================] - 2s 9ms/step - loss: 355.9431 - mae: 355.9431 - val_loss: 299.0879 - val_mae: 299.0879\n",
            "Epoch 177/200\n",
            "250/250 [==============================] - 3s 12ms/step - loss: 338.1475 - mae: 338.1475 - val_loss: 210.6385 - val_mae: 210.6385\n",
            "Epoch 178/200\n",
            "250/250 [==============================] - 2s 6ms/step - loss: 322.5488 - mae: 322.5488 - val_loss: 215.0204 - val_mae: 215.0204\n",
            "Epoch 179/200\n",
            "250/250 [==============================] - 2s 6ms/step - loss: 321.7303 - mae: 321.7303 - val_loss: 202.4643 - val_mae: 202.4643\n",
            "Epoch 180/200\n",
            "250/250 [==============================] - 2s 6ms/step - loss: 324.2974 - mae: 324.2974 - val_loss: 206.3916 - val_mae: 206.3916\n",
            "Epoch 181/200\n",
            "250/250 [==============================] - 2s 6ms/step - loss: 311.1730 - mae: 311.1730 - val_loss: 299.0041 - val_mae: 299.0041\n",
            "Epoch 182/200\n",
            "250/250 [==============================] - 2s 7ms/step - loss: 321.2409 - mae: 321.2409 - val_loss: 228.2192 - val_mae: 228.2192\n",
            "Epoch 183/200\n",
            "250/250 [==============================] - 2s 6ms/step - loss: 313.4906 - mae: 313.4906 - val_loss: 234.3131 - val_mae: 234.3131\n",
            "Epoch 184/200\n",
            "250/250 [==============================] - 3s 10ms/step - loss: 295.7877 - mae: 295.7877 - val_loss: 190.9733 - val_mae: 190.9733\n",
            "Epoch 185/200\n",
            "250/250 [==============================] - 2s 10ms/step - loss: 295.0934 - mae: 295.0934 - val_loss: 197.7778 - val_mae: 197.7778\n",
            "Epoch 186/200\n",
            "250/250 [==============================] - 2s 6ms/step - loss: 290.3195 - mae: 290.3195 - val_loss: 189.2879 - val_mae: 189.2879\n",
            "Epoch 187/200\n",
            "250/250 [==============================] - 2s 6ms/step - loss: 293.8588 - mae: 293.8588 - val_loss: 189.5740 - val_mae: 189.5740\n",
            "Epoch 188/200\n",
            "250/250 [==============================] - 2s 7ms/step - loss: 283.5219 - mae: 283.5219 - val_loss: 280.3325 - val_mae: 280.3325\n",
            "Epoch 189/200\n",
            "250/250 [==============================] - 2s 6ms/step - loss: 355.0235 - mae: 355.0235 - val_loss: 191.2102 - val_mae: 191.2102\n",
            "Epoch 190/200\n",
            "250/250 [==============================] - 2s 7ms/step - loss: 291.8220 - mae: 291.8220 - val_loss: 214.8784 - val_mae: 214.8784\n",
            "Epoch 191/200\n",
            "250/250 [==============================] - 2s 7ms/step - loss: 282.4721 - mae: 282.4721 - val_loss: 212.9147 - val_mae: 212.9147\n",
            "Epoch 192/200\n",
            "250/250 [==============================] - 3s 10ms/step - loss: 269.7321 - mae: 269.7321 - val_loss: 219.7746 - val_mae: 219.7746\n",
            "Epoch 193/200\n",
            "250/250 [==============================] - 2s 9ms/step - loss: 268.9171 - mae: 268.9171 - val_loss: 192.6416 - val_mae: 192.6416\n",
            "Epoch 194/200\n",
            "250/250 [==============================] - 2s 6ms/step - loss: 290.9490 - mae: 290.9490 - val_loss: 257.1190 - val_mae: 257.1190\n",
            "Epoch 195/200\n",
            "250/250 [==============================] - 2s 7ms/step - loss: 274.2288 - mae: 274.2288 - val_loss: 204.6720 - val_mae: 204.6720\n",
            "Epoch 196/200\n",
            "250/250 [==============================] - 2s 6ms/step - loss: 278.6199 - mae: 278.6199 - val_loss: 183.3941 - val_mae: 183.3941\n",
            "Epoch 197/200\n",
            "250/250 [==============================] - 2s 6ms/step - loss: 274.3596 - mae: 274.3596 - val_loss: 199.1092 - val_mae: 199.1092\n",
            "Epoch 198/200\n",
            "250/250 [==============================] - 2s 7ms/step - loss: 280.7027 - mae: 280.7027 - val_loss: 247.3900 - val_mae: 247.3900\n",
            "Epoch 199/200\n",
            "250/250 [==============================] - 2s 9ms/step - loss: 269.1542 - mae: 269.1542 - val_loss: 239.3385 - val_mae: 239.3385\n",
            "Epoch 200/200\n",
            "250/250 [==============================] - 3s 12ms/step - loss: 277.5643 - mae: 277.5643 - val_loss: 182.1168 - val_mae: 182.1168\n"
          ]
        }
      ]
    },
    {
      "cell_type": "code",
      "source": [
        "ev = model.evaluate(x_test, y_test, verbose=0)\n",
        "print('손실함수:', ev[0], 'mae: ', ev[1])"
      ],
      "metadata": {
        "colab": {
          "base_uri": "https://localhost:8080/"
        },
        "id": "Yvj4_jy_TOJc",
        "outputId": "dcb16cd2-3c8a-4f14-ec22-3b8c3421dec9"
      },
      "execution_count": 126,
      "outputs": [
        {
          "output_type": "stream",
          "name": "stdout",
          "text": [
            "손실함수: 182.1168212890625 mae:  182.1168212890625\n"
          ]
        }
      ]
    },
    {
      "cell_type": "code",
      "source": [
        "pred = model.predict(x_test)\n",
        "print(f'평균절댓값백분율오차(MAPE): {sum(abs(y_test-pred)/y_test)/len(x_test)}')    # 시계열로 비교할 데이터가 여러개이며, 값의 크기차이가 큰 경우 백분율오차를 사용하게 됨."
      ],
      "metadata": {
        "colab": {
          "base_uri": "https://localhost:8080/"
        },
        "id": "pbLqnsrCWfHr",
        "outputId": "48932e13-4a35-4f1b-f2bd-b38bdba9d530"
      },
      "execution_count": 130,
      "outputs": [
        {
          "output_type": "stream",
          "name": "stdout",
          "text": [
            "4/4 [==============================] - 0s 8ms/step\n",
            "평균절댓값백분율오차(MAPE): [0.11229825 0.11201096 0.11037288 0.10934142 0.10942369 0.10933755\n",
            " 0.11127159 0.112372   0.11317957 0.12723052 0.14943755 0.14552824\n",
            " 0.18111271 0.15546269 0.16545905 0.1310425  0.13863601 0.12297061\n",
            " 0.13016406 0.13921173 0.14299551 0.14449714 0.15522052 0.13805255\n",
            " 0.13159909 0.13063715 0.12981671 0.14302335 0.1519383  0.15729861\n",
            " 0.15835753 0.15204441 0.17391945 0.16987752 0.20763775 0.26213105\n",
            " 0.13645746 0.16447011 0.1656327  0.14708777 0.15227251 0.16177377\n",
            " 0.15243682 0.15534009 0.15926393 0.15347288 0.14482309 0.13896288\n",
            " 0.15059458 0.15979206 0.16054067 0.19533005 0.1466381  0.14265148\n",
            " 0.14186868 0.12351206 0.11390997 0.11331432 0.12021261 0.11294536\n",
            " 0.11310241 0.11192093 0.11240012 0.11165722 0.11471084 0.11114613\n",
            " 0.11751122 0.11804388 0.11016987 0.11032664 0.11108822 0.11013622\n",
            " 0.10983681 0.1094991  0.1100743  0.10942882 0.11599923 0.12520362\n",
            " 0.13285992 0.1435983  0.13585017 0.1346822  0.13568112 0.13071697\n",
            " 0.12701957 0.14778535 0.15076843 0.1575207  0.16636131 0.18082517\n",
            " 0.16034851 0.188527   0.19826664 0.18713826 0.19846783 0.16626293\n",
            " 0.16278481 0.14837256 0.18504963 0.15181394 0.14809852 0.1502073\n",
            " 0.15117892 0.16579279 0.1485793  0.13603627 0.1129795  0.11290468]\n"
          ]
        }
      ]
    },
    {
      "cell_type": "code",
      "source": [
        "x_range = range(len(y_test))\n",
        "plt.plot(x_range, y_test[x_range], color='red')\n",
        "plt.plot(x_range, pred[x_range], color='blue')\n",
        "plt.legend(['True prices', 'Predicted prices'], loc='best')\n",
        "plt.grid()\n",
        "plt.show()"
      ],
      "metadata": {
        "colab": {
          "base_uri": "https://localhost:8080/",
          "height": 430
        },
        "id": "9jYTkO1ZWqZr",
        "outputId": "fd5ba796-fb2b-4217-c26a-cd27a814d91f"
      },
      "execution_count": 131,
      "outputs": [
        {
          "output_type": "display_data",
          "data": {
            "text/plain": [
              "<Figure size 640x480 with 1 Axes>"
            ],
            "image/png": "[encoded data removed]"
          },
          "metadata": {}
        }
      ]
    },
    {
      "cell_type": "code",
      "source": [
        "x_range = range(50, 64)\n",
        "plt.plot(x_range, y_test[x_range], color='red')\n",
        "plt.plot(x_range, pred[x_range], color='blue')\n",
        "plt.legend(['True prices', 'Predicted prices'], loc='best')\n",
        "plt.grid()\n",
        "plt.show()"
      ],
      "metadata": {
        "colab": {
          "base_uri": "https://localhost:8080/",
          "height": 430
        },
        "id": "JtgMbrHxYSAL",
        "outputId": "337bee8c-b6ff-4f7f-ffae-39b04d515dea"
      },
      "execution_count": 132,
      "outputs": [
        {
          "output_type": "display_data",
          "data": {
            "text/plain": [
              "<Figure size 640x480 with 1 Axes>"
            ],
            "image/png": "[encoded data removed]"
          },
          "metadata": {}
        }
      ]
    },
    {
      "cell_type": "markdown",
      "source": [
        "### 음계 분석\n",
        "```\n",
        "# 도레미파솔라시 = C D E F G A B\n",
        "# 2,4,8 음표\n",
        "# 두개의 조합은 총 21개\n",
        "```\n",
        "\n"
      ],
      "metadata": {
        "id": "yRGC42jRaYJv"
      }
    },
    {
      "cell_type": "code",
      "source": [
        "import music21"
      ],
      "metadata": {
        "id": "MiQgwBG0Ytza"
      },
      "execution_count": 133,
      "outputs": []
    },
    {
      "cell_type": "code",
      "source": [
        "# 작은별 악보\n",
        "little_star=\"tinynotation: 4/4 c4 c4 g4 g4 a4 a4 g2 f4 f4 e4 e4 d4 d4 c2 g4 g4 f4 f4 e4 e4 d2 g4 g4 f4 f4 e4 e4 d2 c4 c4 g4 g4 a4 a4 g2 f4 f4 e4 e4 d4 d4 c2\""
      ],
      "metadata": {
        "id": "sqC2QaPwbN7q"
      },
      "execution_count": 134,
      "outputs": []
    },
    {
      "cell_type": "code",
      "source": [
        "import numpy as np\n",
        "from tensorflow.keras.models import Sequential\n",
        "from tensorflow.keras.layers import Dense, LSTM\n",
        "import tensorflow as tf\n"
      ],
      "metadata": {
        "id": "t5KGKcS4bRHp"
      },
      "execution_count": 137,
      "outputs": []
    },
    {
      "cell_type": "code",
      "source": [
        "# 계이름과 숫자를 상호 변환 (딕셔너리 활용)\n",
        "note2num={'c':1,'d':2,'e':3,'f':4,'g':5,'a':6,'b':7}\n",
        "num2note={1:'c',2:'d',3:'e',4:'f',5:'g',6:'a',7:'b'}"
      ],
      "metadata": {
        "id": "RZyOUwyncr6J"
      },
      "execution_count": 136,
      "outputs": []
    },
    {
      "cell_type": "code",
      "source": [
        "def abc2timeseries(s):\n",
        "  notes = s.split(' ')[2:]  # 앞의 두개는 악보가 아니라서 ['tinynotation:', '4/4', 'c4', ...]\n",
        "  seq = []\n",
        "  for note in notes:\n",
        "    seq.append([note2num[note[0]], int(note[1])])     # c4 에서 [0], [1]\n",
        "\n",
        "  return seq"
      ],
      "metadata": {
        "id": "MjcsZJ6uc0bB"
      },
      "execution_count": 138,
      "outputs": []
    },
    {
      "cell_type": "code",
      "source": [
        "seq = abc2timeseries(little_star)"
      ],
      "metadata": {
        "id": "lxbulKASdRaa"
      },
      "execution_count": 139,
      "outputs": []
    },
    {
      "cell_type": "code",
      "source": [
        "# 시계열 데이터를 ABC 표기로 변환\n",
        "def timeseries2abc(t): #t = array([[1,4], [2,4], ...])\n",
        "    s='tinynotation: 4/4'\n",
        "    for i in t:\n",
        "        s=s+' '+num2note[i[0]]+str(i[1])\n",
        "    return s"
      ],
      "metadata": {
        "id": "im9Hc_YcdwyR"
      },
      "execution_count": 141,
      "outputs": []
    },
    {
      "cell_type": "code",
      "source": [
        "w = 8 # 윈도우 크기 8 (4/4박자니깐 2마디)\n",
        "h = 1 # 수평선 계수 1"
      ],
      "metadata": {
        "id": "E_RXZQZ6eD0Z"
      },
      "execution_count": 142,
      "outputs": []
    },
    {
      "cell_type": "code",
      "source": [
        "def seq2dataset(seq,window,horizon):\n",
        "    X=[]; Y=[]\n",
        "    for i in range(len(seq)-(window+horizon)+1):\n",
        "        x=seq[i:(i+window)]\n",
        "        #y=(seq[i+window+horizon-1])\n",
        "        y=seq[i+window+horizon-1]\n",
        "        X.append(x); Y.append(y)\n",
        "    return np.array(X), np.array(Y)"
      ],
      "metadata": {
        "id": "WkzQ3dBIevuj"
      },
      "execution_count": 144,
      "outputs": []
    },
    {
      "cell_type": "code",
      "source": [
        "X, Y = seq2dataset(seq, w, h)\n",
        "print(X.shape, Y.shape)\n",
        "print(X[0], Y[0])"
      ],
      "metadata": {
        "colab": {
          "base_uri": "https://localhost:8080/"
        },
        "id": "qu47j3J6eYCJ",
        "outputId": "5c6b8c3d-3de4-44dc-e7f4-e9381d54e729"
      },
      "execution_count": 145,
      "outputs": [
        {
          "output_type": "stream",
          "name": "stdout",
          "text": [
            "(34, 8, 2) (34, 2)\n",
            "[[1 4]\n",
            " [1 4]\n",
            " [5 4]\n",
            " [5 4]\n",
            " [6 4]\n",
            " [6 4]\n",
            " [5 2]\n",
            " [4 4]] [4 4]\n"
          ]
        }
      ]
    },
    {
      "cell_type": "code",
      "source": [
        "split = int(len(X)*1.0)   # 생성형이라 test 가 없다"
      ],
      "metadata": {
        "id": "IpuL0dRkef1h"
      },
      "execution_count": 146,
      "outputs": []
    },
    {
      "cell_type": "code",
      "source": [
        "x_train = X[0:split]\n",
        "y_train = Y[0:split]"
      ],
      "metadata": {
        "id": "BVGNrAhGe_db"
      },
      "execution_count": 157,
      "outputs": []
    },
    {
      "cell_type": "code",
      "source": [
        "x_train.shape, y_train.shape"
      ],
      "metadata": {
        "colab": {
          "base_uri": "https://localhost:8080/"
        },
        "id": "MVnW5GOSfC55",
        "outputId": "ac5843f8-df1a-42c0-d593-f6c9a593a55b"
      },
      "execution_count": 158,
      "outputs": [
        {
          "output_type": "execute_result",
          "data": {
            "text/plain": [
              "((34, 8, 2), (34, 2))"
            ]
          },
          "metadata": {},
          "execution_count": 158
        }
      ]
    },
    {
      "cell_type": "code",
      "source": [
        "y_train[0]"
      ],
      "metadata": {
        "colab": {
          "base_uri": "https://localhost:8080/"
        },
        "id": "3yo82onbfFF5",
        "outputId": "a6912b37-2167-4aa8-af87-e14885a2e899"
      },
      "execution_count": 159,
      "outputs": [
        {
          "output_type": "execute_result",
          "data": {
            "text/plain": [
              "array([4, 4])"
            ]
          },
          "metadata": {},
          "execution_count": 159
        }
      ]
    },
    {
      "cell_type": "code",
      "source": [
        "# 원핫 코드로 변환하는 표\n",
        "onehot=[[1,2],[2,2],[3,2],[4,2],[5,2],[6,2],[7,2],[1,4],[2,4],[3,4],[4,4],[5,4],[6,4],[7,4],[1,8],[2,8],[3,8],[4,8],[5,8],[6,8],[7,8]]"
      ],
      "metadata": {
        "id": "Kzb5XesgfP3x"
      },
      "execution_count": 160,
      "outputs": []
    },
    {
      "cell_type": "code",
      "source": [
        "def to_onehot(length):\n",
        "  t = []\n",
        "  for i in range(len(length)):\n",
        "    a = np.zeros(len(onehot))\n",
        "    a[onehot.index(list(length[i]))] = 1.0\n",
        "    t.append(a)\n",
        "\n",
        "  return np.array(t)"
      ],
      "metadata": {
        "id": "WP5IOkZQfiZQ"
      },
      "execution_count": 161,
      "outputs": []
    },
    {
      "cell_type": "code",
      "source": [
        "y_train[0]"
      ],
      "metadata": {
        "colab": {
          "base_uri": "https://localhost:8080/"
        },
        "id": "x6p1ixLLgX-D",
        "outputId": "07d95122-8ce0-4699-eff5-2ecd3dc226ce"
      },
      "execution_count": 162,
      "outputs": [
        {
          "output_type": "execute_result",
          "data": {
            "text/plain": [
              "array([4, 4])"
            ]
          },
          "metadata": {},
          "execution_count": 162
        }
      ]
    },
    {
      "cell_type": "code",
      "source": [
        "y_train = to_onehot(y_train)"
      ],
      "metadata": {
        "id": "GOPN0ugxgPbk"
      },
      "execution_count": 163,
      "outputs": []
    },
    {
      "cell_type": "code",
      "source": [
        "y_train[0]"
      ],
      "metadata": {
        "colab": {
          "base_uri": "https://localhost:8080/"
        },
        "id": "pkPCLgQngsio",
        "outputId": "edb10b9a-e0d1-4002-a3b3-9e213986306f"
      },
      "execution_count": 164,
      "outputs": [
        {
          "output_type": "execute_result",
          "data": {
            "text/plain": [
              "array([0., 0., 0., 0., 0., 0., 0., 0., 0., 0., 1., 0., 0., 0., 0., 0., 0.,\n",
              "       0., 0., 0., 0.])"
            ]
          },
          "metadata": {},
          "execution_count": 164
        }
      ]
    },
    {
      "cell_type": "code",
      "source": [
        "# LSTM 모델 설계와 학습\n",
        "model = Sequential()\n",
        "model.add(LSTM(units = 128, activation='relu', input_shape=x_train[0].shape))\n",
        "model.add(Dense(y_train.shape[1], activation='softmax'))\n",
        "model.compile(loss='categorical_crossentropy', optimizer='adam', metrics=['accuracy'])\n",
        "model.fit(x_train, y_train, epochs=200, batch_size=1, verbose=1)"
      ],
      "metadata": {
        "colab": {
          "base_uri": "https://localhost:8080/"
        },
        "id": "McmtyWR7gtSw",
        "outputId": "344d7772-110a-4891-dfd1-77e292c2936e"
      },
      "execution_count": 165,
      "outputs": [
        {
          "output_type": "stream",
          "name": "stdout",
          "text": [
            "Epoch 1/200\n",
            "34/34 [==============================] - 2s 6ms/step - loss: 2.6703 - accuracy: 0.1176\n",
            "Epoch 2/200\n",
            "34/34 [==============================] - 0s 6ms/step - loss: 2.1879 - accuracy: 0.2059\n",
            "Epoch 3/200\n",
            "34/34 [==============================] - 0s 6ms/step - loss: 2.0067 - accuracy: 0.2941\n",
            "Epoch 4/200\n",
            "34/34 [==============================] - 0s 6ms/step - loss: 1.9270 - accuracy: 0.2941\n",
            "Epoch 5/200\n",
            "34/34 [==============================] - 0s 6ms/step - loss: 1.7722 - accuracy: 0.3235\n",
            "Epoch 6/200\n",
            "34/34 [==============================] - 0s 6ms/step - loss: 1.6436 - accuracy: 0.4412\n",
            "Epoch 7/200\n",
            "34/34 [==============================] - 0s 7ms/step - loss: 1.5060 - accuracy: 0.4118\n",
            "Epoch 8/200\n",
            "34/34 [==============================] - 0s 6ms/step - loss: 1.5698 - accuracy: 0.3235\n",
            "Epoch 9/200\n",
            "34/34 [==============================] - 0s 6ms/step - loss: 1.3368 - accuracy: 0.5000\n",
            "Epoch 10/200\n",
            "34/34 [==============================] - 0s 6ms/step - loss: 1.3159 - accuracy: 0.5000\n",
            "Epoch 11/200\n",
            "34/34 [==============================] - 0s 6ms/step - loss: 1.4912 - accuracy: 0.4412\n",
            "Epoch 12/200\n",
            "34/34 [==============================] - 0s 6ms/step - loss: 1.2976 - accuracy: 0.5000\n",
            "Epoch 13/200\n",
            "34/34 [==============================] - 0s 6ms/step - loss: 1.3060 - accuracy: 0.5882\n",
            "Epoch 14/200\n",
            "34/34 [==============================] - 0s 6ms/step - loss: 1.1576 - accuracy: 0.5294\n",
            "Epoch 15/200\n",
            "34/34 [==============================] - 0s 6ms/step - loss: 1.1775 - accuracy: 0.5294\n",
            "Epoch 16/200\n",
            "34/34 [==============================] - 0s 6ms/step - loss: 1.0557 - accuracy: 0.6176\n",
            "Epoch 17/200\n",
            "34/34 [==============================] - 0s 6ms/step - loss: 0.9809 - accuracy: 0.6176\n",
            "Epoch 18/200\n",
            "34/34 [==============================] - 0s 6ms/step - loss: 0.8379 - accuracy: 0.6176\n",
            "Epoch 19/200\n",
            "34/34 [==============================] - 0s 6ms/step - loss: 0.9789 - accuracy: 0.4706\n",
            "Epoch 20/200\n",
            "34/34 [==============================] - 0s 9ms/step - loss: 0.8486 - accuracy: 0.6176\n",
            "Epoch 21/200\n",
            "34/34 [==============================] - 0s 10ms/step - loss: 0.8910 - accuracy: 0.6176\n",
            "Epoch 22/200\n",
            "34/34 [==============================] - 0s 10ms/step - loss: 1.0370 - accuracy: 0.6471\n",
            "Epoch 23/200\n",
            "34/34 [==============================] - 0s 11ms/step - loss: 0.8915 - accuracy: 0.5882\n",
            "Epoch 24/200\n",
            "34/34 [==============================] - 0s 10ms/step - loss: 0.7991 - accuracy: 0.6471\n",
            "Epoch 25/200\n",
            "34/34 [==============================] - 0s 9ms/step - loss: 0.7560 - accuracy: 0.7059\n",
            "Epoch 26/200\n",
            "34/34 [==============================] - 0s 9ms/step - loss: 0.6747 - accuracy: 0.7059\n",
            "Epoch 27/200\n",
            "34/34 [==============================] - 0s 9ms/step - loss: 0.5724 - accuracy: 0.7647\n",
            "Epoch 28/200\n",
            "34/34 [==============================] - 0s 9ms/step - loss: 0.6212 - accuracy: 0.7353\n",
            "Epoch 29/200\n",
            "34/34 [==============================] - 0s 10ms/step - loss: 0.8776 - accuracy: 0.5882\n",
            "Epoch 30/200\n",
            "34/34 [==============================] - 0s 10ms/step - loss: 0.5922 - accuracy: 0.7353\n",
            "Epoch 31/200\n",
            "34/34 [==============================] - 0s 10ms/step - loss: 0.4372 - accuracy: 0.8235\n",
            "Epoch 32/200\n",
            "34/34 [==============================] - 0s 10ms/step - loss: 0.8946 - accuracy: 0.7059\n",
            "Epoch 33/200\n",
            "34/34 [==============================] - 0s 6ms/step - loss: 1.2102 - accuracy: 0.5588\n",
            "Epoch 34/200\n",
            "34/34 [==============================] - 0s 7ms/step - loss: 0.4970 - accuracy: 0.7647\n",
            "Epoch 35/200\n",
            "34/34 [==============================] - 0s 6ms/step - loss: 0.5566 - accuracy: 0.8235\n",
            "Epoch 36/200\n",
            "34/34 [==============================] - 0s 6ms/step - loss: 0.7361 - accuracy: 0.7353\n",
            "Epoch 37/200\n",
            "34/34 [==============================] - 0s 6ms/step - loss: 0.6313 - accuracy: 0.7059\n",
            "Epoch 38/200\n",
            "34/34 [==============================] - 0s 6ms/step - loss: 0.2981 - accuracy: 0.8824\n",
            "Epoch 39/200\n",
            "34/34 [==============================] - 0s 6ms/step - loss: 0.3814 - accuracy: 0.8529\n",
            "Epoch 40/200\n",
            "34/34 [==============================] - 0s 6ms/step - loss: 0.4109 - accuracy: 0.9118\n",
            "Epoch 41/200\n",
            "34/34 [==============================] - 0s 6ms/step - loss: 0.2466 - accuracy: 0.8824\n",
            "Epoch 42/200\n",
            "34/34 [==============================] - 0s 6ms/step - loss: 0.4953 - accuracy: 0.7647\n",
            "Epoch 43/200\n",
            "34/34 [==============================] - 0s 7ms/step - loss: 0.3562 - accuracy: 0.9118\n",
            "Epoch 44/200\n",
            "34/34 [==============================] - 0s 6ms/step - loss: 0.1984 - accuracy: 0.9706\n",
            "Epoch 45/200\n",
            "34/34 [==============================] - 0s 6ms/step - loss: 0.2702 - accuracy: 0.9118\n",
            "Epoch 46/200\n",
            "34/34 [==============================] - 0s 6ms/step - loss: 0.6968 - accuracy: 0.8529\n",
            "Epoch 47/200\n",
            "34/34 [==============================] - 0s 6ms/step - loss: 0.5637 - accuracy: 0.8235\n",
            "Epoch 48/200\n",
            "34/34 [==============================] - 0s 6ms/step - loss: 0.4831 - accuracy: 0.8529\n",
            "Epoch 49/200\n",
            "34/34 [==============================] - 0s 6ms/step - loss: 0.2124 - accuracy: 0.9706\n",
            "Epoch 50/200\n",
            "34/34 [==============================] - 0s 6ms/step - loss: 0.1745 - accuracy: 0.8824\n",
            "Epoch 51/200\n",
            "34/34 [==============================] - 0s 6ms/step - loss: 0.1315 - accuracy: 0.9706\n",
            "Epoch 52/200\n",
            "34/34 [==============================] - 0s 6ms/step - loss: 0.1795 - accuracy: 0.8824\n",
            "Epoch 53/200\n",
            "34/34 [==============================] - 0s 6ms/step - loss: 0.1236 - accuracy: 0.9706\n",
            "Epoch 54/200\n",
            "34/34 [==============================] - 0s 6ms/step - loss: 0.1542 - accuracy: 0.9412\n",
            "Epoch 55/200\n",
            "34/34 [==============================] - 0s 5ms/step - loss: 0.1528 - accuracy: 0.9412\n",
            "Epoch 56/200\n",
            "34/34 [==============================] - 0s 6ms/step - loss: 0.2119 - accuracy: 0.9118\n",
            "Epoch 57/200\n",
            "34/34 [==============================] - 0s 6ms/step - loss: 0.1583 - accuracy: 0.9412\n",
            "Epoch 58/200\n",
            "34/34 [==============================] - 0s 6ms/step - loss: 0.2219 - accuracy: 0.9118\n",
            "Epoch 59/200\n",
            "34/34 [==============================] - 0s 5ms/step - loss: 0.3399 - accuracy: 0.9118\n",
            "Epoch 60/200\n",
            "34/34 [==============================] - 0s 6ms/step - loss: 0.1281 - accuracy: 0.9706\n",
            "Epoch 61/200\n",
            "34/34 [==============================] - 0s 6ms/step - loss: 0.1212 - accuracy: 0.9412\n",
            "Epoch 62/200\n",
            "34/34 [==============================] - 0s 5ms/step - loss: 0.0824 - accuracy: 0.9706\n",
            "Epoch 63/200\n",
            "34/34 [==============================] - 0s 6ms/step - loss: 0.1642 - accuracy: 0.9118\n",
            "Epoch 64/200\n",
            "34/34 [==============================] - 0s 6ms/step - loss: 0.1530 - accuracy: 0.9412\n",
            "Epoch 65/200\n",
            "34/34 [==============================] - 0s 6ms/step - loss: 0.1074 - accuracy: 0.9706\n",
            "Epoch 66/200\n",
            "34/34 [==============================] - 0s 6ms/step - loss: 0.1090 - accuracy: 0.9412\n",
            "Epoch 67/200\n",
            "34/34 [==============================] - 0s 6ms/step - loss: 0.1336 - accuracy: 0.9412\n",
            "Epoch 68/200\n",
            "34/34 [==============================] - 0s 6ms/step - loss: 0.0935 - accuracy: 0.9412\n",
            "Epoch 69/200\n",
            "34/34 [==============================] - 0s 6ms/step - loss: 0.0764 - accuracy: 0.9706\n",
            "Epoch 70/200\n",
            "34/34 [==============================] - 0s 6ms/step - loss: 0.0682 - accuracy: 0.9706\n",
            "Epoch 71/200\n",
            "34/34 [==============================] - 0s 6ms/step - loss: 0.0558 - accuracy: 0.9412\n",
            "Epoch 72/200\n",
            "34/34 [==============================] - 0s 6ms/step - loss: 0.0715 - accuracy: 0.9706\n",
            "Epoch 73/200\n",
            "34/34 [==============================] - 0s 6ms/step - loss: 0.3428 - accuracy: 0.8824\n",
            "Epoch 74/200\n",
            "34/34 [==============================] - 0s 6ms/step - loss: 0.2082 - accuracy: 0.9412\n",
            "Epoch 75/200\n",
            "34/34 [==============================] - 0s 6ms/step - loss: 0.9870 - accuracy: 0.6471\n",
            "Epoch 76/200\n",
            "34/34 [==============================] - 0s 6ms/step - loss: 0.4442 - accuracy: 0.7941\n",
            "Epoch 77/200\n",
            "34/34 [==============================] - 0s 6ms/step - loss: 1.2399 - accuracy: 0.6765\n",
            "Epoch 78/200\n",
            "34/34 [==============================] - 0s 7ms/step - loss: 0.7345 - accuracy: 0.7647\n",
            "Epoch 79/200\n",
            "34/34 [==============================] - 0s 6ms/step - loss: 0.3651 - accuracy: 0.9412\n",
            "Epoch 80/200\n",
            "34/34 [==============================] - 0s 6ms/step - loss: 0.1883 - accuracy: 0.9412\n",
            "Epoch 81/200\n",
            "34/34 [==============================] - 0s 10ms/step - loss: 0.1129 - accuracy: 0.9412\n",
            "Epoch 82/200\n",
            "34/34 [==============================] - 0s 10ms/step - loss: 0.0842 - accuracy: 0.9706\n",
            "Epoch 83/200\n",
            "34/34 [==============================] - 0s 10ms/step - loss: 0.0914 - accuracy: 0.9706\n",
            "Epoch 84/200\n",
            "34/34 [==============================] - 0s 9ms/step - loss: 0.1328 - accuracy: 0.9118\n",
            "Epoch 85/200\n",
            "34/34 [==============================] - 0s 10ms/step - loss: 0.0637 - accuracy: 0.9706\n",
            "Epoch 86/200\n",
            "34/34 [==============================] - 0s 10ms/step - loss: 0.0896 - accuracy: 0.9412\n",
            "Epoch 87/200\n",
            "34/34 [==============================] - 0s 10ms/step - loss: 0.4718 - accuracy: 0.8824\n",
            "Epoch 88/200\n",
            "34/34 [==============================] - 0s 10ms/step - loss: 0.3983 - accuracy: 0.8529\n",
            "Epoch 89/200\n",
            "34/34 [==============================] - 0s 10ms/step - loss: 0.2090 - accuracy: 0.9706\n",
            "Epoch 90/200\n",
            "34/34 [==============================] - 0s 10ms/step - loss: 0.1159 - accuracy: 0.9412\n",
            "Epoch 91/200\n",
            "34/34 [==============================] - 0s 10ms/step - loss: 0.0982 - accuracy: 0.9706\n",
            "Epoch 92/200\n",
            "34/34 [==============================] - 0s 10ms/step - loss: 0.0717 - accuracy: 0.9706\n",
            "Epoch 93/200\n",
            "34/34 [==============================] - 0s 10ms/step - loss: 0.0783 - accuracy: 0.9412\n",
            "Epoch 94/200\n",
            "34/34 [==============================] - 0s 6ms/step - loss: 0.0784 - accuracy: 0.9706\n",
            "Epoch 95/200\n",
            "34/34 [==============================] - 0s 6ms/step - loss: 0.0610 - accuracy: 0.9706\n",
            "Epoch 96/200\n",
            "34/34 [==============================] - 0s 6ms/step - loss: 0.0500 - accuracy: 0.9706\n",
            "Epoch 97/200\n",
            "34/34 [==============================] - 0s 6ms/step - loss: 0.0719 - accuracy: 0.9412\n",
            "Epoch 98/200\n",
            "34/34 [==============================] - 0s 6ms/step - loss: 0.0508 - accuracy: 0.9706\n",
            "Epoch 99/200\n",
            "34/34 [==============================] - 0s 6ms/step - loss: 0.0704 - accuracy: 0.9706\n",
            "Epoch 100/200\n",
            "34/34 [==============================] - 0s 7ms/step - loss: 0.0557 - accuracy: 0.9706\n",
            "Epoch 101/200\n",
            "34/34 [==============================] - 0s 6ms/step - loss: 0.0609 - accuracy: 0.9412\n",
            "Epoch 102/200\n",
            "34/34 [==============================] - 0s 6ms/step - loss: 0.0687 - accuracy: 0.9706\n",
            "Epoch 103/200\n",
            "34/34 [==============================] - 0s 6ms/step - loss: 0.0705 - accuracy: 0.9412\n",
            "Epoch 104/200\n",
            "34/34 [==============================] - 0s 7ms/step - loss: 0.0501 - accuracy: 0.9412\n",
            "Epoch 105/200\n",
            "34/34 [==============================] - 0s 6ms/step - loss: 0.0771 - accuracy: 0.9412\n",
            "Epoch 106/200\n",
            "34/34 [==============================] - 0s 6ms/step - loss: 0.0490 - accuracy: 0.9706\n",
            "Epoch 107/200\n",
            "34/34 [==============================] - 0s 6ms/step - loss: 0.0666 - accuracy: 0.9706\n",
            "Epoch 108/200\n",
            "34/34 [==============================] - 0s 6ms/step - loss: 0.0602 - accuracy: 0.9706\n",
            "Epoch 109/200\n",
            "34/34 [==============================] - 0s 7ms/step - loss: 0.0803 - accuracy: 0.9412\n",
            "Epoch 110/200\n",
            "34/34 [==============================] - 0s 6ms/step - loss: 0.0516 - accuracy: 0.9706\n",
            "Epoch 111/200\n",
            "34/34 [==============================] - 0s 6ms/step - loss: 0.0680 - accuracy: 0.9706\n",
            "Epoch 112/200\n",
            "34/34 [==============================] - 0s 6ms/step - loss: 0.0535 - accuracy: 0.9412\n",
            "Epoch 113/200\n",
            "34/34 [==============================] - 0s 6ms/step - loss: 0.0601 - accuracy: 0.9412\n",
            "Epoch 114/200\n",
            "34/34 [==============================] - 0s 6ms/step - loss: 0.0662 - accuracy: 0.9412\n",
            "Epoch 115/200\n",
            "34/34 [==============================] - 0s 6ms/step - loss: 0.0720 - accuracy: 0.9706\n",
            "Epoch 116/200\n",
            "34/34 [==============================] - 0s 6ms/step - loss: 0.0548 - accuracy: 0.9412\n",
            "Epoch 117/200\n",
            "34/34 [==============================] - 0s 6ms/step - loss: 0.0616 - accuracy: 0.9412\n",
            "Epoch 118/200\n",
            "34/34 [==============================] - 0s 6ms/step - loss: 0.0750 - accuracy: 0.9706\n",
            "Epoch 119/200\n",
            "34/34 [==============================] - 0s 6ms/step - loss: 0.0562 - accuracy: 0.9412\n",
            "Epoch 120/200\n",
            "34/34 [==============================] - 0s 6ms/step - loss: 0.0546 - accuracy: 0.9706\n",
            "Epoch 121/200\n",
            "34/34 [==============================] - 0s 6ms/step - loss: 0.0887 - accuracy: 0.9706\n",
            "Epoch 122/200\n",
            "34/34 [==============================] - 0s 6ms/step - loss: 0.0399 - accuracy: 1.0000\n",
            "Epoch 123/200\n",
            "34/34 [==============================] - 0s 7ms/step - loss: 0.0604 - accuracy: 0.9706\n",
            "Epoch 124/200\n",
            "34/34 [==============================] - 0s 6ms/step - loss: 0.0583 - accuracy: 0.9706\n",
            "Epoch 125/200\n",
            "34/34 [==============================] - 0s 6ms/step - loss: 0.0560 - accuracy: 0.9412\n",
            "Epoch 126/200\n",
            "34/34 [==============================] - 0s 6ms/step - loss: 0.0741 - accuracy: 0.9706\n",
            "Epoch 127/200\n",
            "34/34 [==============================] - 0s 6ms/step - loss: 0.0449 - accuracy: 1.0000\n",
            "Epoch 128/200\n",
            "34/34 [==============================] - 0s 6ms/step - loss: 0.0586 - accuracy: 0.9412\n",
            "Epoch 129/200\n",
            "34/34 [==============================] - 0s 6ms/step - loss: 0.0476 - accuracy: 0.9706\n",
            "Epoch 130/200\n",
            "34/34 [==============================] - 0s 6ms/step - loss: 0.0361 - accuracy: 1.0000\n",
            "Epoch 131/200\n",
            "34/34 [==============================] - 0s 6ms/step - loss: 0.0364 - accuracy: 0.9706\n",
            "Epoch 132/200\n",
            "34/34 [==============================] - 0s 6ms/step - loss: 0.0521 - accuracy: 0.9706\n",
            "Epoch 133/200\n",
            "34/34 [==============================] - 0s 7ms/step - loss: 0.0637 - accuracy: 0.9412\n",
            "Epoch 134/200\n",
            "34/34 [==============================] - 0s 6ms/step - loss: 0.0338 - accuracy: 1.0000\n",
            "Epoch 135/200\n",
            "34/34 [==============================] - 0s 6ms/step - loss: 0.0404 - accuracy: 0.9706\n",
            "Epoch 136/200\n",
            "34/34 [==============================] - 0s 6ms/step - loss: 0.0561 - accuracy: 0.9706\n",
            "Epoch 137/200\n",
            "34/34 [==============================] - 0s 6ms/step - loss: 0.0270 - accuracy: 1.0000\n",
            "Epoch 138/200\n",
            "34/34 [==============================] - 0s 6ms/step - loss: 0.0484 - accuracy: 0.9706\n",
            "Epoch 139/200\n",
            "34/34 [==============================] - 0s 9ms/step - loss: 0.0662 - accuracy: 0.9412\n",
            "Epoch 140/200\n",
            "34/34 [==============================] - 0s 10ms/step - loss: 0.0356 - accuracy: 0.9706\n",
            "Epoch 141/200\n",
            "34/34 [==============================] - 0s 11ms/step - loss: 0.0304 - accuracy: 1.0000\n",
            "Epoch 142/200\n",
            "34/34 [==============================] - 0s 10ms/step - loss: 0.0381 - accuracy: 0.9706\n",
            "Epoch 143/200\n",
            "34/34 [==============================] - 0s 10ms/step - loss: 0.0581 - accuracy: 0.9706\n",
            "Epoch 144/200\n",
            "34/34 [==============================] - 0s 11ms/step - loss: 0.0192 - accuracy: 1.0000\n",
            "Epoch 145/200\n",
            "34/34 [==============================] - 0s 10ms/step - loss: 0.0471 - accuracy: 0.9706\n",
            "Epoch 146/200\n",
            "34/34 [==============================] - 0s 10ms/step - loss: 0.0805 - accuracy: 0.9706\n",
            "Epoch 147/200\n",
            "34/34 [==============================] - 0s 11ms/step - loss: 0.1461 - accuracy: 0.9412\n",
            "Epoch 148/200\n",
            "34/34 [==============================] - 0s 10ms/step - loss: 1.1189 - accuracy: 0.7059\n",
            "Epoch 149/200\n",
            "34/34 [==============================] - 0s 10ms/step - loss: 1.0903 - accuracy: 0.8235\n",
            "Epoch 150/200\n",
            "34/34 [==============================] - 0s 11ms/step - loss: 0.3898 - accuracy: 0.8824\n",
            "Epoch 151/200\n",
            "34/34 [==============================] - 0s 10ms/step - loss: 0.0960 - accuracy: 1.0000\n",
            "Epoch 152/200\n",
            "34/34 [==============================] - 0s 6ms/step - loss: 0.0742 - accuracy: 0.9412\n",
            "Epoch 153/200\n",
            "34/34 [==============================] - 0s 7ms/step - loss: 0.0480 - accuracy: 0.9706\n",
            "Epoch 154/200\n",
            "34/34 [==============================] - 0s 6ms/step - loss: 0.0564 - accuracy: 0.9706\n",
            "Epoch 155/200\n",
            "34/34 [==============================] - 0s 6ms/step - loss: 0.0879 - accuracy: 0.9412\n",
            "Epoch 156/200\n",
            "34/34 [==============================] - 0s 6ms/step - loss: 0.0819 - accuracy: 0.9412\n",
            "Epoch 157/200\n",
            "34/34 [==============================] - 0s 6ms/step - loss: 0.2206 - accuracy: 0.9118\n",
            "Epoch 158/200\n",
            "34/34 [==============================] - 0s 7ms/step - loss: 0.5529 - accuracy: 0.7941\n",
            "Epoch 159/200\n",
            "34/34 [==============================] - 0s 6ms/step - loss: 0.2473 - accuracy: 0.9412\n",
            "Epoch 160/200\n",
            "34/34 [==============================] - 0s 6ms/step - loss: 0.0796 - accuracy: 0.9706\n",
            "Epoch 161/200\n",
            "34/34 [==============================] - 0s 6ms/step - loss: 0.0530 - accuracy: 0.9706\n",
            "Epoch 162/200\n",
            "34/34 [==============================] - 0s 7ms/step - loss: 0.0475 - accuracy: 0.9706\n",
            "Epoch 163/200\n",
            "34/34 [==============================] - 0s 6ms/step - loss: 0.0461 - accuracy: 0.9706\n",
            "Epoch 164/200\n",
            "34/34 [==============================] - 0s 6ms/step - loss: 0.0480 - accuracy: 0.9706\n",
            "Epoch 165/200\n",
            "34/34 [==============================] - 0s 6ms/step - loss: 0.0507 - accuracy: 0.9412\n",
            "Epoch 166/200\n",
            "34/34 [==============================] - 0s 6ms/step - loss: 0.0374 - accuracy: 0.9706\n",
            "Epoch 167/200\n",
            "34/34 [==============================] - 0s 7ms/step - loss: 0.0389 - accuracy: 0.9706\n",
            "Epoch 168/200\n",
            "34/34 [==============================] - 0s 6ms/step - loss: 0.0563 - accuracy: 0.9706\n",
            "Epoch 169/200\n",
            "34/34 [==============================] - 0s 6ms/step - loss: 0.0370 - accuracy: 0.9706\n",
            "Epoch 170/200\n",
            "34/34 [==============================] - 0s 6ms/step - loss: 0.0305 - accuracy: 1.0000\n",
            "Epoch 171/200\n",
            "34/34 [==============================] - 0s 6ms/step - loss: 0.0281 - accuracy: 1.0000\n",
            "Epoch 172/200\n",
            "34/34 [==============================] - 0s 7ms/step - loss: 0.0314 - accuracy: 1.0000\n",
            "Epoch 173/200\n",
            "34/34 [==============================] - 0s 6ms/step - loss: 0.0856 - accuracy: 0.9706\n",
            "Epoch 174/200\n",
            "34/34 [==============================] - 0s 6ms/step - loss: 0.0591 - accuracy: 0.9706\n",
            "Epoch 175/200\n",
            "34/34 [==============================] - 0s 6ms/step - loss: 0.0355 - accuracy: 1.0000\n",
            "Epoch 176/200\n",
            "34/34 [==============================] - 0s 6ms/step - loss: 0.0338 - accuracy: 1.0000\n",
            "Epoch 177/200\n",
            "34/34 [==============================] - 0s 6ms/step - loss: 0.0350 - accuracy: 0.9706\n",
            "Epoch 178/200\n",
            "34/34 [==============================] - 0s 6ms/step - loss: 0.0507 - accuracy: 0.9706\n",
            "Epoch 179/200\n",
            "34/34 [==============================] - 0s 6ms/step - loss: 0.0539 - accuracy: 0.9706\n",
            "Epoch 180/200\n",
            "34/34 [==============================] - 0s 6ms/step - loss: 0.0245 - accuracy: 1.0000\n",
            "Epoch 181/200\n",
            "34/34 [==============================] - 0s 7ms/step - loss: 0.0302 - accuracy: 0.9706\n",
            "Epoch 182/200\n",
            "34/34 [==============================] - 0s 6ms/step - loss: 0.0324 - accuracy: 0.9706\n",
            "Epoch 183/200\n",
            "34/34 [==============================] - 0s 6ms/step - loss: 0.0449 - accuracy: 0.9706\n",
            "Epoch 184/200\n",
            "34/34 [==============================] - 0s 6ms/step - loss: 0.0246 - accuracy: 1.0000\n",
            "Epoch 185/200\n",
            "34/34 [==============================] - 0s 6ms/step - loss: 0.0232 - accuracy: 1.0000\n",
            "Epoch 186/200\n",
            "34/34 [==============================] - 0s 6ms/step - loss: 0.0171 - accuracy: 1.0000\n",
            "Epoch 187/200\n",
            "34/34 [==============================] - 0s 6ms/step - loss: 0.0073 - accuracy: 1.0000\n",
            "Epoch 188/200\n",
            "34/34 [==============================] - 0s 6ms/step - loss: 0.0213 - accuracy: 1.0000\n",
            "Epoch 189/200\n",
            "34/34 [==============================] - 0s 6ms/step - loss: 0.0029 - accuracy: 1.0000\n",
            "Epoch 190/200\n",
            "34/34 [==============================] - 0s 6ms/step - loss: 0.0205 - accuracy: 1.0000\n",
            "Epoch 191/200\n",
            "34/34 [==============================] - 0s 7ms/step - loss: 0.0064 - accuracy: 1.0000\n",
            "Epoch 192/200\n",
            "34/34 [==============================] - 0s 6ms/step - loss: 0.0039 - accuracy: 1.0000\n",
            "Epoch 193/200\n",
            "34/34 [==============================] - 0s 6ms/step - loss: 0.0023 - accuracy: 1.0000\n",
            "Epoch 194/200\n",
            "34/34 [==============================] - 0s 6ms/step - loss: 0.0020 - accuracy: 1.0000\n",
            "Epoch 195/200\n",
            "34/34 [==============================] - 0s 6ms/step - loss: 0.0015 - accuracy: 1.0000\n",
            "Epoch 196/200\n",
            "34/34 [==============================] - 0s 7ms/step - loss: 0.0014 - accuracy: 1.0000\n",
            "Epoch 197/200\n",
            "34/34 [==============================] - 0s 7ms/step - loss: 0.0012 - accuracy: 1.0000\n",
            "Epoch 198/200\n",
            "34/34 [==============================] - 0s 10ms/step - loss: 0.0011 - accuracy: 1.0000\n",
            "Epoch 199/200\n",
            "34/34 [==============================] - 0s 11ms/step - loss: 8.7209e-04 - accuracy: 1.0000\n",
            "Epoch 200/200\n",
            "34/34 [==============================] - 0s 10ms/step - loss: 8.0101e-04 - accuracy: 1.0000\n"
          ]
        },
        {
          "output_type": "execute_result",
          "data": {
            "text/plain": [
              "<keras.src.callbacks.History at 0x7a5e1d44e500>"
            ]
          },
          "metadata": {},
          "execution_count": 165
        }
      ]
    },
    {
      "cell_type": "code",
      "source": [
        "# 생성\n",
        "def arranging_music(model,first_measure,duration):\n",
        "    music=first_measure\n",
        "    for i in range(duration):\n",
        "        p=model.predict(np.float32(np.expand_dims(music[-w:],axis=0)))\n",
        "        #print(p)\n",
        "        music=np.append(music,[onehot[np.argmax(p)]],axis=0)      # np.argmax(p) 는 원핫인코딩된 값이 실제 어떤값에 해당하는지 숫자로 바꿔준다.\n",
        "    return timeseries2abc(music)"
      ],
      "metadata": {
        "id": "2kk7g9DUhk4J"
      },
      "execution_count": 167,
      "outputs": []
    },
    {
      "cell_type": "code",
      "source": [
        "new_song = arranging_music(model,x_train[0],50)    # 다음 50 마디를 추론하도록"
      ],
      "metadata": {
        "colab": {
          "base_uri": "https://localhost:8080/"
        },
        "id": "v836WNmzh5Ex",
        "outputId": "3e8ecdce-ea34-4f86-e3bb-dc413ef6ddde"
      },
      "execution_count": 168,
      "outputs": [
        {
          "output_type": "stream",
          "name": "stdout",
          "text": [
            "1/1 [==============================] - 0s 292ms/step\n",
            "1/1 [==============================] - 0s 35ms/step\n",
            "1/1 [==============================] - 0s 32ms/step\n",
            "1/1 [==============================] - 0s 33ms/step\n",
            "1/1 [==============================] - 0s 36ms/step\n",
            "1/1 [==============================] - 0s 40ms/step\n",
            "1/1 [==============================] - 0s 33ms/step\n",
            "1/1 [==============================] - 0s 37ms/step\n",
            "1/1 [==============================] - 0s 33ms/step\n",
            "1/1 [==============================] - 0s 21ms/step\n",
            "1/1 [==============================] - 0s 22ms/step\n",
            "1/1 [==============================] - 0s 22ms/step\n",
            "1/1 [==============================] - 0s 22ms/step\n",
            "1/1 [==============================] - 0s 21ms/step\n",
            "1/1 [==============================] - 0s 21ms/step\n",
            "1/1 [==============================] - 0s 20ms/step\n",
            "1/1 [==============================] - 0s 23ms/step\n",
            "1/1 [==============================] - 0s 22ms/step\n",
            "1/1 [==============================] - 0s 24ms/step\n",
            "1/1 [==============================] - 0s 21ms/step\n",
            "1/1 [==============================] - 0s 21ms/step\n",
            "1/1 [==============================] - 0s 20ms/step\n",
            "1/1 [==============================] - 0s 25ms/step\n",
            "1/1 [==============================] - 0s 22ms/step\n",
            "1/1 [==============================] - 0s 21ms/step\n",
            "1/1 [==============================] - 0s 24ms/step\n",
            "1/1 [==============================] - 0s 21ms/step\n",
            "1/1 [==============================] - 0s 22ms/step\n",
            "1/1 [==============================] - 0s 21ms/step\n",
            "1/1 [==============================] - 0s 22ms/step\n",
            "1/1 [==============================] - 0s 21ms/step\n",
            "1/1 [==============================] - 0s 24ms/step\n",
            "1/1 [==============================] - 0s 21ms/step\n",
            "1/1 [==============================] - 0s 20ms/step\n",
            "1/1 [==============================] - 0s 21ms/step\n",
            "1/1 [==============================] - 0s 22ms/step\n",
            "1/1 [==============================] - 0s 20ms/step\n",
            "1/1 [==============================] - 0s 20ms/step\n",
            "1/1 [==============================] - 0s 22ms/step\n",
            "1/1 [==============================] - 0s 20ms/step\n",
            "1/1 [==============================] - 0s 21ms/step\n",
            "1/1 [==============================] - 0s 21ms/step\n",
            "1/1 [==============================] - 0s 27ms/step\n",
            "1/1 [==============================] - 0s 21ms/step\n",
            "1/1 [==============================] - 0s 20ms/step\n",
            "1/1 [==============================] - 0s 22ms/step\n",
            "1/1 [==============================] - 0s 21ms/step\n",
            "1/1 [==============================] - 0s 20ms/step\n",
            "1/1 [==============================] - 0s 22ms/step\n",
            "1/1 [==============================] - 0s 21ms/step\n"
          ]
        }
      ]
    },
    {
      "cell_type": "code",
      "source": [
        "new_song"
      ],
      "metadata": {
        "colab": {
          "base_uri": "https://localhost:8080/",
          "height": 54
        },
        "id": "mXN-Qf5fipLj",
        "outputId": "d2431665-8818-4229-b15a-0c03f9e7e9df"
      },
      "execution_count": 169,
      "outputs": [
        {
          "output_type": "execute_result",
          "data": {
            "text/plain": [
              "'tinynotation: 4/4 c4 c4 g4 g4 a4 a4 g2 f4 f4 e4 e4 d4 d4 c2 g4 g4 f4 f4 e4 e4 d2 g4 g4 f4 f4 e4 e4 d2 c4 c4 g4 g4 a4 a4 g2 f4 f4 e4 e4 d4 d4 c2 g4 g4 f4 f4 e4 e4 d2 g4 g4 f4 f4 e4 e4 d2 c4 c4'"
            ],
            "application/vnd.google.colaboratory.intrinsic+json": {
              "type": "string"
            }
          },
          "metadata": {},
          "execution_count": 169
        }
      ]
    },
    {
      "cell_type": "code",
      "source": [],
      "metadata": {
        "id": "v2IBLVYbjUih"
      },
      "execution_count": null,
      "outputs": []
    }
  ]
}
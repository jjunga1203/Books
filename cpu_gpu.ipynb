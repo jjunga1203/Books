{
  "nbformat": 4,
  "nbformat_minor": 0,
  "metadata": {
    "colab": {
      "provenance": [],
      "gpuType": "T4",
      "mount_file_id": "1cPkwJH5YezTNMnhFkBz-671sTzoI-Z1j",
      "authorship_tag": "ABX9TyPskdpSRrZCO3tPcnZ9DvfC",
      "include_colab_link": true
    },
    "kernelspec": {
      "name": "python3",
      "display_name": "Python 3"
    },
    "language_info": {
      "name": "python"
    }
  },
  "cells": [
    {
      "cell_type": "markdown",
      "metadata": {
        "id": "view-in-github",
        "colab_type": "text"
      },
      "source": [
        "<a href=\"https://colab.research.google.com/github/jjunga1203/Books/blob/master/cpu_gpu.ipynb\" target=\"_parent\"><img src=\"https://colab.research.google.com/assets/colab-badge.svg\" alt=\"Open In Colab\"/></a>"
      ]
    },
    {
      "cell_type": "markdown",
      "source": [
        "# 첫번째 수업입니다."
      ],
      "metadata": {
        "id": "S2m-d2tXWZ2K"
      }
    },
    {
      "cell_type": "code",
      "execution_count": null,
      "metadata": {
        "id": "iLMI3Z81VoMx"
      },
      "outputs": [],
      "source": []
    },
    {
      "cell_type": "code",
      "source": [
        "from google.colab import drive\n",
        "drive.mount('/content/drive')"
      ],
      "metadata": {
        "colab": {
          "base_uri": "https://localhost:8080/"
        },
        "id": "7NhgmjWqX00I",
        "outputId": "7fe1e5a1-08a5-47f9-a435-869163e1fc0e"
      },
      "execution_count": null,
      "outputs": [
        {
          "output_type": "stream",
          "name": "stdout",
          "text": [
            "Mounted at /content/drive\n"
          ]
        }
      ]
    },
    {
      "cell_type": "code",
      "source": [
        "ls"
      ],
      "metadata": {
        "colab": {
          "base_uri": "https://localhost:8080/"
        },
        "id": "dyryYHsuXqbA",
        "outputId": "81db43d0-a738-4738-a7ee-c74dd6d3b924"
      },
      "execution_count": null,
      "outputs": [
        {
          "output_type": "stream",
          "name": "stdout",
          "text": [
            "\u001b[0m\u001b[01;34mdrive\u001b[0m/  \u001b[01;34msample_data\u001b[0m/\n"
          ]
        }
      ]
    },
    {
      "cell_type": "code",
      "source": [
        "ls ./drive/"
      ],
      "metadata": {
        "colab": {
          "base_uri": "https://localhost:8080/"
        },
        "id": "-1J-nKg9XqeX",
        "outputId": "2f790384-4323-43e6-fb14-fc7bd08f67c2"
      },
      "execution_count": null,
      "outputs": [
        {
          "output_type": "stream",
          "name": "stdout",
          "text": [
            "\u001b[0m\u001b[01;34mMyDrive\u001b[0m/\n"
          ]
        }
      ]
    },
    {
      "cell_type": "code",
      "source": [
        "ls ./drive/MyDrive/"
      ],
      "metadata": {
        "colab": {
          "base_uri": "https://localhost:8080/"
        },
        "id": "GWBHLrJ5Xqhn",
        "outputId": "6b3afa92-1634-47a7-d378-6776de7833a0"
      },
      "execution_count": null,
      "outputs": [
        {
          "output_type": "stream",
          "name": "stdout",
          "text": [
            " aepython.7z              My가계부.gsheet                      빅데이터_머신러닝.gdoc\n",
            " \u001b[0m\u001b[01;34majax\u001b[0m/                    sbert.ipynb                          빅데이터-미니프로젝트.gdoc\n",
            " \u001b[01;34mappsheet\u001b[0m/                \u001b[01;34mtest\u001b[0m/                               \u001b[01;34m'빅데이터 수업'\u001b[0m\u001b[K/\n",
            " AppSheetExample.gsheet  '강북살사_회원정보&출석체크.gsheet'  '빅데이터 수업 시간표(수정).xlsx'\n",
            " \u001b[01;34mClassroom\u001b[0m/               \u001b[01;34m개인용\u001b[0m/                              빅데이터_알고리즘.gdoc\n",
            "\u001b[01;34m'Colab Notebooks'\u001b[0m/       '데이터분석 수업.gsheet'              빅데이터_파이썬기초.gdoc\n",
            " \u001b[01;34mdata\u001b[0m/                    독서기록App.gsheet                   빅분기_필기_요약.pdf\n",
            " front_back.gdoc         '빅데이터_final prj (권태현).gdoc'   '제목 없는 스프레드시트.gsheet'\n",
            " git_github.gdoc          빅데이터_데이터베이스.gdoc           최희정_출석부.pdf\n",
            " label.csv                빅데이터_딥러닝.gdoc\n"
          ]
        }
      ]
    },
    {
      "cell_type": "code",
      "source": [
        "import tensorflow as tf\n",
        "import timeit\n",
        "import numpy as np"
      ],
      "metadata": {
        "id": "hG_jppAoXqlP"
      },
      "execution_count": null,
      "outputs": []
    },
    {
      "cell_type": "code",
      "source": [
        "tf.test.gpu_device_name()"
      ],
      "metadata": {
        "colab": {
          "base_uri": "https://localhost:8080/",
          "height": 35
        },
        "id": "dDTICn2EYLqx",
        "outputId": "2c012945-b161-4930-e1f0-20651830bd8b"
      },
      "execution_count": null,
      "outputs": [
        {
          "output_type": "execute_result",
          "data": {
            "text/plain": [
              "'/device:GPU:0'"
            ],
            "application/vnd.google.colaboratory.intrinsic+json": {
              "type": "string"
            }
          },
          "metadata": {},
          "execution_count": 10
        }
      ]
    },
    {
      "cell_type": "code",
      "source": [
        "!nvidia-smi"
      ],
      "metadata": {
        "colab": {
          "base_uri": "https://localhost:8080/"
        },
        "id": "XjxS_e24YLtw",
        "outputId": "65c71359-abb7-439c-fa0c-129a373323d9"
      },
      "execution_count": null,
      "outputs": [
        {
          "output_type": "stream",
          "name": "stdout",
          "text": [
            "Mon Apr 29 01:10:23 2024       \n",
            "+---------------------------------------------------------------------------------------+\n",
            "| NVIDIA-SMI 535.104.05             Driver Version: 535.104.05   CUDA Version: 12.2     |\n",
            "|-----------------------------------------+----------------------+----------------------+\n",
            "| GPU  Name                 Persistence-M | Bus-Id        Disp.A | Volatile Uncorr. ECC |\n",
            "| Fan  Temp   Perf          Pwr:Usage/Cap |         Memory-Usage | GPU-Util  Compute M. |\n",
            "|                                         |                      |               MIG M. |\n",
            "|=========================================+======================+======================|\n",
            "|   0  Tesla T4                       Off | 00000000:00:04.0 Off |                    0 |\n",
            "| N/A   43C    P0              25W /  70W |    103MiB / 15360MiB |      0%      Default |\n",
            "|                                         |                      |                  N/A |\n",
            "+-----------------------------------------+----------------------+----------------------+\n",
            "                                                                                         \n",
            "+---------------------------------------------------------------------------------------+\n",
            "| Processes:                                                                            |\n",
            "|  GPU   GI   CI        PID   Type   Process name                            GPU Memory |\n",
            "|        ID   ID                                                             Usage      |\n",
            "|=======================================================================================|\n",
            "+---------------------------------------------------------------------------------------+\n"
          ]
        }
      ]
    },
    {
      "cell_type": "code",
      "source": [
        "!head -n 18 /proc/cpuinfo"
      ],
      "metadata": {
        "colab": {
          "base_uri": "https://localhost:8080/"
        },
        "id": "qcmRBV0gYLwp",
        "outputId": "f6a9da62-f17a-4efd-b2ae-3b9ab60d9311"
      },
      "execution_count": null,
      "outputs": [
        {
          "output_type": "stream",
          "name": "stdout",
          "text": [
            "processor\t: 0\n",
            "vendor_id\t: GenuineIntel\n",
            "cpu family\t: 6\n",
            "model\t\t: 63\n",
            "model name\t: Intel(R) Xeon(R) CPU @ 2.30GHz\n",
            "stepping\t: 0\n",
            "microcode\t: 0xffffffff\n",
            "cpu MHz\t\t: 2299.998\n",
            "cache size\t: 46080 KB\n",
            "physical id\t: 0\n",
            "siblings\t: 2\n",
            "core id\t\t: 0\n",
            "cpu cores\t: 1\n",
            "apicid\t\t: 0\n",
            "initial apicid\t: 0\n",
            "fpu\t\t: yes\n",
            "fpu_exception\t: yes\n",
            "cpuid level\t: 13\n"
          ]
        }
      ]
    },
    {
      "cell_type": "code",
      "source": [
        "!head /proc/meminfo"
      ],
      "metadata": {
        "colab": {
          "base_uri": "https://localhost:8080/"
        },
        "id": "sZucvx59YLzh",
        "outputId": "5fc74c26-25dc-4840-92f3-78a5823fd0fa"
      },
      "execution_count": null,
      "outputs": [
        {
          "output_type": "stream",
          "name": "stdout",
          "text": [
            "MemTotal:       13290480 kB\n",
            "MemFree:         7450696 kB\n",
            "MemAvailable:   11550968 kB\n",
            "Buffers:          366232 kB\n",
            "Cached:          3934128 kB\n",
            "SwapCached:            0 kB\n",
            "Active:           782360 kB\n",
            "Inactive:        4632584 kB\n",
            "Active(anon):       1620 kB\n",
            "Inactive(anon):  1126064 kB\n"
          ]
        }
      ]
    },
    {
      "cell_type": "code",
      "source": [
        "def cpu() :\n",
        "  with tf.device('/cpu:0'):\n",
        "    random_image_cpu = tf.random.normal((100, 100, 100, 3))\n",
        "    net_cpu = tf.keras.layers.Conv2D(32, 7)(random_image_cpu)\n",
        "\n",
        "def gpu() :\n",
        "  with tf.device('/device:GPU:0'):\n",
        "    random_image_gpu = tf.random.normal((100, 100, 100, 3))\n",
        "    net_gpu = tf.keras.layers.Conv2D(32, 7)(random_image_gpu)"
      ],
      "metadata": {
        "id": "kdyf6DOpXqoA"
      },
      "execution_count": null,
      "outputs": []
    },
    {
      "cell_type": "code",
      "source": [
        "cpu_time = []\n",
        "for i in range(30):\n",
        "  cpu_time.append(timeit.timeit('cpu()', number = 10, setup=\"from __main__ import cpu\"))"
      ],
      "metadata": {
        "id": "xbdUG5AoXqsW"
      },
      "execution_count": null,
      "outputs": []
    },
    {
      "cell_type": "code",
      "source": [
        "print(cpu_time)"
      ],
      "metadata": {
        "colab": {
          "base_uri": "https://localhost:8080/"
        },
        "id": "aS8pKwxoerHq",
        "outputId": "8b57064a-a684-403b-9e4b-bba73dd8c69f"
      },
      "execution_count": null,
      "outputs": [
        {
          "output_type": "stream",
          "name": "stdout",
          "text": [
            "[5.01973899099994, 3.7917002819999652, 3.553419737999775, 3.842070243999842, 4.9894182990001354, 3.586364035000315, 3.599350263999895, 5.114953263000189, 3.6841355139999905, 3.565020818999983, 4.158481895000023, 4.598767038000005, 3.5224012600001515, 3.565293534000375, 5.156256673999906, 3.487124042999767, 3.5055279379998865, 4.342902516999857, 4.433755896000093, 3.5133961359997556, 3.4677299519998996, 5.040794746999836, 3.424255964999702, 3.513111790000039, 3.782715258999815, 4.754124164000132, 3.5641723659996387, 3.559729207000146, 5.084165050000138, 3.474164380000275]\n"
          ]
        }
      ]
    },
    {
      "cell_type": "code",
      "source": [
        "gpu_time_list = []\n",
        "for i in range(30):\n",
        "  gpu_time_list.append(timeit.timeit('gpu()', number = 10, setup=\"from __main__ import gpu\"))"
      ],
      "metadata": {
        "id": "carbrmFyg4Zg"
      },
      "execution_count": null,
      "outputs": []
    },
    {
      "cell_type": "code",
      "source": [
        "print(gpu_time_list)\n",
        "print(f'mean: {np.mean(gpu_time_list)}')"
      ],
      "metadata": {
        "colab": {
          "base_uri": "https://localhost:8080/"
        },
        "id": "IuUfe3MzhAQw",
        "outputId": "3b10fd05-4a5a-4951-88b7-fba76cb9c71e"
      },
      "execution_count": null,
      "outputs": [
        {
          "output_type": "stream",
          "name": "stdout",
          "text": [
            "[0.10255928700007644, 0.09898638799995751, 0.09849456599977202, 0.08837531100016349, 0.08175203500013595, 0.07952930900000865, 0.07601870799999233, 0.0800119230002565, 0.07489014400016458, 0.07533076700019592, 0.07376252899985047, 0.07400549800013323, 0.07508335800002897, 0.07501079300027413, 0.07771843999989869, 0.07523481299995183, 0.07684319100007997, 0.07365424999989045, 0.07651893499996731, 0.07524425099973087, 0.07856392799976675, 0.07499143900031413, 0.07609792199991716, 0.08034254499989402, 0.07443764299978284, 0.07813535600007526, 0.07334360200002266, 0.07548398800008727, 0.0762277579997317, 0.0751095859995985]\n",
            "mean: 0.07905860876665732\n"
          ]
        }
      ]
    },
    {
      "cell_type": "code",
      "source": [
        "def cpu() :\n",
        "  random_image_cpu = tf.random.normal((100, 100, 100, 3))\n",
        "  net_cpu = tf.keras.layers.Conv2D(32, 7)(random_image_cpu)\n",
        "\n",
        "def gpu() :\n",
        "  random_image_gpu = tf.random.normal((100, 100, 100, 3))\n",
        "  net_gpu = tf.keras.layers.Conv2D(32, 7)(random_image_gpu)"
      ],
      "metadata": {
        "id": "Z83gXA0yhDSg"
      },
      "execution_count": null,
      "outputs": []
    },
    {
      "cell_type": "code",
      "source": [
        "cpu_time = []\n",
        "for i in range(30):\n",
        "  cpu_time.append(timeit.timeit('cpu()', number = 10, setup=\"from __main__ import cpu\"))"
      ],
      "metadata": {
        "id": "MApJUGC5j6fP"
      },
      "execution_count": null,
      "outputs": []
    },
    {
      "cell_type": "code",
      "source": [
        "gpu_time_list = []\n",
        "for i in range(30):\n",
        "  gpu_time_list.append(timeit.timeit('gpu()', number = 10, setup=\"from __main__ import gpu\"))"
      ],
      "metadata": {
        "id": "AmnZcHcmj6id"
      },
      "execution_count": null,
      "outputs": []
    },
    {
      "cell_type": "code",
      "source": [
        "gpu_time_list\n",
        "print(f'mean: {np.mean(gpu_time_list)}')"
      ],
      "metadata": {
        "colab": {
          "base_uri": "https://localhost:8080/"
        },
        "id": "eXfOf5vHj6o-",
        "outputId": "d04b163f-7352-4097-b253-d5db2eb649d5"
      },
      "execution_count": null,
      "outputs": [
        {
          "output_type": "stream",
          "name": "stdout",
          "text": [
            "mean: 0.08604215326671086\n"
          ]
        }
      ]
    },
    {
      "cell_type": "code",
      "source": [],
      "metadata": {
        "id": "8Kcaj0N8j6sX"
      },
      "execution_count": null,
      "outputs": []
    },
    {
      "cell_type": "markdown",
      "source": [
        "### 농장에 소, 닭\n",
        "### 총 머릿수 : 20, 총 다릿수 56\n",
        "### 닭, 소 마릿수"
      ],
      "metadata": {
        "id": "LwQFkMjK6urT"
      }
    },
    {
      "cell_type": "code",
      "source": [
        "# 머릿수/ 다릿수를 받아서 두 동물의 마릿수 리턴\n",
        "def get_cnt(face_cnt, lag_cnt):\n",
        "  y = lag_cnt/2 - face_cnt\n",
        "\n",
        "  return int(y), int(face_cnt - y)\n",
        "\n",
        "cow_cnt, chick_cnt = get_cnt(20, 56)\n",
        "print(f'소: {cow_cnt}마리, 닭 : {chick_cnt}마리')"
      ],
      "metadata": {
        "colab": {
          "base_uri": "https://localhost:8080/"
        },
        "id": "rzo7GMm8j6vu",
        "outputId": "b2808e69-99e5-4927-b91e-608085865e96"
      },
      "execution_count": null,
      "outputs": [
        {
          "output_type": "stream",
          "name": "stdout",
          "text": [
            "소: 8마리, 닭 : 12마리\n"
          ]
        }
      ]
    },
    {
      "cell_type": "code",
      "source": [
        "# 머릿수/ 다릿수를 받아서 두 동물의 마릿수 리턴\n",
        "def brute_force_algorithm(head, leg):\n",
        "  ''' x :다리 4개인 동물,   y : 다리 2개인 동물 수'''\n",
        "\n",
        "  for x in range(head+1):\n",
        "    y = head - x\n",
        "    if 4 * x + 2 * y == leg:\n",
        "      return x, y\n",
        "  return(none, none)\n",
        "\n",
        "total_head = 20\n",
        "total_leg = 56\n",
        "(cows, chickens) = brute_force_algorithm(total_head, total_leg)\n",
        "\n",
        "print(f'소: {cows}마리, 닭: {chickens}마리')\n"
      ],
      "metadata": {
        "colab": {
          "base_uri": "https://localhost:8080/"
        },
        "id": "oMfDVxsQj6y7",
        "outputId": "dc0de44f-a1a1-4b45-94a9-886d50108440"
      },
      "execution_count": null,
      "outputs": [
        {
          "output_type": "stream",
          "name": "stdout",
          "text": [
            "소: 8마리, 닭: 12마리\n"
          ]
        }
      ]
    },
    {
      "cell_type": "code",
      "source": [
        "# 머릿수/ 다릿수를 받아서 두 동물의 마릿수 리턴\n",
        "def barnyard():\n",
        "  ''' x :다리 4개인 동물,   y : 다리 2개인 동물 수'''\n",
        "\n",
        "  total_head = int(input('Enter number of heads: '))\n",
        "  total_leg = int(input('Enter number of legs: '))\n",
        "  (cows, chickens) = brute_force_algorithm(total_head, total_leg)\n",
        "\n",
        "  if chickens:\n",
        "    print('Number of chickens : ', chickens)\n",
        "    print('Number of cows : ', cows)\n",
        "  else:\n",
        "    print('There is no solution')\n",
        "\n",
        "\n"
      ],
      "metadata": {
        "id": "Yy3B5YOgj62Z"
      },
      "execution_count": null,
      "outputs": []
    },
    {
      "cell_type": "code",
      "source": [
        "barnyard()"
      ],
      "metadata": {
        "colab": {
          "base_uri": "https://localhost:8080/"
        },
        "id": "yzINRx5ijx0m",
        "outputId": "54bf9ca3-c3d6-4a5e-b53a-33aea32b5d05"
      },
      "execution_count": null,
      "outputs": [
        {
          "output_type": "stream",
          "name": "stdout",
          "text": [
            "Enter number of heads: 8\n",
            "Enter number of legs: 20\n",
            "Number of chickens :  6\n",
            "Number of cows :  2\n"
          ]
        }
      ]
    },
    {
      "cell_type": "code",
      "source": [
        "def get_3times_answer(cnt):\n",
        "  answer = []\n",
        "  for i in range(cnt):\n",
        "    for j in range(cnt):\n",
        "      for m in range(cnt):\n",
        "        if m == i or m == j:\n",
        "          continue\n",
        "\n",
        "        for n in range(cnt):\n",
        "          if n == i or n == j:\n",
        "            continue\n",
        "          if i*i*i + j*j*j == m*m*m + n*n*n:\n",
        "            # print('결과:', i*i*i + j*j*j, ' ', i, j, m, n)\n",
        "            answer.append([i*i*i + j*j*j, i, j, m, j])\n",
        "\n",
        "  return answer\n",
        "\n",
        "  def solution():\n",
        "    cnt = int(input('Enter the max number: '))\n",
        "    get_3times_answer(cnt)\n",
        "\n"
      ],
      "metadata": {
        "id": "yO0hzEZ3g0Qa"
      },
      "execution_count": null,
      "outputs": []
    },
    {
      "cell_type": "code",
      "source": [
        "get_3times_answer(30)"
      ],
      "metadata": {
        "colab": {
          "base_uri": "https://localhost:8080/"
        },
        "id": "HSb0C_XKhlrR",
        "outputId": "78928756-c1a0-4db2-999c-7457fac802e3"
      },
      "execution_count": null,
      "outputs": [
        {
          "output_type": "execute_result",
          "data": {
            "text/plain": [
              "[[1729, 1, 12, 9, 12],\n",
              " [1729, 1, 12, 10, 12],\n",
              " [4104, 2, 16, 9, 16],\n",
              " [4104, 2, 16, 15, 16],\n",
              " [13832, 2, 24, 18, 24],\n",
              " [13832, 2, 24, 20, 24],\n",
              " [1729, 9, 10, 1, 10],\n",
              " [1729, 9, 10, 12, 10],\n",
              " [4104, 9, 15, 2, 15],\n",
              " [4104, 9, 15, 16, 15],\n",
              " [1729, 10, 9, 1, 9],\n",
              " [1729, 10, 9, 12, 9],\n",
              " [20683, 10, 27, 19, 27],\n",
              " [20683, 10, 27, 24, 27],\n",
              " [1729, 12, 1, 9, 1],\n",
              " [1729, 12, 1, 10, 1],\n",
              " [4104, 15, 9, 2, 9],\n",
              " [4104, 15, 9, 16, 9],\n",
              " [4104, 16, 2, 9, 2],\n",
              " [4104, 16, 2, 15, 2],\n",
              " [13832, 18, 20, 2, 20],\n",
              " [13832, 18, 20, 24, 20],\n",
              " [20683, 19, 24, 10, 24],\n",
              " [20683, 19, 24, 27, 24],\n",
              " [13832, 20, 18, 2, 18],\n",
              " [13832, 20, 18, 24, 18],\n",
              " [13832, 24, 2, 18, 2],\n",
              " [13832, 24, 2, 20, 2],\n",
              " [20683, 24, 19, 10, 19],\n",
              " [20683, 24, 19, 27, 19],\n",
              " [20683, 27, 10, 19, 10],\n",
              " [20683, 27, 10, 24, 10]]"
            ]
          },
          "metadata": {},
          "execution_count": 28
        }
      ]
    },
    {
      "cell_type": "code",
      "source": [
        "%run client.py"
      ],
      "metadata": {
        "colab": {
          "base_uri": "https://localhost:8080/"
        },
        "id": "vbYl7P2Xhlun",
        "outputId": "916bad39-b21a-4651-8156-242256e7a29a"
      },
      "execution_count": null,
      "outputs": [
        {
          "output_type": "stream",
          "name": "stdout",
          "text": [
            "Enter number of heads: 20\n",
            "Enter number of legs: 56\n",
            "Number of chickens :  12\n",
            "Number of cows :  8\n"
          ]
        }
      ]
    },
    {
      "cell_type": "code",
      "source": [
        "pwd"
      ],
      "metadata": {
        "colab": {
          "base_uri": "https://localhost:8080/",
          "height": 35
        },
        "id": "qjF48wCzwx3h",
        "outputId": "ff343c0f-813b-4878-a9de-71f320f797d2"
      },
      "execution_count": null,
      "outputs": [
        {
          "output_type": "execute_result",
          "data": {
            "text/plain": [
              "'/content'"
            ],
            "application/vnd.google.colaboratory.intrinsic+json": {
              "type": "string"
            }
          },
          "metadata": {},
          "execution_count": 31
        }
      ]
    },
    {
      "cell_type": "markdown",
      "source": [
        "### 가상 환경 만들기\n",
        "\n",
        "1. conda env list : 기존 가상환경 목록 출력\n",
        "2. conda create -n strweb python=3.10\n",
        "  - conda create -n strweb python=3.10 ipython\n",
        "   pandas numpy matplotlib scikit-learn\n",
        "  tensorflow keras\n",
        "3. conda activate strweb\n",
        "4. conda deactivate\n"
      ],
      "metadata": {
        "id": "9lWqBSxx1gp_"
      }
    },
    {
      "cell_type": "markdown",
      "source": [
        "### pip install imageio-ffmpeg # 강화학습 동영상 -- 설치하여 사용"
      ],
      "metadata": {
        "id": "cizzWcsCj4Ui"
      }
    },
    {
      "cell_type": "markdown",
      "source": [
        "### streamlit  으로 웹에 표현하기"
      ],
      "metadata": {
        "id": "ha4dGKpnptMu"
      }
    },
    {
      "cell_type": "code",
      "source": [
        "import requests\n",
        "import pandas as pd\n",
        "from datetime import datetime as dt\n",
        "from datetime import timedelta as delta"
      ],
      "metadata": {
        "id": "fyXgoVSVwwE4"
      },
      "execution_count": 1,
      "outputs": []
    },
    {
      "cell_type": "code",
      "source": [
        "url = 'https://www.kobis.or.kr/kobisopenapi/webservice/rest/boxoffice/searchDailyBoxOfficeList.json?key=c3a0fa760324363ef7cde2afa0d73297&targetDt='"
      ],
      "metadata": {
        "id": "G1E49jOb1eI_"
      },
      "execution_count": 2,
      "outputs": []
    },
    {
      "cell_type": "code",
      "source": [
        "todays = dt.today() - delta(days=1)\n",
        "todays"
      ],
      "metadata": {
        "colab": {
          "base_uri": "https://localhost:8080/"
        },
        "id": "8pru83ohldw0",
        "outputId": "0af67885-a1a7-48bb-8634-96d8343be382"
      },
      "execution_count": 3,
      "outputs": [
        {
          "output_type": "execute_result",
          "data": {
            "text/plain": [
              "datetime.datetime(2024, 4, 30, 0, 55, 34, 184856)"
            ]
          },
          "metadata": {},
          "execution_count": 3
        }
      ]
    },
    {
      "cell_type": "code",
      "source": [
        "today = todays.strftime(\"%Y%m%d\")\n",
        "today"
      ],
      "metadata": {
        "colab": {
          "base_uri": "https://localhost:8080/",
          "height": 35
        },
        "id": "vG12H5BXl0Jq",
        "outputId": "528e440c-944d-42c0-9a32-2d3c40422544"
      },
      "execution_count": 4,
      "outputs": [
        {
          "output_type": "execute_result",
          "data": {
            "text/plain": [
              "'20240430'"
            ],
            "application/vnd.google.colaboratory.intrinsic+json": {
              "type": "string"
            }
          },
          "metadata": {},
          "execution_count": 4
        }
      ]
    },
    {
      "cell_type": "code",
      "source": [
        "url += today\n",
        "url"
      ],
      "metadata": {
        "colab": {
          "base_uri": "https://localhost:8080/",
          "height": 35
        },
        "id": "N7231bcIDCwP",
        "outputId": "b58de4c7-c791-4e91-da0b-faaa15c3b85c"
      },
      "execution_count": 5,
      "outputs": [
        {
          "output_type": "execute_result",
          "data": {
            "text/plain": [
              "'https://www.kobis.or.kr/kobisopenapi/webservice/rest/boxoffice/searchDailyBoxOfficeList.json?key=c3a0fa760324363ef7cde2afa0d73297&targetDt=20240430'"
            ],
            "application/vnd.google.colaboratory.intrinsic+json": {
              "type": "string"
            }
          },
          "metadata": {},
          "execution_count": 5
        }
      ]
    },
    {
      "cell_type": "code",
      "source": [],
      "metadata": {
        "id": "BLrXQk_RlxBz"
      },
      "execution_count": 5,
      "outputs": []
    },
    {
      "cell_type": "code",
      "source": [
        "resp = requests.get(url)"
      ],
      "metadata": {
        "id": "FN-XAOoQDDZN"
      },
      "execution_count": 6,
      "outputs": []
    },
    {
      "cell_type": "code",
      "source": [
        "resp"
      ],
      "metadata": {
        "colab": {
          "base_uri": "https://localhost:8080/"
        },
        "id": "9Elu9qDlD8Q1",
        "outputId": "c88b2f7c-5818-4aba-f886-21426cf613ab"
      },
      "execution_count": 7,
      "outputs": [
        {
          "output_type": "execute_result",
          "data": {
            "text/plain": [
              "<Response [200]>"
            ]
          },
          "metadata": {},
          "execution_count": 7
        }
      ]
    },
    {
      "cell_type": "code",
      "source": [
        "datas = resp.json()\n",
        "type(datas)"
      ],
      "metadata": {
        "colab": {
          "base_uri": "https://localhost:8080/"
        },
        "id": "K8jjhmxyD-31",
        "outputId": "c50adbc6-72ec-4ca5-e6d4-c4e6abb68932"
      },
      "execution_count": 8,
      "outputs": [
        {
          "output_type": "execute_result",
          "data": {
            "text/plain": [
              "dict"
            ]
          },
          "metadata": {},
          "execution_count": 8
        }
      ]
    },
    {
      "cell_type": "code",
      "source": [
        "datas.keys(), datas['boxOfficeResult'].keys()"
      ],
      "metadata": {
        "colab": {
          "base_uri": "https://localhost:8080/"
        },
        "id": "tEDucUr_jjOR",
        "outputId": "a3f7b099-03ec-4601-aaa7-8da8962eb1fc"
      },
      "execution_count": 9,
      "outputs": [
        {
          "output_type": "execute_result",
          "data": {
            "text/plain": [
              "(dict_keys(['boxOfficeResult']),\n",
              " dict_keys(['boxofficeType', 'showRange', 'dailyBoxOfficeList']))"
            ]
          },
          "metadata": {},
          "execution_count": 9
        }
      ]
    },
    {
      "cell_type": "code",
      "source": [
        "datas = dict(datas)\n",
        "datas = datas['boxOfficeResult']['dailyBoxOfficeList']\n",
        "datas"
      ],
      "metadata": {
        "colab": {
          "base_uri": "https://localhost:8080/"
        },
        "id": "woId7xM_FOOM",
        "outputId": "56bf2927-aad3-4ce9-c5ed-a6388890dd14"
      },
      "execution_count": 10,
      "outputs": [
        {
          "output_type": "execute_result",
          "data": {
            "text/plain": [
              "[{'rnum': '1',\n",
              "  'rank': '1',\n",
              "  'rankInten': '0',\n",
              "  'rankOldAndNew': 'OLD',\n",
              "  'movieCd': '20228797',\n",
              "  'movieNm': '범죄도시4',\n",
              "  'openDt': '2024-04-24',\n",
              "  'salesAmt': '3685037170',\n",
              "  'salesShare': '91.7',\n",
              "  'salesInten': '242933855',\n",
              "  'salesChange': '7.1',\n",
              "  'salesAcc': '47572420854',\n",
              "  'audiCnt': '390187',\n",
              "  'audiInten': '28154',\n",
              "  'audiChange': '7.8',\n",
              "  'audiAcc': '5005754',\n",
              "  'scrnCnt': '2819',\n",
              "  'showCnt': '15704'},\n",
              " {'rnum': '2',\n",
              "  'rank': '2',\n",
              "  'rankInten': '0',\n",
              "  'rankOldAndNew': 'OLD',\n",
              "  'movieCd': '20236614',\n",
              "  'movieNm': '쿵푸팬더4',\n",
              "  'openDt': '2024-04-10',\n",
              "  'salesAmt': '93710061',\n",
              "  'salesShare': '2.3',\n",
              "  'salesInten': '35580931',\n",
              "  'salesChange': '61.2',\n",
              "  'salesAcc': '13125116365',\n",
              "  'audiCnt': '10513',\n",
              "  'audiInten': '4065',\n",
              "  'audiChange': '63',\n",
              "  'audiAcc': '1404601',\n",
              "  'scrnCnt': '529',\n",
              "  'showCnt': '869'},\n",
              " {'rnum': '3',\n",
              "  'rank': '3',\n",
              "  'rankInten': '0',\n",
              "  'rankOldAndNew': 'OLD',\n",
              "  'movieCd': '20234675',\n",
              "  'movieNm': '파묘',\n",
              "  'openDt': '2024-02-22',\n",
              "  'salesAmt': '69334398',\n",
              "  'salesShare': '1.7',\n",
              "  'salesInten': '17538065',\n",
              "  'salesChange': '33.9',\n",
              "  'salesAcc': '114630754046',\n",
              "  'audiCnt': '7408',\n",
              "  'audiInten': '1900',\n",
              "  'audiChange': '34.5',\n",
              "  'audiAcc': '11860065',\n",
              "  'scrnCnt': '490',\n",
              "  'showCnt': '814'},\n",
              " {'rnum': '4',\n",
              "  'rank': '4',\n",
              "  'rankInten': '0',\n",
              "  'rankOldAndNew': 'OLD',\n",
              "  'movieCd': '20249318',\n",
              "  'movieNm': '챌린저스',\n",
              "  'openDt': '2024-04-24',\n",
              "  'salesAmt': '56848039',\n",
              "  'salesShare': '1.4',\n",
              "  'salesInten': '17880886',\n",
              "  'salesChange': '45.9',\n",
              "  'salesAcc': '334431985',\n",
              "  'audiCnt': '6069',\n",
              "  'audiInten': '1945',\n",
              "  'audiChange': '47.2',\n",
              "  'audiAcc': '35455',\n",
              "  'scrnCnt': '439',\n",
              "  'showCnt': '812'},\n",
              " {'rnum': '5',\n",
              "  'rank': '5',\n",
              "  'rankInten': '0',\n",
              "  'rankOldAndNew': 'OLD',\n",
              "  'movieCd': '20231677',\n",
              "  'movieNm': '남은 인생 10년',\n",
              "  'openDt': '2023-05-24',\n",
              "  'salesAmt': '44111292',\n",
              "  'salesShare': '1.1',\n",
              "  'salesInten': '17112868',\n",
              "  'salesChange': '63.4',\n",
              "  'salesAcc': '4330960765',\n",
              "  'audiCnt': '4514',\n",
              "  'audiInten': '1787',\n",
              "  'audiChange': '65.5',\n",
              "  'audiAcc': '425186',\n",
              "  'scrnCnt': '158',\n",
              "  'showCnt': '239'},\n",
              " {'rnum': '6',\n",
              "  'rank': '6',\n",
              "  'rankInten': '16',\n",
              "  'rankOldAndNew': 'OLD',\n",
              "  'movieCd': '20248466',\n",
              "  'movieNm': '고스트버스터즈: 오싹한 뉴욕',\n",
              "  'openDt': '2024-04-17',\n",
              "  'salesAmt': '9042456',\n",
              "  'salesShare': '0.2',\n",
              "  'salesInten': '7892356',\n",
              "  'salesChange': '686.2',\n",
              "  'salesAcc': '400398461',\n",
              "  'audiCnt': '1155',\n",
              "  'audiInten': '1025',\n",
              "  'audiChange': '788.5',\n",
              "  'audiAcc': '42831',\n",
              "  'scrnCnt': '59',\n",
              "  'showCnt': '71'},\n",
              " {'rnum': '7',\n",
              "  'rank': '7',\n",
              "  'rankInten': '2',\n",
              "  'rankOldAndNew': 'OLD',\n",
              "  'movieCd': '20236295',\n",
              "  'movieNm': '듄: 파트2',\n",
              "  'openDt': '2024-02-28',\n",
              "  'salesAmt': '6489456',\n",
              "  'salesShare': '0.2',\n",
              "  'salesInten': '2647888',\n",
              "  'salesChange': '68.9',\n",
              "  'salesAcc': '23360963961',\n",
              "  'audiCnt': '680',\n",
              "  'audiInten': '288',\n",
              "  'audiChange': '73.5',\n",
              "  'audiAcc': '1994181',\n",
              "  'scrnCnt': '17',\n",
              "  'showCnt': '28'},\n",
              " {'rnum': '8',\n",
              "  'rank': '8',\n",
              "  'rankInten': '4',\n",
              "  'rankOldAndNew': 'OLD',\n",
              "  'movieCd': '20231415',\n",
              "  'movieNm': '소풍',\n",
              "  'openDt': '2024-02-07',\n",
              "  'salesAmt': '3725500',\n",
              "  'salesShare': '0.1',\n",
              "  'salesInten': '1889500',\n",
              "  'salesChange': '102.9',\n",
              "  'salesAcc': '3086076943',\n",
              "  'audiCnt': '600',\n",
              "  'audiInten': '295',\n",
              "  'audiChange': '96.7',\n",
              "  'audiAcc': '346551',\n",
              "  'scrnCnt': '7',\n",
              "  'showCnt': '7'},\n",
              " {'rnum': '9',\n",
              "  'rank': '9',\n",
              "  'rankInten': '-3',\n",
              "  'rankOldAndNew': 'OLD',\n",
              "  'movieCd': '19950095',\n",
              "  'movieNm': '레옹 ',\n",
              "  'openDt': '1995-02-18',\n",
              "  'salesAmt': '4212963',\n",
              "  'salesShare': '0.1',\n",
              "  'salesInten': '332178',\n",
              "  'salesChange': '8.6',\n",
              "  'salesAcc': '496944450',\n",
              "  'audiCnt': '560',\n",
              "  'audiInten': '25',\n",
              "  'audiChange': '4.7',\n",
              "  'audiAcc': '66461',\n",
              "  'scrnCnt': '41',\n",
              "  'showCnt': '46'},\n",
              " {'rnum': '10',\n",
              "  'rank': '10',\n",
              "  'rankInten': '5',\n",
              "  'rankOldAndNew': 'OLD',\n",
              "  'movieCd': '20248493',\n",
              "  'movieNm': '몬스터 프렌즈',\n",
              "  'openDt': '2024-04-25',\n",
              "  'salesAmt': '3577000',\n",
              "  'salesShare': '0.1',\n",
              "  'salesInten': '1857000',\n",
              "  'salesChange': '108',\n",
              "  'salesAcc': '67506195',\n",
              "  'audiCnt': '440',\n",
              "  'audiInten': '243',\n",
              "  'audiChange': '123.4',\n",
              "  'audiAcc': '8040',\n",
              "  'scrnCnt': '70',\n",
              "  'showCnt': '71'}]"
            ]
          },
          "metadata": {},
          "execution_count": 10
        }
      ]
    },
    {
      "cell_type": "code",
      "source": [
        "type(datas)"
      ],
      "metadata": {
        "colab": {
          "base_uri": "https://localhost:8080/"
        },
        "id": "dYlMV3GDjRc8",
        "outputId": "1921c345-ec5b-4e45-b4c7-5c9186197daf"
      },
      "execution_count": 11,
      "outputs": [
        {
          "output_type": "execute_result",
          "data": {
            "text/plain": [
              "list"
            ]
          },
          "metadata": {},
          "execution_count": 11
        }
      ]
    },
    {
      "cell_type": "code",
      "source": [
        "df = pd.DataFrame.from_dict(data=datas, orient='columns')\n",
        "df.head()"
      ],
      "metadata": {
        "colab": {
          "base_uri": "https://localhost:8080/",
          "height": 206
        },
        "id": "0Y-gyDVNFYB0",
        "outputId": "007a6c66-8fe8-48dc-a710-b89d0eea6cfe"
      },
      "execution_count": 12,
      "outputs": [
        {
          "output_type": "execute_result",
          "data": {
            "text/plain": [
              "  rnum rank rankInten rankOldAndNew   movieCd    movieNm      openDt  \\\n",
              "0    1    1         0           OLD  20228797      범죄도시4  2024-04-24   \n",
              "1    2    2         0           OLD  20236614      쿵푸팬더4  2024-04-10   \n",
              "2    3    3         0           OLD  20234675         파묘  2024-02-22   \n",
              "3    4    4         0           OLD  20249318       챌린저스  2024-04-24   \n",
              "4    5    5         0           OLD  20231677  남은 인생 10년  2023-05-24   \n",
              "\n",
              "     salesAmt salesShare salesInten salesChange      salesAcc audiCnt  \\\n",
              "0  3685037170       91.7  242933855         7.1   47572420854  390187   \n",
              "1    93710061        2.3   35580931        61.2   13125116365   10513   \n",
              "2    69334398        1.7   17538065        33.9  114630754046    7408   \n",
              "3    56848039        1.4   17880886        45.9     334431985    6069   \n",
              "4    44111292        1.1   17112868        63.4    4330960765    4514   \n",
              "\n",
              "  audiInten audiChange   audiAcc scrnCnt showCnt  \n",
              "0     28154        7.8   5005754    2819   15704  \n",
              "1      4065         63   1404601     529     869  \n",
              "2      1900       34.5  11860065     490     814  \n",
              "3      1945       47.2     35455     439     812  \n",
              "4      1787       65.5    425186     158     239  "
            ],
            "text/html": [
              "\n",
              "  <div id=\"df-d8ab3647-2d2f-4a49-9cbc-ba2611b19f00\" class=\"colab-df-container\">\n",
              "    <div>\n",
              "<style scoped>\n",
              "    .dataframe tbody tr th:only-of-type {\n",
              "        vertical-align: middle;\n",
              "    }\n",
              "\n",
              "    .dataframe tbody tr th {\n",
              "        vertical-align: top;\n",
              "    }\n",
              "\n",
              "    .dataframe thead th {\n",
              "        text-align: right;\n",
              "    }\n",
              "</style>\n",
              "<table border=\"1\" class=\"dataframe\">\n",
              "  <thead>\n",
              "    <tr style=\"text-align: right;\">\n",
              "      <th></th>\n",
              "      <th>rnum</th>\n",
              "      <th>rank</th>\n",
              "      <th>rankInten</th>\n",
              "      <th>rankOldAndNew</th>\n",
              "      <th>movieCd</th>\n",
              "      <th>movieNm</th>\n",
              "      <th>openDt</th>\n",
              "      <th>salesAmt</th>\n",
              "      <th>salesShare</th>\n",
              "      <th>salesInten</th>\n",
              "      <th>salesChange</th>\n",
              "      <th>salesAcc</th>\n",
              "      <th>audiCnt</th>\n",
              "      <th>audiInten</th>\n",
              "      <th>audiChange</th>\n",
              "      <th>audiAcc</th>\n",
              "      <th>scrnCnt</th>\n",
              "      <th>showCnt</th>\n",
              "    </tr>\n",
              "  </thead>\n",
              "  <tbody>\n",
              "    <tr>\n",
              "      <th>0</th>\n",
              "      <td>1</td>\n",
              "      <td>1</td>\n",
              "      <td>0</td>\n",
              "      <td>OLD</td>\n",
              "      <td>20228797</td>\n",
              "      <td>범죄도시4</td>\n",
              "      <td>2024-04-24</td>\n",
              "      <td>3685037170</td>\n",
              "      <td>91.7</td>\n",
              "      <td>242933855</td>\n",
              "      <td>7.1</td>\n",
              "      <td>47572420854</td>\n",
              "      <td>390187</td>\n",
              "      <td>28154</td>\n",
              "      <td>7.8</td>\n",
              "      <td>5005754</td>\n",
              "      <td>2819</td>\n",
              "      <td>15704</td>\n",
              "    </tr>\n",
              "    <tr>\n",
              "      <th>1</th>\n",
              "      <td>2</td>\n",
              "      <td>2</td>\n",
              "      <td>0</td>\n",
              "      <td>OLD</td>\n",
              "      <td>20236614</td>\n",
              "      <td>쿵푸팬더4</td>\n",
              "      <td>2024-04-10</td>\n",
              "      <td>93710061</td>\n",
              "      <td>2.3</td>\n",
              "      <td>35580931</td>\n",
              "      <td>61.2</td>\n",
              "      <td>13125116365</td>\n",
              "      <td>10513</td>\n",
              "      <td>4065</td>\n",
              "      <td>63</td>\n",
              "      <td>1404601</td>\n",
              "      <td>529</td>\n",
              "      <td>869</td>\n",
              "    </tr>\n",
              "    <tr>\n",
              "      <th>2</th>\n",
              "      <td>3</td>\n",
              "      <td>3</td>\n",
              "      <td>0</td>\n",
              "      <td>OLD</td>\n",
              "      <td>20234675</td>\n",
              "      <td>파묘</td>\n",
              "      <td>2024-02-22</td>\n",
              "      <td>69334398</td>\n",
              "      <td>1.7</td>\n",
              "      <td>17538065</td>\n",
              "      <td>33.9</td>\n",
              "      <td>114630754046</td>\n",
              "      <td>7408</td>\n",
              "      <td>1900</td>\n",
              "      <td>34.5</td>\n",
              "      <td>11860065</td>\n",
              "      <td>490</td>\n",
              "      <td>814</td>\n",
              "    </tr>\n",
              "    <tr>\n",
              "      <th>3</th>\n",
              "      <td>4</td>\n",
              "      <td>4</td>\n",
              "      <td>0</td>\n",
              "      <td>OLD</td>\n",
              "      <td>20249318</td>\n",
              "      <td>챌린저스</td>\n",
              "      <td>2024-04-24</td>\n",
              "      <td>56848039</td>\n",
              "      <td>1.4</td>\n",
              "      <td>17880886</td>\n",
              "      <td>45.9</td>\n",
              "      <td>334431985</td>\n",
              "      <td>6069</td>\n",
              "      <td>1945</td>\n",
              "      <td>47.2</td>\n",
              "      <td>35455</td>\n",
              "      <td>439</td>\n",
              "      <td>812</td>\n",
              "    </tr>\n",
              "    <tr>\n",
              "      <th>4</th>\n",
              "      <td>5</td>\n",
              "      <td>5</td>\n",
              "      <td>0</td>\n",
              "      <td>OLD</td>\n",
              "      <td>20231677</td>\n",
              "      <td>남은 인생 10년</td>\n",
              "      <td>2023-05-24</td>\n",
              "      <td>44111292</td>\n",
              "      <td>1.1</td>\n",
              "      <td>17112868</td>\n",
              "      <td>63.4</td>\n",
              "      <td>4330960765</td>\n",
              "      <td>4514</td>\n",
              "      <td>1787</td>\n",
              "      <td>65.5</td>\n",
              "      <td>425186</td>\n",
              "      <td>158</td>\n",
              "      <td>239</td>\n",
              "    </tr>\n",
              "  </tbody>\n",
              "</table>\n",
              "</div>\n",
              "    <div class=\"colab-df-buttons\">\n",
              "\n",
              "  <div class=\"colab-df-container\">\n",
              "    <button class=\"colab-df-convert\" onclick=\"convertToInteractive('df-d8ab3647-2d2f-4a49-9cbc-ba2611b19f00')\"\n",
              "            title=\"Convert this dataframe to an interactive table.\"\n",
              "            style=\"display:none;\">\n",
              "\n",
              "  <svg xmlns=\"http://www.w3.org/2000/svg\" height=\"24px\" viewBox=\"0 -960 960 960\">\n",
              "    <path d=\"M120-120v-720h720v720H120Zm60-500h600v-160H180v160Zm220 220h160v-160H400v160Zm0 220h160v-160H400v160ZM180-400h160v-160H180v160Zm440 0h160v-160H620v160ZM180-180h160v-160H180v160Zm440 0h160v-160H620v160Z\"/>\n",
              "  </svg>\n",
              "    </button>\n",
              "\n",
              "  <style>\n",
              "    .colab-df-container {\n",
              "      display:flex;\n",
              "      gap: 12px;\n",
              "    }\n",
              "\n",
              "    .colab-df-convert {\n",
              "      background-color: #E8F0FE;\n",
              "      border: none;\n",
              "      border-radius: 50%;\n",
              "      cursor: pointer;\n",
              "      display: none;\n",
              "      fill: #1967D2;\n",
              "      height: 32px;\n",
              "      padding: 0 0 0 0;\n",
              "      width: 32px;\n",
              "    }\n",
              "\n",
              "    .colab-df-convert:hover {\n",
              "      background-color: #E2EBFA;\n",
              "      box-shadow: 0px 1px 2px rgba(60, 64, 67, 0.3), 0px 1px 3px 1px rgba(60, 64, 67, 0.15);\n",
              "      fill: #174EA6;\n",
              "    }\n",
              "\n",
              "    .colab-df-buttons div {\n",
              "      margin-bottom: 4px;\n",
              "    }\n",
              "\n",
              "    [theme=dark] .colab-df-convert {\n",
              "      background-color: #3B4455;\n",
              "      fill: #D2E3FC;\n",
              "    }\n",
              "\n",
              "    [theme=dark] .colab-df-convert:hover {\n",
              "      background-color: #434B5C;\n",
              "      box-shadow: 0px 1px 3px 1px rgba(0, 0, 0, 0.15);\n",
              "      filter: drop-shadow(0px 1px 2px rgba(0, 0, 0, 0.3));\n",
              "      fill: #FFFFFF;\n",
              "    }\n",
              "  </style>\n",
              "\n",
              "    <script>\n",
              "      const buttonEl =\n",
              "        document.querySelector('#df-d8ab3647-2d2f-4a49-9cbc-ba2611b19f00 button.colab-df-convert');\n",
              "      buttonEl.style.display =\n",
              "        google.colab.kernel.accessAllowed ? 'block' : 'none';\n",
              "\n",
              "      async function convertToInteractive(key) {\n",
              "        const element = document.querySelector('#df-d8ab3647-2d2f-4a49-9cbc-ba2611b19f00');\n",
              "        const dataTable =\n",
              "          await google.colab.kernel.invokeFunction('convertToInteractive',\n",
              "                                                    [key], {});\n",
              "        if (!dataTable) return;\n",
              "\n",
              "        const docLinkHtml = 'Like what you see? Visit the ' +\n",
              "          '<a target=\"_blank\" href=https://colab.research.google.com/notebooks/data_table.ipynb>data table notebook</a>'\n",
              "          + ' to learn more about interactive tables.';\n",
              "        element.innerHTML = '';\n",
              "        dataTable['output_type'] = 'display_data';\n",
              "        await google.colab.output.renderOutput(dataTable, element);\n",
              "        const docLink = document.createElement('div');\n",
              "        docLink.innerHTML = docLinkHtml;\n",
              "        element.appendChild(docLink);\n",
              "      }\n",
              "    </script>\n",
              "  </div>\n",
              "\n",
              "\n",
              "<div id=\"df-0f0bebe9-1480-49e6-8580-4cf0ce672334\">\n",
              "  <button class=\"colab-df-quickchart\" onclick=\"quickchart('df-0f0bebe9-1480-49e6-8580-4cf0ce672334')\"\n",
              "            title=\"Suggest charts\"\n",
              "            style=\"display:none;\">\n",
              "\n",
              "<svg xmlns=\"http://www.w3.org/2000/svg\" height=\"24px\"viewBox=\"0 0 24 24\"\n",
              "     width=\"24px\">\n",
              "    <g>\n",
              "        <path d=\"M19 3H5c-1.1 0-2 .9-2 2v14c0 1.1.9 2 2 2h14c1.1 0 2-.9 2-2V5c0-1.1-.9-2-2-2zM9 17H7v-7h2v7zm4 0h-2V7h2v10zm4 0h-2v-4h2v4z\"/>\n",
              "    </g>\n",
              "</svg>\n",
              "  </button>\n",
              "\n",
              "<style>\n",
              "  .colab-df-quickchart {\n",
              "      --bg-color: #E8F0FE;\n",
              "      --fill-color: #1967D2;\n",
              "      --hover-bg-color: #E2EBFA;\n",
              "      --hover-fill-color: #174EA6;\n",
              "      --disabled-fill-color: #AAA;\n",
              "      --disabled-bg-color: #DDD;\n",
              "  }\n",
              "\n",
              "  [theme=dark] .colab-df-quickchart {\n",
              "      --bg-color: #3B4455;\n",
              "      --fill-color: #D2E3FC;\n",
              "      --hover-bg-color: #434B5C;\n",
              "      --hover-fill-color: #FFFFFF;\n",
              "      --disabled-bg-color: #3B4455;\n",
              "      --disabled-fill-color: #666;\n",
              "  }\n",
              "\n",
              "  .colab-df-quickchart {\n",
              "    background-color: var(--bg-color);\n",
              "    border: none;\n",
              "    border-radius: 50%;\n",
              "    cursor: pointer;\n",
              "    display: none;\n",
              "    fill: var(--fill-color);\n",
              "    height: 32px;\n",
              "    padding: 0;\n",
              "    width: 32px;\n",
              "  }\n",
              "\n",
              "  .colab-df-quickchart:hover {\n",
              "    background-color: var(--hover-bg-color);\n",
              "    box-shadow: 0 1px 2px rgba(60, 64, 67, 0.3), 0 1px 3px 1px rgba(60, 64, 67, 0.15);\n",
              "    fill: var(--button-hover-fill-color);\n",
              "  }\n",
              "\n",
              "  .colab-df-quickchart-complete:disabled,\n",
              "  .colab-df-quickchart-complete:disabled:hover {\n",
              "    background-color: var(--disabled-bg-color);\n",
              "    fill: var(--disabled-fill-color);\n",
              "    box-shadow: none;\n",
              "  }\n",
              "\n",
              "  .colab-df-spinner {\n",
              "    border: 2px solid var(--fill-color);\n",
              "    border-color: transparent;\n",
              "    border-bottom-color: var(--fill-color);\n",
              "    animation:\n",
              "      spin 1s steps(1) infinite;\n",
              "  }\n",
              "\n",
              "  @keyframes spin {\n",
              "    0% {\n",
              "      border-color: transparent;\n",
              "      border-bottom-color: var(--fill-color);\n",
              "      border-left-color: var(--fill-color);\n",
              "    }\n",
              "    20% {\n",
              "      border-color: transparent;\n",
              "      border-left-color: var(--fill-color);\n",
              "      border-top-color: var(--fill-color);\n",
              "    }\n",
              "    30% {\n",
              "      border-color: transparent;\n",
              "      border-left-color: var(--fill-color);\n",
              "      border-top-color: var(--fill-color);\n",
              "      border-right-color: var(--fill-color);\n",
              "    }\n",
              "    40% {\n",
              "      border-color: transparent;\n",
              "      border-right-color: var(--fill-color);\n",
              "      border-top-color: var(--fill-color);\n",
              "    }\n",
              "    60% {\n",
              "      border-color: transparent;\n",
              "      border-right-color: var(--fill-color);\n",
              "    }\n",
              "    80% {\n",
              "      border-color: transparent;\n",
              "      border-right-color: var(--fill-color);\n",
              "      border-bottom-color: var(--fill-color);\n",
              "    }\n",
              "    90% {\n",
              "      border-color: transparent;\n",
              "      border-bottom-color: var(--fill-color);\n",
              "    }\n",
              "  }\n",
              "</style>\n",
              "\n",
              "  <script>\n",
              "    async function quickchart(key) {\n",
              "      const quickchartButtonEl =\n",
              "        document.querySelector('#' + key + ' button');\n",
              "      quickchartButtonEl.disabled = true;  // To prevent multiple clicks.\n",
              "      quickchartButtonEl.classList.add('colab-df-spinner');\n",
              "      try {\n",
              "        const charts = await google.colab.kernel.invokeFunction(\n",
              "            'suggestCharts', [key], {});\n",
              "      } catch (error) {\n",
              "        console.error('Error during call to suggestCharts:', error);\n",
              "      }\n",
              "      quickchartButtonEl.classList.remove('colab-df-spinner');\n",
              "      quickchartButtonEl.classList.add('colab-df-quickchart-complete');\n",
              "    }\n",
              "    (() => {\n",
              "      let quickchartButtonEl =\n",
              "        document.querySelector('#df-0f0bebe9-1480-49e6-8580-4cf0ce672334 button');\n",
              "      quickchartButtonEl.style.display =\n",
              "        google.colab.kernel.accessAllowed ? 'block' : 'none';\n",
              "    })();\n",
              "  </script>\n",
              "</div>\n",
              "\n",
              "    </div>\n",
              "  </div>\n"
            ],
            "application/vnd.google.colaboratory.intrinsic+json": {
              "type": "dataframe",
              "variable_name": "df",
              "summary": "{\n  \"name\": \"df\",\n  \"rows\": 10,\n  \"fields\": [\n    {\n      \"column\": \"rnum\",\n      \"properties\": {\n        \"dtype\": \"string\",\n        \"num_unique_values\": 10,\n        \"samples\": [\n          \"9\",\n          \"2\",\n          \"6\"\n        ],\n        \"semantic_type\": \"\",\n        \"description\": \"\"\n      }\n    },\n    {\n      \"column\": \"rank\",\n      \"properties\": {\n        \"dtype\": \"string\",\n        \"num_unique_values\": 10,\n        \"samples\": [\n          \"9\",\n          \"2\",\n          \"6\"\n        ],\n        \"semantic_type\": \"\",\n        \"description\": \"\"\n      }\n    },\n    {\n      \"column\": \"rankInten\",\n      \"properties\": {\n        \"dtype\": \"string\",\n        \"num_unique_values\": 6,\n        \"samples\": [\n          \"0\",\n          \"16\",\n          \"5\"\n        ],\n        \"semantic_type\": \"\",\n        \"description\": \"\"\n      }\n    },\n    {\n      \"column\": \"rankOldAndNew\",\n      \"properties\": {\n        \"dtype\": \"category\",\n        \"num_unique_values\": 1,\n        \"samples\": [\n          \"OLD\"\n        ],\n        \"semantic_type\": \"\",\n        \"description\": \"\"\n      }\n    },\n    {\n      \"column\": \"movieCd\",\n      \"properties\": {\n        \"dtype\": \"string\",\n        \"num_unique_values\": 10,\n        \"samples\": [\n          \"19950095\"\n        ],\n        \"semantic_type\": \"\",\n        \"description\": \"\"\n      }\n    },\n    {\n      \"column\": \"movieNm\",\n      \"properties\": {\n        \"dtype\": \"string\",\n        \"num_unique_values\": 10,\n        \"samples\": [\n          \"\\ub808\\uc639 \"\n        ],\n        \"semantic_type\": \"\",\n        \"description\": \"\"\n      }\n    },\n    {\n      \"column\": \"openDt\",\n      \"properties\": {\n        \"dtype\": \"object\",\n        \"num_unique_values\": 9,\n        \"samples\": [\n          \"1995-02-18\"\n        ],\n        \"semantic_type\": \"\",\n        \"description\": \"\"\n      }\n    },\n    {\n      \"column\": \"salesAmt\",\n      \"properties\": {\n        \"dtype\": \"string\",\n        \"num_unique_values\": 10,\n        \"samples\": [\n          \"4212963\"\n        ],\n        \"semantic_type\": \"\",\n        \"description\": \"\"\n      }\n    },\n    {\n      \"column\": \"salesShare\",\n      \"properties\": {\n        \"dtype\": \"string\",\n        \"num_unique_values\": 7,\n        \"samples\": [\n          \"91.7\"\n        ],\n        \"semantic_type\": \"\",\n        \"description\": \"\"\n      }\n    },\n    {\n      \"column\": \"salesInten\",\n      \"properties\": {\n        \"dtype\": \"string\",\n        \"num_unique_values\": 10,\n        \"samples\": [\n          \"332178\"\n        ],\n        \"semantic_type\": \"\",\n        \"description\": \"\"\n      }\n    },\n    {\n      \"column\": \"salesChange\",\n      \"properties\": {\n        \"dtype\": \"string\",\n        \"num_unique_values\": 10,\n        \"samples\": [\n          \"8.6\"\n        ],\n        \"semantic_type\": \"\",\n        \"description\": \"\"\n      }\n    },\n    {\n      \"column\": \"salesAcc\",\n      \"properties\": {\n        \"dtype\": \"string\",\n        \"num_unique_values\": 10,\n        \"samples\": [\n          \"496944450\"\n        ],\n        \"semantic_type\": \"\",\n        \"description\": \"\"\n      }\n    },\n    {\n      \"column\": \"audiCnt\",\n      \"properties\": {\n        \"dtype\": \"string\",\n        \"num_unique_values\": 10,\n        \"samples\": [\n          \"560\"\n        ],\n        \"semantic_type\": \"\",\n        \"description\": \"\"\n      }\n    },\n    {\n      \"column\": \"audiInten\",\n      \"properties\": {\n        \"dtype\": \"string\",\n        \"num_unique_values\": 10,\n        \"samples\": [\n          \"25\"\n        ],\n        \"semantic_type\": \"\",\n        \"description\": \"\"\n      }\n    },\n    {\n      \"column\": \"audiChange\",\n      \"properties\": {\n        \"dtype\": \"string\",\n        \"num_unique_values\": 10,\n        \"samples\": [\n          \"4.7\"\n        ],\n        \"semantic_type\": \"\",\n        \"description\": \"\"\n      }\n    },\n    {\n      \"column\": \"audiAcc\",\n      \"properties\": {\n        \"dtype\": \"string\",\n        \"num_unique_values\": 10,\n        \"samples\": [\n          \"66461\"\n        ],\n        \"semantic_type\": \"\",\n        \"description\": \"\"\n      }\n    },\n    {\n      \"column\": \"scrnCnt\",\n      \"properties\": {\n        \"dtype\": \"string\",\n        \"num_unique_values\": 10,\n        \"samples\": [\n          \"41\"\n        ],\n        \"semantic_type\": \"\",\n        \"description\": \"\"\n      }\n    },\n    {\n      \"column\": \"showCnt\",\n      \"properties\": {\n        \"dtype\": \"string\",\n        \"num_unique_values\": 9,\n        \"samples\": [\n          \"7\"\n        ],\n        \"semantic_type\": \"\",\n        \"description\": \"\"\n      }\n    }\n  ]\n}"
            }
          },
          "metadata": {},
          "execution_count": 12
        }
      ]
    },
    {
      "cell_type": "code",
      "source": [
        "movie_df = df.loc[:, ['rank', 'movieNm', 'openDt', 'salesAmt']]\n",
        "movie_df"
      ],
      "metadata": {
        "colab": {
          "base_uri": "https://localhost:8080/",
          "height": 363
        },
        "id": "06eocX0iGUM1",
        "outputId": "23ac1683-4b1d-4bf3-b5fa-867290c316c1"
      },
      "execution_count": 13,
      "outputs": [
        {
          "output_type": "execute_result",
          "data": {
            "text/plain": [
              "  rank          movieNm      openDt    salesAmt\n",
              "0    1            범죄도시4  2024-04-24  3685037170\n",
              "1    2            쿵푸팬더4  2024-04-10    93710061\n",
              "2    3               파묘  2024-02-22    69334398\n",
              "3    4             챌린저스  2024-04-24    56848039\n",
              "4    5        남은 인생 10년  2023-05-24    44111292\n",
              "5    6  고스트버스터즈: 오싹한 뉴욕  2024-04-17     9042456\n",
              "6    7           듄: 파트2  2024-02-28     6489456\n",
              "7    8               소풍  2024-02-07     3725500\n",
              "8    9              레옹   1995-02-18     4212963\n",
              "9   10          몬스터 프렌즈  2024-04-25     3577000"
            ],
            "text/html": [
              "\n",
              "  <div id=\"df-ae36d143-d330-496e-8477-618d7be233f1\" class=\"colab-df-container\">\n",
              "    <div>\n",
              "<style scoped>\n",
              "    .dataframe tbody tr th:only-of-type {\n",
              "        vertical-align: middle;\n",
              "    }\n",
              "\n",
              "    .dataframe tbody tr th {\n",
              "        vertical-align: top;\n",
              "    }\n",
              "\n",
              "    .dataframe thead th {\n",
              "        text-align: right;\n",
              "    }\n",
              "</style>\n",
              "<table border=\"1\" class=\"dataframe\">\n",
              "  <thead>\n",
              "    <tr style=\"text-align: right;\">\n",
              "      <th></th>\n",
              "      <th>rank</th>\n",
              "      <th>movieNm</th>\n",
              "      <th>openDt</th>\n",
              "      <th>salesAmt</th>\n",
              "    </tr>\n",
              "  </thead>\n",
              "  <tbody>\n",
              "    <tr>\n",
              "      <th>0</th>\n",
              "      <td>1</td>\n",
              "      <td>범죄도시4</td>\n",
              "      <td>2024-04-24</td>\n",
              "      <td>3685037170</td>\n",
              "    </tr>\n",
              "    <tr>\n",
              "      <th>1</th>\n",
              "      <td>2</td>\n",
              "      <td>쿵푸팬더4</td>\n",
              "      <td>2024-04-10</td>\n",
              "      <td>93710061</td>\n",
              "    </tr>\n",
              "    <tr>\n",
              "      <th>2</th>\n",
              "      <td>3</td>\n",
              "      <td>파묘</td>\n",
              "      <td>2024-02-22</td>\n",
              "      <td>69334398</td>\n",
              "    </tr>\n",
              "    <tr>\n",
              "      <th>3</th>\n",
              "      <td>4</td>\n",
              "      <td>챌린저스</td>\n",
              "      <td>2024-04-24</td>\n",
              "      <td>56848039</td>\n",
              "    </tr>\n",
              "    <tr>\n",
              "      <th>4</th>\n",
              "      <td>5</td>\n",
              "      <td>남은 인생 10년</td>\n",
              "      <td>2023-05-24</td>\n",
              "      <td>44111292</td>\n",
              "    </tr>\n",
              "    <tr>\n",
              "      <th>5</th>\n",
              "      <td>6</td>\n",
              "      <td>고스트버스터즈: 오싹한 뉴욕</td>\n",
              "      <td>2024-04-17</td>\n",
              "      <td>9042456</td>\n",
              "    </tr>\n",
              "    <tr>\n",
              "      <th>6</th>\n",
              "      <td>7</td>\n",
              "      <td>듄: 파트2</td>\n",
              "      <td>2024-02-28</td>\n",
              "      <td>6489456</td>\n",
              "    </tr>\n",
              "    <tr>\n",
              "      <th>7</th>\n",
              "      <td>8</td>\n",
              "      <td>소풍</td>\n",
              "      <td>2024-02-07</td>\n",
              "      <td>3725500</td>\n",
              "    </tr>\n",
              "    <tr>\n",
              "      <th>8</th>\n",
              "      <td>9</td>\n",
              "      <td>레옹</td>\n",
              "      <td>1995-02-18</td>\n",
              "      <td>4212963</td>\n",
              "    </tr>\n",
              "    <tr>\n",
              "      <th>9</th>\n",
              "      <td>10</td>\n",
              "      <td>몬스터 프렌즈</td>\n",
              "      <td>2024-04-25</td>\n",
              "      <td>3577000</td>\n",
              "    </tr>\n",
              "  </tbody>\n",
              "</table>\n",
              "</div>\n",
              "    <div class=\"colab-df-buttons\">\n",
              "\n",
              "  <div class=\"colab-df-container\">\n",
              "    <button class=\"colab-df-convert\" onclick=\"convertToInteractive('df-ae36d143-d330-496e-8477-618d7be233f1')\"\n",
              "            title=\"Convert this dataframe to an interactive table.\"\n",
              "            style=\"display:none;\">\n",
              "\n",
              "  <svg xmlns=\"http://www.w3.org/2000/svg\" height=\"24px\" viewBox=\"0 -960 960 960\">\n",
              "    <path d=\"M120-120v-720h720v720H120Zm60-500h600v-160H180v160Zm220 220h160v-160H400v160Zm0 220h160v-160H400v160ZM180-400h160v-160H180v160Zm440 0h160v-160H620v160ZM180-180h160v-160H180v160Zm440 0h160v-160H620v160Z\"/>\n",
              "  </svg>\n",
              "    </button>\n",
              "\n",
              "  <style>\n",
              "    .colab-df-container {\n",
              "      display:flex;\n",
              "      gap: 12px;\n",
              "    }\n",
              "\n",
              "    .colab-df-convert {\n",
              "      background-color: #E8F0FE;\n",
              "      border: none;\n",
              "      border-radius: 50%;\n",
              "      cursor: pointer;\n",
              "      display: none;\n",
              "      fill: #1967D2;\n",
              "      height: 32px;\n",
              "      padding: 0 0 0 0;\n",
              "      width: 32px;\n",
              "    }\n",
              "\n",
              "    .colab-df-convert:hover {\n",
              "      background-color: #E2EBFA;\n",
              "      box-shadow: 0px 1px 2px rgba(60, 64, 67, 0.3), 0px 1px 3px 1px rgba(60, 64, 67, 0.15);\n",
              "      fill: #174EA6;\n",
              "    }\n",
              "\n",
              "    .colab-df-buttons div {\n",
              "      margin-bottom: 4px;\n",
              "    }\n",
              "\n",
              "    [theme=dark] .colab-df-convert {\n",
              "      background-color: #3B4455;\n",
              "      fill: #D2E3FC;\n",
              "    }\n",
              "\n",
              "    [theme=dark] .colab-df-convert:hover {\n",
              "      background-color: #434B5C;\n",
              "      box-shadow: 0px 1px 3px 1px rgba(0, 0, 0, 0.15);\n",
              "      filter: drop-shadow(0px 1px 2px rgba(0, 0, 0, 0.3));\n",
              "      fill: #FFFFFF;\n",
              "    }\n",
              "  </style>\n",
              "\n",
              "    <script>\n",
              "      const buttonEl =\n",
              "        document.querySelector('#df-ae36d143-d330-496e-8477-618d7be233f1 button.colab-df-convert');\n",
              "      buttonEl.style.display =\n",
              "        google.colab.kernel.accessAllowed ? 'block' : 'none';\n",
              "\n",
              "      async function convertToInteractive(key) {\n",
              "        const element = document.querySelector('#df-ae36d143-d330-496e-8477-618d7be233f1');\n",
              "        const dataTable =\n",
              "          await google.colab.kernel.invokeFunction('convertToInteractive',\n",
              "                                                    [key], {});\n",
              "        if (!dataTable) return;\n",
              "\n",
              "        const docLinkHtml = 'Like what you see? Visit the ' +\n",
              "          '<a target=\"_blank\" href=https://colab.research.google.com/notebooks/data_table.ipynb>data table notebook</a>'\n",
              "          + ' to learn more about interactive tables.';\n",
              "        element.innerHTML = '';\n",
              "        dataTable['output_type'] = 'display_data';\n",
              "        await google.colab.output.renderOutput(dataTable, element);\n",
              "        const docLink = document.createElement('div');\n",
              "        docLink.innerHTML = docLinkHtml;\n",
              "        element.appendChild(docLink);\n",
              "      }\n",
              "    </script>\n",
              "  </div>\n",
              "\n",
              "\n",
              "<div id=\"df-acd617ed-c7a3-488e-82b3-c07b67f3efce\">\n",
              "  <button class=\"colab-df-quickchart\" onclick=\"quickchart('df-acd617ed-c7a3-488e-82b3-c07b67f3efce')\"\n",
              "            title=\"Suggest charts\"\n",
              "            style=\"display:none;\">\n",
              "\n",
              "<svg xmlns=\"http://www.w3.org/2000/svg\" height=\"24px\"viewBox=\"0 0 24 24\"\n",
              "     width=\"24px\">\n",
              "    <g>\n",
              "        <path d=\"M19 3H5c-1.1 0-2 .9-2 2v14c0 1.1.9 2 2 2h14c1.1 0 2-.9 2-2V5c0-1.1-.9-2-2-2zM9 17H7v-7h2v7zm4 0h-2V7h2v10zm4 0h-2v-4h2v4z\"/>\n",
              "    </g>\n",
              "</svg>\n",
              "  </button>\n",
              "\n",
              "<style>\n",
              "  .colab-df-quickchart {\n",
              "      --bg-color: #E8F0FE;\n",
              "      --fill-color: #1967D2;\n",
              "      --hover-bg-color: #E2EBFA;\n",
              "      --hover-fill-color: #174EA6;\n",
              "      --disabled-fill-color: #AAA;\n",
              "      --disabled-bg-color: #DDD;\n",
              "  }\n",
              "\n",
              "  [theme=dark] .colab-df-quickchart {\n",
              "      --bg-color: #3B4455;\n",
              "      --fill-color: #D2E3FC;\n",
              "      --hover-bg-color: #434B5C;\n",
              "      --hover-fill-color: #FFFFFF;\n",
              "      --disabled-bg-color: #3B4455;\n",
              "      --disabled-fill-color: #666;\n",
              "  }\n",
              "\n",
              "  .colab-df-quickchart {\n",
              "    background-color: var(--bg-color);\n",
              "    border: none;\n",
              "    border-radius: 50%;\n",
              "    cursor: pointer;\n",
              "    display: none;\n",
              "    fill: var(--fill-color);\n",
              "    height: 32px;\n",
              "    padding: 0;\n",
              "    width: 32px;\n",
              "  }\n",
              "\n",
              "  .colab-df-quickchart:hover {\n",
              "    background-color: var(--hover-bg-color);\n",
              "    box-shadow: 0 1px 2px rgba(60, 64, 67, 0.3), 0 1px 3px 1px rgba(60, 64, 67, 0.15);\n",
              "    fill: var(--button-hover-fill-color);\n",
              "  }\n",
              "\n",
              "  .colab-df-quickchart-complete:disabled,\n",
              "  .colab-df-quickchart-complete:disabled:hover {\n",
              "    background-color: var(--disabled-bg-color);\n",
              "    fill: var(--disabled-fill-color);\n",
              "    box-shadow: none;\n",
              "  }\n",
              "\n",
              "  .colab-df-spinner {\n",
              "    border: 2px solid var(--fill-color);\n",
              "    border-color: transparent;\n",
              "    border-bottom-color: var(--fill-color);\n",
              "    animation:\n",
              "      spin 1s steps(1) infinite;\n",
              "  }\n",
              "\n",
              "  @keyframes spin {\n",
              "    0% {\n",
              "      border-color: transparent;\n",
              "      border-bottom-color: var(--fill-color);\n",
              "      border-left-color: var(--fill-color);\n",
              "    }\n",
              "    20% {\n",
              "      border-color: transparent;\n",
              "      border-left-color: var(--fill-color);\n",
              "      border-top-color: var(--fill-color);\n",
              "    }\n",
              "    30% {\n",
              "      border-color: transparent;\n",
              "      border-left-color: var(--fill-color);\n",
              "      border-top-color: var(--fill-color);\n",
              "      border-right-color: var(--fill-color);\n",
              "    }\n",
              "    40% {\n",
              "      border-color: transparent;\n",
              "      border-right-color: var(--fill-color);\n",
              "      border-top-color: var(--fill-color);\n",
              "    }\n",
              "    60% {\n",
              "      border-color: transparent;\n",
              "      border-right-color: var(--fill-color);\n",
              "    }\n",
              "    80% {\n",
              "      border-color: transparent;\n",
              "      border-right-color: var(--fill-color);\n",
              "      border-bottom-color: var(--fill-color);\n",
              "    }\n",
              "    90% {\n",
              "      border-color: transparent;\n",
              "      border-bottom-color: var(--fill-color);\n",
              "    }\n",
              "  }\n",
              "</style>\n",
              "\n",
              "  <script>\n",
              "    async function quickchart(key) {\n",
              "      const quickchartButtonEl =\n",
              "        document.querySelector('#' + key + ' button');\n",
              "      quickchartButtonEl.disabled = true;  // To prevent multiple clicks.\n",
              "      quickchartButtonEl.classList.add('colab-df-spinner');\n",
              "      try {\n",
              "        const charts = await google.colab.kernel.invokeFunction(\n",
              "            'suggestCharts', [key], {});\n",
              "      } catch (error) {\n",
              "        console.error('Error during call to suggestCharts:', error);\n",
              "      }\n",
              "      quickchartButtonEl.classList.remove('colab-df-spinner');\n",
              "      quickchartButtonEl.classList.add('colab-df-quickchart-complete');\n",
              "    }\n",
              "    (() => {\n",
              "      let quickchartButtonEl =\n",
              "        document.querySelector('#df-acd617ed-c7a3-488e-82b3-c07b67f3efce button');\n",
              "      quickchartButtonEl.style.display =\n",
              "        google.colab.kernel.accessAllowed ? 'block' : 'none';\n",
              "    })();\n",
              "  </script>\n",
              "</div>\n",
              "\n",
              "  <div id=\"id_c9803090-4b10-46e2-960e-af95538cec53\">\n",
              "    <style>\n",
              "      .colab-df-generate {\n",
              "        background-color: #E8F0FE;\n",
              "        border: none;\n",
              "        border-radius: 50%;\n",
              "        cursor: pointer;\n",
              "        display: none;\n",
              "        fill: #1967D2;\n",
              "        height: 32px;\n",
              "        padding: 0 0 0 0;\n",
              "        width: 32px;\n",
              "      }\n",
              "\n",
              "      .colab-df-generate:hover {\n",
              "        background-color: #E2EBFA;\n",
              "        box-shadow: 0px 1px 2px rgba(60, 64, 67, 0.3), 0px 1px 3px 1px rgba(60, 64, 67, 0.15);\n",
              "        fill: #174EA6;\n",
              "      }\n",
              "\n",
              "      [theme=dark] .colab-df-generate {\n",
              "        background-color: #3B4455;\n",
              "        fill: #D2E3FC;\n",
              "      }\n",
              "\n",
              "      [theme=dark] .colab-df-generate:hover {\n",
              "        background-color: #434B5C;\n",
              "        box-shadow: 0px 1px 3px 1px rgba(0, 0, 0, 0.15);\n",
              "        filter: drop-shadow(0px 1px 2px rgba(0, 0, 0, 0.3));\n",
              "        fill: #FFFFFF;\n",
              "      }\n",
              "    </style>\n",
              "    <button class=\"colab-df-generate\" onclick=\"generateWithVariable('movie_df')\"\n",
              "            title=\"Generate code using this dataframe.\"\n",
              "            style=\"display:none;\">\n",
              "\n",
              "  <svg xmlns=\"http://www.w3.org/2000/svg\" height=\"24px\"viewBox=\"0 0 24 24\"\n",
              "       width=\"24px\">\n",
              "    <path d=\"M7,19H8.4L18.45,9,17,7.55,7,17.6ZM5,21V16.75L18.45,3.32a2,2,0,0,1,2.83,0l1.4,1.43a1.91,1.91,0,0,1,.58,1.4,1.91,1.91,0,0,1-.58,1.4L9.25,21ZM18.45,9,17,7.55Zm-12,3A5.31,5.31,0,0,0,4.9,8.1,5.31,5.31,0,0,0,1,6.5,5.31,5.31,0,0,0,4.9,4.9,5.31,5.31,0,0,0,6.5,1,5.31,5.31,0,0,0,8.1,4.9,5.31,5.31,0,0,0,12,6.5,5.46,5.46,0,0,0,6.5,12Z\"/>\n",
              "  </svg>\n",
              "    </button>\n",
              "    <script>\n",
              "      (() => {\n",
              "      const buttonEl =\n",
              "        document.querySelector('#id_c9803090-4b10-46e2-960e-af95538cec53 button.colab-df-generate');\n",
              "      buttonEl.style.display =\n",
              "        google.colab.kernel.accessAllowed ? 'block' : 'none';\n",
              "\n",
              "      buttonEl.onclick = () => {\n",
              "        google.colab.notebook.generateWithVariable('movie_df');\n",
              "      }\n",
              "      })();\n",
              "    </script>\n",
              "  </div>\n",
              "\n",
              "    </div>\n",
              "  </div>\n"
            ],
            "application/vnd.google.colaboratory.intrinsic+json": {
              "type": "dataframe",
              "variable_name": "movie_df",
              "summary": "{\n  \"name\": \"movie_df\",\n  \"rows\": 10,\n  \"fields\": [\n    {\n      \"column\": \"rank\",\n      \"properties\": {\n        \"dtype\": \"string\",\n        \"num_unique_values\": 10,\n        \"samples\": [\n          \"9\",\n          \"2\",\n          \"6\"\n        ],\n        \"semantic_type\": \"\",\n        \"description\": \"\"\n      }\n    },\n    {\n      \"column\": \"movieNm\",\n      \"properties\": {\n        \"dtype\": \"string\",\n        \"num_unique_values\": 10,\n        \"samples\": [\n          \"\\ub808\\uc639 \",\n          \"\\ucff5\\ud478\\ud32c\\ub3544\",\n          \"\\uace0\\uc2a4\\ud2b8\\ubc84\\uc2a4\\ud130\\uc988: \\uc624\\uc2f9\\ud55c \\ub274\\uc695\"\n        ],\n        \"semantic_type\": \"\",\n        \"description\": \"\"\n      }\n    },\n    {\n      \"column\": \"openDt\",\n      \"properties\": {\n        \"dtype\": \"object\",\n        \"num_unique_values\": 9,\n        \"samples\": [\n          \"1995-02-18\",\n          \"2024-04-10\",\n          \"2024-02-28\"\n        ],\n        \"semantic_type\": \"\",\n        \"description\": \"\"\n      }\n    },\n    {\n      \"column\": \"salesAmt\",\n      \"properties\": {\n        \"dtype\": \"string\",\n        \"num_unique_values\": 10,\n        \"samples\": [\n          \"4212963\",\n          \"93710061\",\n          \"9042456\"\n        ],\n        \"semantic_type\": \"\",\n        \"description\": \"\"\n      }\n    }\n  ]\n}"
            }
          },
          "metadata": {},
          "execution_count": 13
        }
      ]
    },
    {
      "cell_type": "code",
      "source": [
        "movie_df.info()"
      ],
      "metadata": {
        "id": "YkwOA69TlCk-",
        "colab": {
          "base_uri": "https://localhost:8080/"
        },
        "outputId": "861a17e7-7975-43a3-f51d-2ed27d68c671"
      },
      "execution_count": null,
      "outputs": [
        {
          "output_type": "stream",
          "name": "stdout",
          "text": [
            "<class 'pandas.core.frame.DataFrame'>\n",
            "RangeIndex: 10 entries, 0 to 9\n",
            "Data columns (total 4 columns):\n",
            " #   Column    Non-Null Count  Dtype \n",
            "---  ------    --------------  ----- \n",
            " 0   rank      10 non-null     object\n",
            " 1   movieNm   10 non-null     object\n",
            " 2   openDt    10 non-null     object\n",
            " 3   salesAmt  10 non-null     object\n",
            "dtypes: object(4)\n",
            "memory usage: 448.0+ bytes\n"
          ]
        }
      ]
    },
    {
      "cell_type": "code",
      "source": [],
      "metadata": {
        "id": "2Rxiw3eS9-Ab"
      },
      "execution_count": null,
      "outputs": []
    },
    {
      "cell_type": "code",
      "source": [
        "movie_df['salesAmt'] = pd.to_numeric(movie_df['salesAmt'])#.apply('{:,}'.format)"
      ],
      "metadata": {
        "id": "WqNgWAvD9zBK"
      },
      "execution_count": null,
      "outputs": []
    },
    {
      "cell_type": "code",
      "source": [
        "movie_df.info()"
      ],
      "metadata": {
        "colab": {
          "base_uri": "https://localhost:8080/"
        },
        "id": "BR3l5GZF9556",
        "outputId": "c20ea7a2-29f7-4f51-fb22-1c7eafa7e567"
      },
      "execution_count": null,
      "outputs": [
        {
          "output_type": "stream",
          "name": "stdout",
          "text": [
            "<class 'pandas.core.frame.DataFrame'>\n",
            "RangeIndex: 10 entries, 0 to 9\n",
            "Data columns (total 4 columns):\n",
            " #   Column    Non-Null Count  Dtype \n",
            "---  ------    --------------  ----- \n",
            " 0   rank      10 non-null     object\n",
            " 1   movieNm   10 non-null     object\n",
            " 2   openDt    10 non-null     object\n",
            " 3   salesAmt  10 non-null     int64 \n",
            "dtypes: int64(1), object(3)\n",
            "memory usage: 448.0+ bytes\n"
          ]
        }
      ]
    },
    {
      "cell_type": "code",
      "source": [
        "movie_df"
      ],
      "metadata": {
        "colab": {
          "base_uri": "https://localhost:8080/",
          "height": 363
        },
        "id": "EMTlLlIt-A8z",
        "outputId": "2366620a-cda9-43cf-e459-a29fe1804875"
      },
      "execution_count": null,
      "outputs": [
        {
          "output_type": "execute_result",
          "data": {
            "text/plain": [
              "  rank    movieNm      openDt    salesAmt\n",
              "0    1      범죄도시4  2024-04-24  3441841315\n",
              "1    2      쿵푸팬더4  2024-04-10    58129130\n",
              "2    3         파묘  2024-02-22    51796333\n",
              "3    4       챌린저스  2024-04-24    38967153\n",
              "4    5  남은 인생 10년  2023-05-24    26998424\n",
              "5    6        레옹   1995-02-18     3880785\n",
              "6    7    그녀가 죽었다  2024-05-15     3969000\n",
              "7    8    땅에 쓰는 시  2024-04-17     3463300\n",
              "8    9     듄: 파트2  2024-02-28     3841568\n",
              "9   10    여행자의 필요  2024-04-24     3550300"
            ],
            "text/html": [
              "\n",
              "  <div id=\"df-f0e088fe-e8d1-42fc-bfef-5c92187e9a1f\" class=\"colab-df-container\">\n",
              "    <div>\n",
              "<style scoped>\n",
              "    .dataframe tbody tr th:only-of-type {\n",
              "        vertical-align: middle;\n",
              "    }\n",
              "\n",
              "    .dataframe tbody tr th {\n",
              "        vertical-align: top;\n",
              "    }\n",
              "\n",
              "    .dataframe thead th {\n",
              "        text-align: right;\n",
              "    }\n",
              "</style>\n",
              "<table border=\"1\" class=\"dataframe\">\n",
              "  <thead>\n",
              "    <tr style=\"text-align: right;\">\n",
              "      <th></th>\n",
              "      <th>rank</th>\n",
              "      <th>movieNm</th>\n",
              "      <th>openDt</th>\n",
              "      <th>salesAmt</th>\n",
              "    </tr>\n",
              "  </thead>\n",
              "  <tbody>\n",
              "    <tr>\n",
              "      <th>0</th>\n",
              "      <td>1</td>\n",
              "      <td>범죄도시4</td>\n",
              "      <td>2024-04-24</td>\n",
              "      <td>3441841315</td>\n",
              "    </tr>\n",
              "    <tr>\n",
              "      <th>1</th>\n",
              "      <td>2</td>\n",
              "      <td>쿵푸팬더4</td>\n",
              "      <td>2024-04-10</td>\n",
              "      <td>58129130</td>\n",
              "    </tr>\n",
              "    <tr>\n",
              "      <th>2</th>\n",
              "      <td>3</td>\n",
              "      <td>파묘</td>\n",
              "      <td>2024-02-22</td>\n",
              "      <td>51796333</td>\n",
              "    </tr>\n",
              "    <tr>\n",
              "      <th>3</th>\n",
              "      <td>4</td>\n",
              "      <td>챌린저스</td>\n",
              "      <td>2024-04-24</td>\n",
              "      <td>38967153</td>\n",
              "    </tr>\n",
              "    <tr>\n",
              "      <th>4</th>\n",
              "      <td>5</td>\n",
              "      <td>남은 인생 10년</td>\n",
              "      <td>2023-05-24</td>\n",
              "      <td>26998424</td>\n",
              "    </tr>\n",
              "    <tr>\n",
              "      <th>5</th>\n",
              "      <td>6</td>\n",
              "      <td>레옹</td>\n",
              "      <td>1995-02-18</td>\n",
              "      <td>3880785</td>\n",
              "    </tr>\n",
              "    <tr>\n",
              "      <th>6</th>\n",
              "      <td>7</td>\n",
              "      <td>그녀가 죽었다</td>\n",
              "      <td>2024-05-15</td>\n",
              "      <td>3969000</td>\n",
              "    </tr>\n",
              "    <tr>\n",
              "      <th>7</th>\n",
              "      <td>8</td>\n",
              "      <td>땅에 쓰는 시</td>\n",
              "      <td>2024-04-17</td>\n",
              "      <td>3463300</td>\n",
              "    </tr>\n",
              "    <tr>\n",
              "      <th>8</th>\n",
              "      <td>9</td>\n",
              "      <td>듄: 파트2</td>\n",
              "      <td>2024-02-28</td>\n",
              "      <td>3841568</td>\n",
              "    </tr>\n",
              "    <tr>\n",
              "      <th>9</th>\n",
              "      <td>10</td>\n",
              "      <td>여행자의 필요</td>\n",
              "      <td>2024-04-24</td>\n",
              "      <td>3550300</td>\n",
              "    </tr>\n",
              "  </tbody>\n",
              "</table>\n",
              "</div>\n",
              "    <div class=\"colab-df-buttons\">\n",
              "\n",
              "  <div class=\"colab-df-container\">\n",
              "    <button class=\"colab-df-convert\" onclick=\"convertToInteractive('df-f0e088fe-e8d1-42fc-bfef-5c92187e9a1f')\"\n",
              "            title=\"Convert this dataframe to an interactive table.\"\n",
              "            style=\"display:none;\">\n",
              "\n",
              "  <svg xmlns=\"http://www.w3.org/2000/svg\" height=\"24px\" viewBox=\"0 -960 960 960\">\n",
              "    <path d=\"M120-120v-720h720v720H120Zm60-500h600v-160H180v160Zm220 220h160v-160H400v160Zm0 220h160v-160H400v160ZM180-400h160v-160H180v160Zm440 0h160v-160H620v160ZM180-180h160v-160H180v160Zm440 0h160v-160H620v160Z\"/>\n",
              "  </svg>\n",
              "    </button>\n",
              "\n",
              "  <style>\n",
              "    .colab-df-container {\n",
              "      display:flex;\n",
              "      gap: 12px;\n",
              "    }\n",
              "\n",
              "    .colab-df-convert {\n",
              "      background-color: #E8F0FE;\n",
              "      border: none;\n",
              "      border-radius: 50%;\n",
              "      cursor: pointer;\n",
              "      display: none;\n",
              "      fill: #1967D2;\n",
              "      height: 32px;\n",
              "      padding: 0 0 0 0;\n",
              "      width: 32px;\n",
              "    }\n",
              "\n",
              "    .colab-df-convert:hover {\n",
              "      background-color: #E2EBFA;\n",
              "      box-shadow: 0px 1px 2px rgba(60, 64, 67, 0.3), 0px 1px 3px 1px rgba(60, 64, 67, 0.15);\n",
              "      fill: #174EA6;\n",
              "    }\n",
              "\n",
              "    .colab-df-buttons div {\n",
              "      margin-bottom: 4px;\n",
              "    }\n",
              "\n",
              "    [theme=dark] .colab-df-convert {\n",
              "      background-color: #3B4455;\n",
              "      fill: #D2E3FC;\n",
              "    }\n",
              "\n",
              "    [theme=dark] .colab-df-convert:hover {\n",
              "      background-color: #434B5C;\n",
              "      box-shadow: 0px 1px 3px 1px rgba(0, 0, 0, 0.15);\n",
              "      filter: drop-shadow(0px 1px 2px rgba(0, 0, 0, 0.3));\n",
              "      fill: #FFFFFF;\n",
              "    }\n",
              "  </style>\n",
              "\n",
              "    <script>\n",
              "      const buttonEl =\n",
              "        document.querySelector('#df-f0e088fe-e8d1-42fc-bfef-5c92187e9a1f button.colab-df-convert');\n",
              "      buttonEl.style.display =\n",
              "        google.colab.kernel.accessAllowed ? 'block' : 'none';\n",
              "\n",
              "      async function convertToInteractive(key) {\n",
              "        const element = document.querySelector('#df-f0e088fe-e8d1-42fc-bfef-5c92187e9a1f');\n",
              "        const dataTable =\n",
              "          await google.colab.kernel.invokeFunction('convertToInteractive',\n",
              "                                                    [key], {});\n",
              "        if (!dataTable) return;\n",
              "\n",
              "        const docLinkHtml = 'Like what you see? Visit the ' +\n",
              "          '<a target=\"_blank\" href=https://colab.research.google.com/notebooks/data_table.ipynb>data table notebook</a>'\n",
              "          + ' to learn more about interactive tables.';\n",
              "        element.innerHTML = '';\n",
              "        dataTable['output_type'] = 'display_data';\n",
              "        await google.colab.output.renderOutput(dataTable, element);\n",
              "        const docLink = document.createElement('div');\n",
              "        docLink.innerHTML = docLinkHtml;\n",
              "        element.appendChild(docLink);\n",
              "      }\n",
              "    </script>\n",
              "  </div>\n",
              "\n",
              "\n",
              "<div id=\"df-c8af38d7-e109-4b22-b7b6-518d1632eec9\">\n",
              "  <button class=\"colab-df-quickchart\" onclick=\"quickchart('df-c8af38d7-e109-4b22-b7b6-518d1632eec9')\"\n",
              "            title=\"Suggest charts\"\n",
              "            style=\"display:none;\">\n",
              "\n",
              "<svg xmlns=\"http://www.w3.org/2000/svg\" height=\"24px\"viewBox=\"0 0 24 24\"\n",
              "     width=\"24px\">\n",
              "    <g>\n",
              "        <path d=\"M19 3H5c-1.1 0-2 .9-2 2v14c0 1.1.9 2 2 2h14c1.1 0 2-.9 2-2V5c0-1.1-.9-2-2-2zM9 17H7v-7h2v7zm4 0h-2V7h2v10zm4 0h-2v-4h2v4z\"/>\n",
              "    </g>\n",
              "</svg>\n",
              "  </button>\n",
              "\n",
              "<style>\n",
              "  .colab-df-quickchart {\n",
              "      --bg-color: #E8F0FE;\n",
              "      --fill-color: #1967D2;\n",
              "      --hover-bg-color: #E2EBFA;\n",
              "      --hover-fill-color: #174EA6;\n",
              "      --disabled-fill-color: #AAA;\n",
              "      --disabled-bg-color: #DDD;\n",
              "  }\n",
              "\n",
              "  [theme=dark] .colab-df-quickchart {\n",
              "      --bg-color: #3B4455;\n",
              "      --fill-color: #D2E3FC;\n",
              "      --hover-bg-color: #434B5C;\n",
              "      --hover-fill-color: #FFFFFF;\n",
              "      --disabled-bg-color: #3B4455;\n",
              "      --disabled-fill-color: #666;\n",
              "  }\n",
              "\n",
              "  .colab-df-quickchart {\n",
              "    background-color: var(--bg-color);\n",
              "    border: none;\n",
              "    border-radius: 50%;\n",
              "    cursor: pointer;\n",
              "    display: none;\n",
              "    fill: var(--fill-color);\n",
              "    height: 32px;\n",
              "    padding: 0;\n",
              "    width: 32px;\n",
              "  }\n",
              "\n",
              "  .colab-df-quickchart:hover {\n",
              "    background-color: var(--hover-bg-color);\n",
              "    box-shadow: 0 1px 2px rgba(60, 64, 67, 0.3), 0 1px 3px 1px rgba(60, 64, 67, 0.15);\n",
              "    fill: var(--button-hover-fill-color);\n",
              "  }\n",
              "\n",
              "  .colab-df-quickchart-complete:disabled,\n",
              "  .colab-df-quickchart-complete:disabled:hover {\n",
              "    background-color: var(--disabled-bg-color);\n",
              "    fill: var(--disabled-fill-color);\n",
              "    box-shadow: none;\n",
              "  }\n",
              "\n",
              "  .colab-df-spinner {\n",
              "    border: 2px solid var(--fill-color);\n",
              "    border-color: transparent;\n",
              "    border-bottom-color: var(--fill-color);\n",
              "    animation:\n",
              "      spin 1s steps(1) infinite;\n",
              "  }\n",
              "\n",
              "  @keyframes spin {\n",
              "    0% {\n",
              "      border-color: transparent;\n",
              "      border-bottom-color: var(--fill-color);\n",
              "      border-left-color: var(--fill-color);\n",
              "    }\n",
              "    20% {\n",
              "      border-color: transparent;\n",
              "      border-left-color: var(--fill-color);\n",
              "      border-top-color: var(--fill-color);\n",
              "    }\n",
              "    30% {\n",
              "      border-color: transparent;\n",
              "      border-left-color: var(--fill-color);\n",
              "      border-top-color: var(--fill-color);\n",
              "      border-right-color: var(--fill-color);\n",
              "    }\n",
              "    40% {\n",
              "      border-color: transparent;\n",
              "      border-right-color: var(--fill-color);\n",
              "      border-top-color: var(--fill-color);\n",
              "    }\n",
              "    60% {\n",
              "      border-color: transparent;\n",
              "      border-right-color: var(--fill-color);\n",
              "    }\n",
              "    80% {\n",
              "      border-color: transparent;\n",
              "      border-right-color: var(--fill-color);\n",
              "      border-bottom-color: var(--fill-color);\n",
              "    }\n",
              "    90% {\n",
              "      border-color: transparent;\n",
              "      border-bottom-color: var(--fill-color);\n",
              "    }\n",
              "  }\n",
              "</style>\n",
              "\n",
              "  <script>\n",
              "    async function quickchart(key) {\n",
              "      const quickchartButtonEl =\n",
              "        document.querySelector('#' + key + ' button');\n",
              "      quickchartButtonEl.disabled = true;  // To prevent multiple clicks.\n",
              "      quickchartButtonEl.classList.add('colab-df-spinner');\n",
              "      try {\n",
              "        const charts = await google.colab.kernel.invokeFunction(\n",
              "            'suggestCharts', [key], {});\n",
              "      } catch (error) {\n",
              "        console.error('Error during call to suggestCharts:', error);\n",
              "      }\n",
              "      quickchartButtonEl.classList.remove('colab-df-spinner');\n",
              "      quickchartButtonEl.classList.add('colab-df-quickchart-complete');\n",
              "    }\n",
              "    (() => {\n",
              "      let quickchartButtonEl =\n",
              "        document.querySelector('#df-c8af38d7-e109-4b22-b7b6-518d1632eec9 button');\n",
              "      quickchartButtonEl.style.display =\n",
              "        google.colab.kernel.accessAllowed ? 'block' : 'none';\n",
              "    })();\n",
              "  </script>\n",
              "</div>\n",
              "\n",
              "  <div id=\"id_ad940700-00d8-4401-a80b-f87135fda5a1\">\n",
              "    <style>\n",
              "      .colab-df-generate {\n",
              "        background-color: #E8F0FE;\n",
              "        border: none;\n",
              "        border-radius: 50%;\n",
              "        cursor: pointer;\n",
              "        display: none;\n",
              "        fill: #1967D2;\n",
              "        height: 32px;\n",
              "        padding: 0 0 0 0;\n",
              "        width: 32px;\n",
              "      }\n",
              "\n",
              "      .colab-df-generate:hover {\n",
              "        background-color: #E2EBFA;\n",
              "        box-shadow: 0px 1px 2px rgba(60, 64, 67, 0.3), 0px 1px 3px 1px rgba(60, 64, 67, 0.15);\n",
              "        fill: #174EA6;\n",
              "      }\n",
              "\n",
              "      [theme=dark] .colab-df-generate {\n",
              "        background-color: #3B4455;\n",
              "        fill: #D2E3FC;\n",
              "      }\n",
              "\n",
              "      [theme=dark] .colab-df-generate:hover {\n",
              "        background-color: #434B5C;\n",
              "        box-shadow: 0px 1px 3px 1px rgba(0, 0, 0, 0.15);\n",
              "        filter: drop-shadow(0px 1px 2px rgba(0, 0, 0, 0.3));\n",
              "        fill: #FFFFFF;\n",
              "      }\n",
              "    </style>\n",
              "    <button class=\"colab-df-generate\" onclick=\"generateWithVariable('movie_df')\"\n",
              "            title=\"Generate code using this dataframe.\"\n",
              "            style=\"display:none;\">\n",
              "\n",
              "  <svg xmlns=\"http://www.w3.org/2000/svg\" height=\"24px\"viewBox=\"0 0 24 24\"\n",
              "       width=\"24px\">\n",
              "    <path d=\"M7,19H8.4L18.45,9,17,7.55,7,17.6ZM5,21V16.75L18.45,3.32a2,2,0,0,1,2.83,0l1.4,1.43a1.91,1.91,0,0,1,.58,1.4,1.91,1.91,0,0,1-.58,1.4L9.25,21ZM18.45,9,17,7.55Zm-12,3A5.31,5.31,0,0,0,4.9,8.1,5.31,5.31,0,0,0,1,6.5,5.31,5.31,0,0,0,4.9,4.9,5.31,5.31,0,0,0,6.5,1,5.31,5.31,0,0,0,8.1,4.9,5.31,5.31,0,0,0,12,6.5,5.46,5.46,0,0,0,6.5,12Z\"/>\n",
              "  </svg>\n",
              "    </button>\n",
              "    <script>\n",
              "      (() => {\n",
              "      const buttonEl =\n",
              "        document.querySelector('#id_ad940700-00d8-4401-a80b-f87135fda5a1 button.colab-df-generate');\n",
              "      buttonEl.style.display =\n",
              "        google.colab.kernel.accessAllowed ? 'block' : 'none';\n",
              "\n",
              "      buttonEl.onclick = () => {\n",
              "        google.colab.notebook.generateWithVariable('movie_df');\n",
              "      }\n",
              "      })();\n",
              "    </script>\n",
              "  </div>\n",
              "\n",
              "    </div>\n",
              "  </div>\n"
            ],
            "application/vnd.google.colaboratory.intrinsic+json": {
              "type": "dataframe",
              "variable_name": "movie_df",
              "summary": "{\n  \"name\": \"movie_df\",\n  \"rows\": 10,\n  \"fields\": [\n    {\n      \"column\": \"rank\",\n      \"properties\": {\n        \"dtype\": \"string\",\n        \"num_unique_values\": 10,\n        \"samples\": [\n          \"9\",\n          \"2\",\n          \"6\"\n        ],\n        \"semantic_type\": \"\",\n        \"description\": \"\"\n      }\n    },\n    {\n      \"column\": \"movieNm\",\n      \"properties\": {\n        \"dtype\": \"string\",\n        \"num_unique_values\": 10,\n        \"samples\": [\n          \"\\ub4c4: \\ud30c\\ud2b82\",\n          \"\\ucff5\\ud478\\ud32c\\ub3544\",\n          \"\\ub808\\uc639 \"\n        ],\n        \"semantic_type\": \"\",\n        \"description\": \"\"\n      }\n    },\n    {\n      \"column\": \"openDt\",\n      \"properties\": {\n        \"dtype\": \"object\",\n        \"num_unique_values\": 8,\n        \"samples\": [\n          \"2024-04-10\",\n          \"2024-05-15\",\n          \"2024-04-24\"\n        ],\n        \"semantic_type\": \"\",\n        \"description\": \"\"\n      }\n    },\n    {\n      \"column\": \"salesAmt\",\n      \"properties\": {\n        \"dtype\": \"number\",\n        \"std\": 1081782653,\n        \"min\": 3463300,\n        \"max\": 3441841315,\n        \"num_unique_values\": 10,\n        \"samples\": [\n          3841568,\n          58129130,\n          3880785\n        ],\n        \"semantic_type\": \"\",\n        \"description\": \"\"\n      }\n    }\n  ]\n}"
            }
          },
          "metadata": {},
          "execution_count": 75
        }
      ]
    },
    {
      "cell_type": "code",
      "source": [],
      "metadata": {
        "id": "a22mL8Rl-RDj"
      },
      "execution_count": null,
      "outputs": []
    }
  ]
}
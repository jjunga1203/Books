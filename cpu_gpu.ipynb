{
  "nbformat": 4,
  "nbformat_minor": 0,
  "metadata": {
    "colab": {
      "provenance": [],
      "gpuType": "T4",
      "authorship_tag": "ABX9TyNoK14J4EF5REQPnnld18F5",
      "include_colab_link": true
    },
    "kernelspec": {
      "name": "python3",
      "display_name": "Python 3"
    },
    "language_info": {
      "name": "python"
    },
    "accelerator": "GPU"
  },
  "cells": [
    {
      "cell_type": "markdown",
      "metadata": {
        "id": "view-in-github",
        "colab_type": "text"
      },
      "source": [
        "<a href=\"https://colab.research.google.com/github/jjunga1203/Books/blob/master/cpu_gpu.ipynb\" target=\"_parent\"><img src=\"https://colab.research.google.com/assets/colab-badge.svg\" alt=\"Open In Colab\"/></a>"
      ]
    },
    {
      "cell_type": "markdown",
      "source": [
        "# 첫번째 수업입니다."
      ],
      "metadata": {
        "id": "S2m-d2tXWZ2K"
      }
    },
    {
      "cell_type": "code",
      "execution_count": null,
      "metadata": {
        "id": "iLMI3Z81VoMx"
      },
      "outputs": [],
      "source": []
    },
    {
      "cell_type": "code",
      "source": [
        "from google.colab import drive\n",
        "drive.mount('/content/drive')"
      ],
      "metadata": {
        "colab": {
          "base_uri": "https://localhost:8080/"
        },
        "id": "7NhgmjWqX00I",
        "outputId": "7fe1e5a1-08a5-47f9-a435-869163e1fc0e"
      },
      "execution_count": 1,
      "outputs": [
        {
          "output_type": "stream",
          "name": "stdout",
          "text": [
            "Mounted at /content/drive\n"
          ]
        }
      ]
    },
    {
      "cell_type": "code",
      "source": [
        "ls"
      ],
      "metadata": {
        "colab": {
          "base_uri": "https://localhost:8080/"
        },
        "id": "dyryYHsuXqbA",
        "outputId": "81db43d0-a738-4738-a7ee-c74dd6d3b924"
      },
      "execution_count": 2,
      "outputs": [
        {
          "output_type": "stream",
          "name": "stdout",
          "text": [
            "\u001b[0m\u001b[01;34mdrive\u001b[0m/  \u001b[01;34msample_data\u001b[0m/\n"
          ]
        }
      ]
    },
    {
      "cell_type": "code",
      "source": [
        "ls ./drive/"
      ],
      "metadata": {
        "colab": {
          "base_uri": "https://localhost:8080/"
        },
        "id": "-1J-nKg9XqeX",
        "outputId": "2f790384-4323-43e6-fb14-fc7bd08f67c2"
      },
      "execution_count": 3,
      "outputs": [
        {
          "output_type": "stream",
          "name": "stdout",
          "text": [
            "\u001b[0m\u001b[01;34mMyDrive\u001b[0m/\n"
          ]
        }
      ]
    },
    {
      "cell_type": "code",
      "source": [
        "ls ./drive/MyDrive/"
      ],
      "metadata": {
        "colab": {
          "base_uri": "https://localhost:8080/"
        },
        "id": "GWBHLrJ5Xqhn",
        "outputId": "6b3afa92-1634-47a7-d378-6776de7833a0"
      },
      "execution_count": 5,
      "outputs": [
        {
          "output_type": "stream",
          "name": "stdout",
          "text": [
            " aepython.7z              My가계부.gsheet                      빅데이터_머신러닝.gdoc\n",
            " \u001b[0m\u001b[01;34majax\u001b[0m/                    sbert.ipynb                          빅데이터-미니프로젝트.gdoc\n",
            " \u001b[01;34mappsheet\u001b[0m/                \u001b[01;34mtest\u001b[0m/                               \u001b[01;34m'빅데이터 수업'\u001b[0m\u001b[K/\n",
            " AppSheetExample.gsheet  '강북살사_회원정보&출석체크.gsheet'  '빅데이터 수업 시간표(수정).xlsx'\n",
            " \u001b[01;34mClassroom\u001b[0m/               \u001b[01;34m개인용\u001b[0m/                              빅데이터_알고리즘.gdoc\n",
            "\u001b[01;34m'Colab Notebooks'\u001b[0m/       '데이터분석 수업.gsheet'              빅데이터_파이썬기초.gdoc\n",
            " \u001b[01;34mdata\u001b[0m/                    독서기록App.gsheet                   빅분기_필기_요약.pdf\n",
            " front_back.gdoc         '빅데이터_final prj (권태현).gdoc'   '제목 없는 스프레드시트.gsheet'\n",
            " git_github.gdoc          빅데이터_데이터베이스.gdoc           최희정_출석부.pdf\n",
            " label.csv                빅데이터_딥러닝.gdoc\n"
          ]
        }
      ]
    },
    {
      "cell_type": "code",
      "source": [
        "import tensorflow as tf\n",
        "import timeit\n",
        "import numpy as np"
      ],
      "metadata": {
        "id": "hG_jppAoXqlP"
      },
      "execution_count": 9,
      "outputs": []
    },
    {
      "cell_type": "code",
      "source": [
        "tf.test.gpu_device_name()"
      ],
      "metadata": {
        "colab": {
          "base_uri": "https://localhost:8080/",
          "height": 35
        },
        "id": "dDTICn2EYLqx",
        "outputId": "2c012945-b161-4930-e1f0-20651830bd8b"
      },
      "execution_count": 10,
      "outputs": [
        {
          "output_type": "execute_result",
          "data": {
            "text/plain": [
              "'/device:GPU:0'"
            ],
            "application/vnd.google.colaboratory.intrinsic+json": {
              "type": "string"
            }
          },
          "metadata": {},
          "execution_count": 10
        }
      ]
    },
    {
      "cell_type": "code",
      "source": [
        "!nvidia-smi"
      ],
      "metadata": {
        "colab": {
          "base_uri": "https://localhost:8080/"
        },
        "id": "XjxS_e24YLtw",
        "outputId": "65c71359-abb7-439c-fa0c-129a373323d9"
      },
      "execution_count": 11,
      "outputs": [
        {
          "output_type": "stream",
          "name": "stdout",
          "text": [
            "Mon Apr 29 01:10:23 2024       \n",
            "+---------------------------------------------------------------------------------------+\n",
            "| NVIDIA-SMI 535.104.05             Driver Version: 535.104.05   CUDA Version: 12.2     |\n",
            "|-----------------------------------------+----------------------+----------------------+\n",
            "| GPU  Name                 Persistence-M | Bus-Id        Disp.A | Volatile Uncorr. ECC |\n",
            "| Fan  Temp   Perf          Pwr:Usage/Cap |         Memory-Usage | GPU-Util  Compute M. |\n",
            "|                                         |                      |               MIG M. |\n",
            "|=========================================+======================+======================|\n",
            "|   0  Tesla T4                       Off | 00000000:00:04.0 Off |                    0 |\n",
            "| N/A   43C    P0              25W /  70W |    103MiB / 15360MiB |      0%      Default |\n",
            "|                                         |                      |                  N/A |\n",
            "+-----------------------------------------+----------------------+----------------------+\n",
            "                                                                                         \n",
            "+---------------------------------------------------------------------------------------+\n",
            "| Processes:                                                                            |\n",
            "|  GPU   GI   CI        PID   Type   Process name                            GPU Memory |\n",
            "|        ID   ID                                                             Usage      |\n",
            "|=======================================================================================|\n",
            "+---------------------------------------------------------------------------------------+\n"
          ]
        }
      ]
    },
    {
      "cell_type": "code",
      "source": [
        "!head -n 18 /proc/cpuinfo"
      ],
      "metadata": {
        "colab": {
          "base_uri": "https://localhost:8080/"
        },
        "id": "qcmRBV0gYLwp",
        "outputId": "f6a9da62-f17a-4efd-b2ae-3b9ab60d9311"
      },
      "execution_count": 13,
      "outputs": [
        {
          "output_type": "stream",
          "name": "stdout",
          "text": [
            "processor\t: 0\n",
            "vendor_id\t: GenuineIntel\n",
            "cpu family\t: 6\n",
            "model\t\t: 63\n",
            "model name\t: Intel(R) Xeon(R) CPU @ 2.30GHz\n",
            "stepping\t: 0\n",
            "microcode\t: 0xffffffff\n",
            "cpu MHz\t\t: 2299.998\n",
            "cache size\t: 46080 KB\n",
            "physical id\t: 0\n",
            "siblings\t: 2\n",
            "core id\t\t: 0\n",
            "cpu cores\t: 1\n",
            "apicid\t\t: 0\n",
            "initial apicid\t: 0\n",
            "fpu\t\t: yes\n",
            "fpu_exception\t: yes\n",
            "cpuid level\t: 13\n"
          ]
        }
      ]
    },
    {
      "cell_type": "code",
      "source": [
        "!head /proc/meminfo"
      ],
      "metadata": {
        "colab": {
          "base_uri": "https://localhost:8080/"
        },
        "id": "sZucvx59YLzh",
        "outputId": "5fc74c26-25dc-4840-92f3-78a5823fd0fa"
      },
      "execution_count": 14,
      "outputs": [
        {
          "output_type": "stream",
          "name": "stdout",
          "text": [
            "MemTotal:       13290480 kB\n",
            "MemFree:         7450696 kB\n",
            "MemAvailable:   11550968 kB\n",
            "Buffers:          366232 kB\n",
            "Cached:          3934128 kB\n",
            "SwapCached:            0 kB\n",
            "Active:           782360 kB\n",
            "Inactive:        4632584 kB\n",
            "Active(anon):       1620 kB\n",
            "Inactive(anon):  1126064 kB\n"
          ]
        }
      ]
    },
    {
      "cell_type": "code",
      "source": [
        "def cpu() :\n",
        "  with tf.device('/cpu:0'):\n",
        "    random_image_cpu = tf.random.normal((100, 100, 100, 3))\n",
        "    net_cpu = tf.keras.layers.Conv2D(32, 7)(random_image_cpu)\n",
        "\n",
        "def gpu() :\n",
        "  with tf.device('/device:GPU:0'):\n",
        "    random_image_gpu = tf.random.normal((100, 100, 100, 3))\n",
        "    net_gpu = tf.keras.layers.Conv2D(32, 7)(random_image_gpu)"
      ],
      "metadata": {
        "id": "kdyf6DOpXqoA"
      },
      "execution_count": 17,
      "outputs": []
    },
    {
      "cell_type": "code",
      "source": [
        "cpu_time = []\n",
        "for i in range(30):\n",
        "  cpu_time.append(timeit.timeit('cpu()', number = 10, setup=\"from __main__ import cpu\"))"
      ],
      "metadata": {
        "id": "xbdUG5AoXqsW"
      },
      "execution_count": 35,
      "outputs": []
    },
    {
      "cell_type": "code",
      "source": [
        "print(cpu_time)"
      ],
      "metadata": {
        "colab": {
          "base_uri": "https://localhost:8080/"
        },
        "id": "aS8pKwxoerHq",
        "outputId": "8b57064a-a684-403b-9e4b-bba73dd8c69f"
      },
      "execution_count": 36,
      "outputs": [
        {
          "output_type": "stream",
          "name": "stdout",
          "text": [
            "[5.01973899099994, 3.7917002819999652, 3.553419737999775, 3.842070243999842, 4.9894182990001354, 3.586364035000315, 3.599350263999895, 5.114953263000189, 3.6841355139999905, 3.565020818999983, 4.158481895000023, 4.598767038000005, 3.5224012600001515, 3.565293534000375, 5.156256673999906, 3.487124042999767, 3.5055279379998865, 4.342902516999857, 4.433755896000093, 3.5133961359997556, 3.4677299519998996, 5.040794746999836, 3.424255964999702, 3.513111790000039, 3.782715258999815, 4.754124164000132, 3.5641723659996387, 3.559729207000146, 5.084165050000138, 3.474164380000275]\n"
          ]
        }
      ]
    },
    {
      "cell_type": "code",
      "source": [
        "gpu_time_list = []\n",
        "for i in range(30):\n",
        "  gpu_time_list.append(timeit.timeit('gpu()', number = 10, setup=\"from __main__ import gpu\"))"
      ],
      "metadata": {
        "id": "carbrmFyg4Zg"
      },
      "execution_count": 45,
      "outputs": []
    },
    {
      "cell_type": "code",
      "source": [
        "print(gpu_time_list)\n",
        "print(f'mean: {np.mean(gpu_time_list)}')"
      ],
      "metadata": {
        "colab": {
          "base_uri": "https://localhost:8080/"
        },
        "id": "IuUfe3MzhAQw",
        "outputId": "3b10fd05-4a5a-4951-88b7-fba76cb9c71e"
      },
      "execution_count": 46,
      "outputs": [
        {
          "output_type": "stream",
          "name": "stdout",
          "text": [
            "[0.10255928700007644, 0.09898638799995751, 0.09849456599977202, 0.08837531100016349, 0.08175203500013595, 0.07952930900000865, 0.07601870799999233, 0.0800119230002565, 0.07489014400016458, 0.07533076700019592, 0.07376252899985047, 0.07400549800013323, 0.07508335800002897, 0.07501079300027413, 0.07771843999989869, 0.07523481299995183, 0.07684319100007997, 0.07365424999989045, 0.07651893499996731, 0.07524425099973087, 0.07856392799976675, 0.07499143900031413, 0.07609792199991716, 0.08034254499989402, 0.07443764299978284, 0.07813535600007526, 0.07334360200002266, 0.07548398800008727, 0.0762277579997317, 0.0751095859995985]\n",
            "mean: 0.07905860876665732\n"
          ]
        }
      ]
    },
    {
      "cell_type": "code",
      "source": [
        "def cpu() :\n",
        "  random_image_cpu = tf.random.normal((100, 100, 100, 3))\n",
        "  net_cpu = tf.keras.layers.Conv2D(32, 7)(random_image_cpu)\n",
        "\n",
        "def gpu() :\n",
        "  random_image_gpu = tf.random.normal((100, 100, 100, 3))\n",
        "  net_gpu = tf.keras.layers.Conv2D(32, 7)(random_image_gpu)"
      ],
      "metadata": {
        "id": "Z83gXA0yhDSg"
      },
      "execution_count": 47,
      "outputs": []
    },
    {
      "cell_type": "code",
      "source": [
        "cpu_time = []\n",
        "for i in range(30):\n",
        "  cpu_time.append(timeit.timeit('cpu()', number = 10, setup=\"from __main__ import cpu\"))"
      ],
      "metadata": {
        "id": "MApJUGC5j6fP"
      },
      "execution_count": 48,
      "outputs": []
    },
    {
      "cell_type": "code",
      "source": [
        "gpu_time_list = []\n",
        "for i in range(30):\n",
        "  gpu_time_list.append(timeit.timeit('gpu()', number = 10, setup=\"from __main__ import gpu\"))"
      ],
      "metadata": {
        "id": "AmnZcHcmj6id"
      },
      "execution_count": 49,
      "outputs": []
    },
    {
      "cell_type": "code",
      "source": [
        "gpu_time_list\n",
        "print(f'mean: {np.mean(gpu_time_list)}')"
      ],
      "metadata": {
        "colab": {
          "base_uri": "https://localhost:8080/"
        },
        "id": "eXfOf5vHj6o-",
        "outputId": "d04b163f-7352-4097-b253-d5db2eb649d5"
      },
      "execution_count": 51,
      "outputs": [
        {
          "output_type": "stream",
          "name": "stdout",
          "text": [
            "mean: 0.08604215326671086\n"
          ]
        }
      ]
    },
    {
      "cell_type": "code",
      "source": [],
      "metadata": {
        "id": "8Kcaj0N8j6sX"
      },
      "execution_count": null,
      "outputs": []
    },
    {
      "cell_type": "markdown",
      "source": [
        "### 농장에 소, 닭\n",
        "### 총 머릿수 : 20, 총 다릿수 56\n",
        "### 닭, 소 마릿수"
      ],
      "metadata": {
        "id": "LwQFkMjK6urT"
      }
    },
    {
      "cell_type": "code",
      "source": [
        "# 머릿수/ 다릿수를 받아서 두 동물의 마릿수 리턴\n",
        "def get_cnt(face_cnt, lag_cnt):\n",
        "  y = lag_cnt/2 - face_cnt\n",
        "\n",
        "  return int(y), int(face_cnt - y)\n",
        "\n",
        "cow_cnt, chick_cnt = get_cnt(20, 56)\n",
        "print(f'소: {cow_cnt}마리, 닭 : {chick_cnt}마리')"
      ],
      "metadata": {
        "colab": {
          "base_uri": "https://localhost:8080/"
        },
        "id": "rzo7GMm8j6vu",
        "outputId": "b2808e69-99e5-4927-b91e-608085865e96"
      },
      "execution_count": 2,
      "outputs": [
        {
          "output_type": "stream",
          "name": "stdout",
          "text": [
            "소: 8마리, 닭 : 12마리\n"
          ]
        }
      ]
    },
    {
      "cell_type": "code",
      "source": [
        "# 머릿수/ 다릿수를 받아서 두 동물의 마릿수 리턴\n",
        "def brute_force_algorithm(head, leg):\n",
        "  ''' x :다리 4개인 동물,   y : 다리 2개인 동물 수'''\n",
        "\n",
        "  for x in range(head+1):\n",
        "    y = head - x\n",
        "    if 4 * x + 2 * y == leg:\n",
        "      return x, y\n",
        "  return(none, none)\n",
        "\n",
        "total_head = 20\n",
        "total_leg = 56\n",
        "(cows, chickens) = brute_force_algorithm(total_head, total_leg)\n",
        "\n",
        "print(f'소: {cows}마리, 닭: {chickens}마리')\n"
      ],
      "metadata": {
        "colab": {
          "base_uri": "https://localhost:8080/"
        },
        "id": "oMfDVxsQj6y7",
        "outputId": "dc0de44f-a1a1-4b45-94a9-886d50108440"
      },
      "execution_count": 19,
      "outputs": [
        {
          "output_type": "stream",
          "name": "stdout",
          "text": [
            "소: 8마리, 닭: 12마리\n"
          ]
        }
      ]
    },
    {
      "cell_type": "code",
      "source": [
        "# 머릿수/ 다릿수를 받아서 두 동물의 마릿수 리턴\n",
        "def barnyard():\n",
        "  ''' x :다리 4개인 동물,   y : 다리 2개인 동물 수'''\n",
        "\n",
        "  total_head = int(input('Enter number of heads: '))\n",
        "  total_leg = int(input('Enter number of legs: '))\n",
        "  (cows, chickens) = brute_force_algorithm(total_head, total_leg)\n",
        "\n",
        "  if chickens:\n",
        "    print('Number of chickens : ', chickens)\n",
        "    print('Number of cows : ', cows)\n",
        "  else:\n",
        "    print('There is no solution')\n",
        "\n",
        "\n"
      ],
      "metadata": {
        "id": "Yy3B5YOgj62Z"
      },
      "execution_count": 20,
      "outputs": []
    },
    {
      "cell_type": "code",
      "source": [
        "barnyard()"
      ],
      "metadata": {
        "colab": {
          "base_uri": "https://localhost:8080/"
        },
        "id": "yzINRx5ijx0m",
        "outputId": "54bf9ca3-c3d6-4a5e-b53a-33aea32b5d05"
      },
      "execution_count": 21,
      "outputs": [
        {
          "output_type": "stream",
          "name": "stdout",
          "text": [
            "Enter number of heads: 8\n",
            "Enter number of legs: 20\n",
            "Number of chickens :  6\n",
            "Number of cows :  2\n"
          ]
        }
      ]
    },
    {
      "cell_type": "code",
      "source": [
        "def get_3times_answer(cnt):\n",
        "  answer = []\n",
        "  for i in range(cnt):\n",
        "    for j in range(cnt):\n",
        "      for m in range(cnt):\n",
        "        if m == i or m == j:\n",
        "          continue\n",
        "\n",
        "        for n in range(cnt):\n",
        "          if n == i or n == j:\n",
        "            continue\n",
        "          if i*i*i + j*j*j == m*m*m + n*n*n:\n",
        "            # print('결과:', i*i*i + j*j*j, ' ', i, j, m, n)\n",
        "            answer.append([i*i*i + j*j*j, i, j, m, j])\n",
        "\n",
        "  return answer\n",
        "\n",
        "  def solution():\n",
        "    cnt = int(input('Enter the max number: '))\n",
        "    get_3times_answer(cnt)\n",
        "\n"
      ],
      "metadata": {
        "id": "yO0hzEZ3g0Qa"
      },
      "execution_count": 27,
      "outputs": []
    },
    {
      "cell_type": "code",
      "source": [
        "get_3times_answer(30)"
      ],
      "metadata": {
        "colab": {
          "base_uri": "https://localhost:8080/"
        },
        "id": "HSb0C_XKhlrR",
        "outputId": "78928756-c1a0-4db2-999c-7457fac802e3"
      },
      "execution_count": 28,
      "outputs": [
        {
          "output_type": "execute_result",
          "data": {
            "text/plain": [
              "[[1729, 1, 12, 9, 12],\n",
              " [1729, 1, 12, 10, 12],\n",
              " [4104, 2, 16, 9, 16],\n",
              " [4104, 2, 16, 15, 16],\n",
              " [13832, 2, 24, 18, 24],\n",
              " [13832, 2, 24, 20, 24],\n",
              " [1729, 9, 10, 1, 10],\n",
              " [1729, 9, 10, 12, 10],\n",
              " [4104, 9, 15, 2, 15],\n",
              " [4104, 9, 15, 16, 15],\n",
              " [1729, 10, 9, 1, 9],\n",
              " [1729, 10, 9, 12, 9],\n",
              " [20683, 10, 27, 19, 27],\n",
              " [20683, 10, 27, 24, 27],\n",
              " [1729, 12, 1, 9, 1],\n",
              " [1729, 12, 1, 10, 1],\n",
              " [4104, 15, 9, 2, 9],\n",
              " [4104, 15, 9, 16, 9],\n",
              " [4104, 16, 2, 9, 2],\n",
              " [4104, 16, 2, 15, 2],\n",
              " [13832, 18, 20, 2, 20],\n",
              " [13832, 18, 20, 24, 20],\n",
              " [20683, 19, 24, 10, 24],\n",
              " [20683, 19, 24, 27, 24],\n",
              " [13832, 20, 18, 2, 18],\n",
              " [13832, 20, 18, 24, 18],\n",
              " [13832, 24, 2, 18, 2],\n",
              " [13832, 24, 2, 20, 2],\n",
              " [20683, 24, 19, 10, 19],\n",
              " [20683, 24, 19, 27, 19],\n",
              " [20683, 27, 10, 19, 10],\n",
              " [20683, 27, 10, 24, 10]]"
            ]
          },
          "metadata": {},
          "execution_count": 28
        }
      ]
    },
    {
      "cell_type": "code",
      "source": [
        "%run client.py"
      ],
      "metadata": {
        "colab": {
          "base_uri": "https://localhost:8080/"
        },
        "id": "vbYl7P2Xhlun",
        "outputId": "916bad39-b21a-4651-8156-242256e7a29a"
      },
      "execution_count": 29,
      "outputs": [
        {
          "output_type": "stream",
          "name": "stdout",
          "text": [
            "Enter number of heads: 20\n",
            "Enter number of legs: 56\n",
            "Number of chickens :  12\n",
            "Number of cows :  8\n"
          ]
        }
      ]
    },
    {
      "cell_type": "code",
      "source": [
        "pwd"
      ],
      "metadata": {
        "colab": {
          "base_uri": "https://localhost:8080/",
          "height": 35
        },
        "id": "qjF48wCzwx3h",
        "outputId": "ff343c0f-813b-4878-a9de-71f320f797d2"
      },
      "execution_count": 31,
      "outputs": [
        {
          "output_type": "execute_result",
          "data": {
            "text/plain": [
              "'/content'"
            ],
            "application/vnd.google.colaboratory.intrinsic+json": {
              "type": "string"
            }
          },
          "metadata": {},
          "execution_count": 31
        }
      ]
    },
    {
      "cell_type": "markdown",
      "source": [
        "### 가상 환경 만들기\n",
        "\n",
        "1. conda env list : 기존 가상환경 목록 출력\n",
        "2. conda create -n strweb python=3.10\n",
        "  - conda create -n strweb python=3.10 ipython\n",
        "   pandas numpy matplotlib scikit-learn\n",
        "  tensorflow keras\n",
        "3. conda activate strweb\n",
        "4. conda deactivate\n"
      ],
      "metadata": {
        "id": "9lWqBSxx1gp_"
      }
    },
    {
      "cell_type": "code",
      "source": [],
      "metadata": {
        "id": "fyXgoVSVwwE4"
      },
      "execution_count": 32,
      "outputs": []
    },
    {
      "cell_type": "code",
      "source": [],
      "metadata": {
        "id": "G1E49jOb1eI_"
      },
      "execution_count": null,
      "outputs": []
    }
  ]
}